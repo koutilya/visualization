{
 "cells": [
  {
   "cell_type": "code",
   "execution_count": 41,
   "metadata": {
    "collapsed": true
   },
   "outputs": [],
   "source": [
    "import requests\n",
    "from bs4 import BeautifulSoup as bs\n",
    "import pandas as pd\n",
    "import numpy as np\n",
    "import codecs\n",
    "import time"
   ]
  },
  {
   "cell_type": "code",
   "execution_count": 43,
   "metadata": {},
   "outputs": [
    {
     "name": "stdout",
     "output_type": "stream",
     "text": [
      "0-xaSaraWasya puwraH nAmnA rAmaH\n",
      "\n",
      "1-kRewragAminA varwmanA gacCanwaM yAwrikaM apaSyaw\n",
      "\n",
      "2-janasya kalyANAya yawamAnena rAmeNa AwmA kleSaM upAnIyawa\n",
      "\n",
      "3-SrIReNasya rAjFaH mahiRI sUryaM canxraM ca AwmanaH uwsafgavarwinO svapne apaSyaw\n",
      "\n",
      "4-jagawA kutumbinaM manyawe AwmAnaM sAXuH\n",
      "\n",
      "5-huwaBujA xagXaM araNyaM apaSyan nalaH\n",
      "\n",
      "6-hemnaH saMlakRyawe hi agnO viSuxXiH SyAmikA api vA\n",
      "\n",
      "7-saMxehe sawAM anwaHkaraNasya pravqwwayaH pramANam\n",
      "\n",
      "8-piwarO prasIxawam\n",
      "\n",
      "9-piwarO prasIxawam\n",
      "\n",
      "10-ciwwaM svAsWyaM laBawAm\n",
      "\n",
      "11-bAhvoH balena pqWvIM ajayaw\n",
      "\n",
      "12-guruByaH SiRyasya na vinayaM kaWayAmi\n",
      "\n",
      "13-nAryAH kabaryAH puRpe asraMsewAm\n",
      "\n",
      "14-raWyAyAM janAnAM samUhaM EkRAmahi\n",
      "\n",
      "15-miwrANAM aByuxaye narAH moxanwe\n",
      "\n",
      "16-pApAH na vacanIyaM IkRanwe\n",
      "\n",
      "17-sawyaM hiwakaraM ca vAkyaM BARanwe prajFAH\n",
      "\n",
      "18-gAyakAw saMgIwaM SikRAvahe\n",
      "\n",
      "19-saKyoH paramaH snehaH SakunwalAyAH\n",
      "\n",
      "20-gafgAyAH purI kroSO\n",
      "\n",
      "21-vApI nagarAw kroSO\n",
      "\n",
      "22-pAxena KaFjaH\n",
      "\n",
      "23-wileByaH prawiyacCawi mARAn\n",
      "\n",
      "24-nagaraM vanAw yojanam aswi\n",
      "\n",
      "25-xvArakAM aXyURuRaH janasya saMpaxaH manasaH api aBUmiH aBavan\n",
      "\n",
      "26-guNAH pUjA-sWAnaM guNiRu na ca lifgaM na ca vayaH\n",
      "\n",
      "27-kEkeyyAH xAruNaM vacaH SruwvA mahArAjaH xaSaraWaH sahasA BUmO apawaw niSceRtaH ca aBavaw\n",
      "\n"
     ]
    }
   ],
   "source": [
    "fr = open(\"workdata/GOLD_SENT_WITH_POS/kAraka_viBakwi_sents_GOLD_complex.txt\",'r')\n",
    "fw = open(\"data/sansk.txt\",'w')\n",
    "i = 0;\n",
    "for line in fr.readlines() :\n",
    "    if line.startswith( 'SENT: '):\n",
    "#         print(line)\n",
    "        print(str(i)+\"-\"+line[6 : ])\n",
    "        fw.writelines(str(i)+\"-\"+line[6 : ])\n",
    "        i = i+1\n",
    "fr.close()\n",
    "fw.close()\n",
    "# fr = open(\"data/sansk.txt\",'r')\n",
    "# print(fr.readlines())\n",
    "# fr.close()"
   ]
  },
  {
   "cell_type": "code",
   "execution_count": null,
   "metadata": {
    "collapsed": true
   },
   "outputs": [],
   "source": []
  },
  {
   "cell_type": "code",
   "execution_count": null,
   "metadata": {
    "collapsed": true
   },
   "outputs": [],
   "source": []
  }
 ],
 "metadata": {
  "kernelspec": {
   "display_name": "Python 3",
   "language": "python",
   "name": "python3"
  },
  "language_info": {
   "codemirror_mode": {
    "name": "ipython",
    "version": 3
   },
   "file_extension": ".py",
   "mimetype": "text/x-python",
   "name": "python",
   "nbconvert_exporter": "python",
   "pygments_lexer": "ipython3",
   "version": "3.6.3"
  }
 },
 "nbformat": 4,
 "nbformat_minor": 2
}
