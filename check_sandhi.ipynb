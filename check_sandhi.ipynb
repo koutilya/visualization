{
 "cells": [
  {
   "cell_type": "code",
   "execution_count": 260,
   "metadata": {},
   "outputs": [
    {
     "data": {
      "text/plain": [
       "['',\n",
       " 'C:\\\\anaconda\\\\python36.zip',\n",
       " 'C:\\\\anaconda\\\\DLLs',\n",
       " 'C:\\\\anaconda\\\\lib',\n",
       " 'C:\\\\anaconda',\n",
       " 'C:\\\\anaconda\\\\lib\\\\site-packages',\n",
       " 'C:\\\\anaconda\\\\lib\\\\site-packages\\\\Babel-2.5.0-py3.6.egg',\n",
       " 'C:\\\\anaconda\\\\lib\\\\site-packages\\\\win32',\n",
       " 'C:\\\\anaconda\\\\lib\\\\site-packages\\\\win32\\\\lib',\n",
       " 'C:\\\\anaconda\\\\lib\\\\site-packages\\\\Pythonwin',\n",
       " 'C:\\\\anaconda\\\\lib\\\\site-packages\\\\IPython\\\\extensions',\n",
       " 'C:\\\\Users\\\\k.l.s.koutilya varma\\\\.ipython']"
      ]
     },
     "execution_count": 260,
     "metadata": {},
     "output_type": "execute_result"
    }
   ],
   "source": [
    "import requests\n",
    "from bs4 import BeautifulSoup as bs\n",
    "import pandas as pd\n",
    "import numpy as np\n",
    "import codecs\n",
    "import time\n",
    "import re\n",
    "import os\n",
    "from IPython.display import display, HTML\n",
    "from difflib import SequenceMatcher\n",
    "import sys\n",
    "sys.path "
   ]
  },
  {
   "cell_type": "code",
   "execution_count": 261,
   "metadata": {},
   "outputs": [],
   "source": [
    "# sys.path.append('/sanskrit_transcoder')\n",
    "# import transcoder\n"
   ]
  },
  {
   "cell_type": "code",
   "execution_count": 262,
   "metadata": {},
   "outputs": [],
   "source": [
    "\n",
    "import importlib.util\n",
    "spec = importlib.util.spec_from_file_location(\"module.name\",\"sanskrit_transcoder/transcoder.py\")\n",
    "transcoder = importlib.util.module_from_spec(spec)\n",
    "spec.loader.exec_module(transcoder)\n",
    "transcoder.transcoder_set_dir('sanskrit_transcoder/data/transcoder');"
   ]
  },
  {
   "cell_type": "code",
   "execution_count": 263,
   "metadata": {},
   "outputs": [],
   "source": [
    "names = [\"workdata/lines_submit/correct_lines/sorteddata/\",\"workdata/lines_submit/wrong_lines/sorteddata/\"]\n",
    "\n",
    "# fnames = os.listdir(\"workdata/lines_submit/correct_lines/sorteddata/\")\n",
    "for name in names :\n",
    "    fnames = os.listdir(name)\n",
    "    for fname in fnames:\n",
    "        if fname == \".ipynb_checkpoints\":\n",
    "            continue\n",
    "#         print(fname+\"/dataframe.txt\")\n",
    "        with open(name+fname+\"/input_line.txt\",encoding = 'utf-8' ,mode ='r') as fr :\n",
    "            lines = fr.readlines()\n",
    "        for line in lines :\n",
    "            if(line.startswith(\"converted line : \")) :\n",
    "                line1 = line[17:]\n",
    "                break\n",
    "        chunkwords = line1.split(\"\\xa0\")\n",
    "#         print(chunkwords)\n",
    "        df = pd.read_csv(name+fname+\"/dataframe.txt\",encoding = 'utf-8' ,sep = ',')\n",
    "        cf = pd.read_csv(name+fname+\"/conflicts.csv\",encoding = 'utf-8' ,sep = ',')\n",
    "        df['word_slp1'] = df['word']\n",
    "        for i in df.index:\n",
    "            df.loc[i,'word_slp1']   =  transcoder.transcoder_processString(df.loc[i,'word'],'roman','slp1')\n",
    "        df['sandhi_indexs'] = \"\"\n",
    "        df['sandhi_words'] = \"\"\n",
    "        for i in df.index : \n",
    "            word1 = df.loc[i,'word_slp1']\n",
    "            chunkno = df.loc[i,'chunk_no']\n",
    "            position1 =  df.loc[i,'position']\n",
    "            level = df.loc[i,'level']\n",
    "            color1 = df.loc[i,'color_class']\n",
    "            clspan1 = df.loc[i,'colspan']\n",
    "            chunkword = transcoder.transcoder_processString(chunkwords[chunkno-1],'roman','slp1')\n",
    "            df1 = df.loc[(df['chunk_no'] == chunkno) & (df['level']!=level)]\n",
    "            for j in df1.index :\n",
    "                if (cf.loc[i,str(j)] != 1) and (cf.loc[i,str(j)] != 0):\n",
    "                    cf.loc[i,str(j)] = 2\n",
    "                position2 = df1.loc[j,'position']\n",
    "                color2 = df.loc[i,'color_class']\n",
    "                word2 = df1.loc[j,'word_slp1']\n",
    "                word3 = df1.loc[j,'word']\n",
    "                if(position2 == position1 + clspan1-1) and (clspan1!=1):\n",
    "                    if((color1=='yellow_back') and (color2=='carmin_back'))  :    ## check color\n",
    "                        continue\n",
    "                    if((color2=='yellow_back') and (color1=='carmin_back'))  :    ## check color\n",
    "                        continue\n",
    "                    if(len(s.loc[(s['c1']==word1[-1:] )& (s['c2']==word2[:1])])):\n",
    "                        \n",
    "                        x=s.loc[(s['c1']==word1[-1:] )& (s['c2']==word2[:1])]\n",
    "                        for c3 in x['c3']:\n",
    "                            mergeword = word1[:-1] + c3 + word2[1:]\n",
    "#                             print(mergeword+\"---\"+chunkword)\n",
    "                            if(re.findall(mergeword,chunkword)):\n",
    "                                df.loc[i,'sandhi_indexs'] += str(j)+\", \"\n",
    "                                df.loc[i,'sandhi_words'] += word3+\"(\"+word2+\"), \"\n",
    "                                cf.loc[i,str(j)] = 1                             ## merge pssible so change conflict\n",
    "                                cf.loc[j,str(i)] = 1   \n",
    "#                                 print(cf.loc[i,str(j)])\n",
    "                                break\n",
    "                    elif(word1[-1:]=='H'):\n",
    "                        if(len(s.loc[(s['c1']==word1[-2:] )& (s['c2']==word2[:1])])):\n",
    "                        \n",
    "                            x=s.loc[(s['c1']==word1[-2:] )& (s['c2']==word2[:1])]\n",
    "                            for c3 in x['c3']:\n",
    "                                mergeword = word1[:-1] + c3 + word2[1:]\n",
    "                                if(re.findall(mergeword,chunkword)):             \n",
    "                                    df.loc[i,'sandhi_indexs'] += str(j)+\", \"\n",
    "                                    df.loc[i,'sandhi_words'] += word3+\"(\"+word2+\"), \"\n",
    "                                    cf.loc[i,str(j)] = 1                        ## merge pssible so change conflict\n",
    "                                    cf.loc[j,str(i)] = 1 \n",
    "                                    break\n",
    "                elif(position2 > position1 + clspan1-1) :\n",
    "                    cf.loc[i,str(j)] = 0\n",
    "                    cf.loc[j,str(i)] = 0\n",
    "        \n",
    "        df.to_csv(name+fname+\"/dataframe_withsandhi.txt\" ,encoding = 'utf-8' , sep=',',index = False,mode = 'w' )\n",
    "        \n",
    "        \n",
    "        for i in df.index :\n",
    "            chunkno = df.loc[i,'chunk_no']\n",
    "            position1 =  df.loc[i,'position']\n",
    "            level = df.loc[i,'level']\n",
    "            color1 = df.loc[i,'color_class']\n",
    "            clspan1 = df.loc[i,'colspan']\n",
    "            df1 = df.loc[(df['chunk_no'] != chunkno)]\n",
    "            for j in df1.index :\n",
    "                cf.loc[i,str(j)] = 0\n",
    "            df1 = df.loc[(df['level']==level) & (df['chunk_no'] == chunkno)]\n",
    "            for j in df1.index :\n",
    "                cf.loc[i,str(j)] = 0\n",
    "\n",
    "        cf.to_csv(name+fname+\"/conflicts.csv\" ,encoding = 'utf-8' , sep=',',index = False,mode = 'w' )               \n",
    "                        \n",
    "#         break\n",
    "#     break\n",
    "# print(name+fname+\"/dataframe_withsandhi.txt\")"
   ]
  },
  {
   "cell_type": "code",
   "execution_count": 285,
   "metadata": {},
   "outputs": [],
   "source": [
    "names = [\"workdata/lines_submit/correct_lines/sorteddata/\",\"workdata/lines_submit/wrong_lines/sorteddata/\"]\n",
    "\n",
    "os.makedirs('workdata/lines_submit/analasys/', exist_ok=True)\n",
    "\n",
    "pbwords = []\n",
    "\n",
    "clinefolder = []\n",
    "wlinefolder = []\n",
    "                  \n",
    "for name in names : \n",
    "    fnames = os.listdir(name)\n",
    "    for fname in fnames:\n",
    "        if fname == \".ipynb_checkpoints\":\n",
    "            continue\n",
    "        if(name == names[1]):\n",
    "            \n",
    "            with open(name+fname+\"/problem_words.txt\",encoding = 'utf-8' ,mode ='r') as fr :\n",
    "                c =1\n",
    "                for line in fr.readlines() :\n",
    "                    if c==1 :\n",
    "                        c=0\n",
    "                        continue\n",
    "#                     if not line[:-1] in pbwords :\n",
    "                    pbwords.append(line[:-1])\n",
    "        \n",
    "        cf = pd.read_csv(name+fname+\"/conflicts.csv\",encoding = 'utf-8' ,sep = ',')\n",
    "        bl = 0\n",
    "        for i in range(0,len(cf)):\n",
    "            for j in range(0,len(cf)):\n",
    "                if not cf.loc[i,str(j)]==0:\n",
    "                    bl=1\n",
    "        if(bl == 0):\n",
    "            if(name==names[0]):\n",
    "                clinefolder.append(name+fname)\n",
    "            else :\n",
    "                wlinefolder.append(name+fname)\n",
    "    if(name==names[0]):\n",
    "        with open(\"workdata/lines_submit/analasys/correctlines_noconflics_folders.txt\",encoding = 'utf-8' ,mode ='w') as fw :\n",
    "            fw.writelines(\"\\n\".join(clinefolder))\n",
    "    else :\n",
    "        with open(\"workdata/lines_submit/analasys/wronglines_noconflics_folders.txt\",encoding = 'utf-8' ,mode ='w') as fw :\n",
    "            fw.writelines(\"\\n\".join(wlinefolder))\n",
    "os.makedirs('workdata/lines_submit/analasys/', exist_ok=True)\n",
    "with open(\"workdata/lines_submit/analasys/undifined_words.txt\",encoding = 'utf-8' ,mode ='w') as fw :\n",
    "    fw.writelines(\"\\n\".join(pbwords))\n",
    "                         "
   ]
  },
  {
   "cell_type": "code",
   "execution_count": 282,
   "metadata": {},
   "outputs": [],
   "source": [
    "with open(\"workdata/lines_submit/analasys/undifined_words.txt\",encoding = 'utf-8' ,mode ='r') as fr :\n",
    "    pbwords = fr.readlines()\n",
    "pf = pd.DataFrame(index=range(0,1))\n",
    "for pbw in pbwords:\n",
    "    pf[pbw[:-1]] = 0\n",
    "for pbw in pbwords:\n",
    "    pf[pbw[:-1]] += 1\n",
    "pf.to_csv(\"workdata/lines_submit/analasys/undifined_wordsfreaquency.csv\",encoding = 'utf-8' , sep=',',index = False,mode = 'w' ) "
   ]
  },
  {
   "cell_type": "code",
   "execution_count": 286,
   "metadata": {},
   "outputs": [
    {
     "data": {
      "text/plain": [
       "1137"
      ]
     },
     "execution_count": 286,
     "metadata": {},
     "output_type": "execute_result"
    }
   ],
   "source": [
    "len(pbwords\n",
    "   )"
   ]
  },
  {
   "cell_type": "code",
   "execution_count": 187,
   "metadata": {},
   "outputs": [],
   "source": [
    "for name in names :\n",
    "    fnames = os.listdir(name)\n",
    "    for fname in fnames:\n",
    "        if fname == \".ipynb_checkpoints\":\n",
    "            continue\n",
    "        df1 = pd.read_csv(name+fname+\"/dataframe.txt\",encoding = 'utf-8' ,sep = ',')\n",
    "        df2 = df1 = pd.read_csv(name+fname+\"/dataframe_withsandhi.txt\",encoding = 'utf-8' ,sep = ',')\n",
    "        df1.to_csv(name+fname+\"/dataframe.csv\" ,encoding = 'utf-8' , sep=',',index = False,mode = 'w' )\n",
    "        df2.to_csv(name+fname+\"/dataframe_withsandhi.csv\" ,encoding = 'utf-8' , sep=',',index = False,mode = 'w' )"
   ]
  },
  {
   "cell_type": "code",
   "execution_count": 250,
   "metadata": {},
   "outputs": [],
   "source": [
    "# ##conflictor\n",
    "# ##0-no conflic,1-can merge,2-conflicts\n",
    "# df = df = pd.read_csv(name+fname+\"/dataframe.txt\",encoding = 'utf-8' ,sep = ',')\n",
    "# cf = pd.read_csv(name+fname+\"/conflicts.csv\",encoding = 'utf-8' ,sep = ',')\n",
    "# for i in df.index :\n",
    "#     chunkno = df.loc[i,'chunk_no']\n",
    "#     position1 =  df.loc[i,'position']\n",
    "#     level = df.loc[i,'level']\n",
    "#     color1 = df.loc[i,'color_class']\n",
    "#     clspan1 = df.loc[i,'colspan']\n",
    "#     df1 = df.loc[(df['chunk_no'] != chunkno)]\n",
    "#     for j in df1.index :\n",
    "#         cf.loc[i,str(j)] = 0\n",
    "#     df1 = df.loc[df['level']==level]\n",
    "#     for j in df1.index :\n",
    "#         cf.loc[i,str(j)] = 0"
   ]
  },
  {
   "cell_type": "code",
   "execution_count": 203,
   "metadata": {},
   "outputs": [
    {
     "name": "stdout",
     "output_type": "stream",
     "text": [
      "['niṣkān\\xa0dhārayati\\xa0rāmāya\\xa0hariḥ\\xa0\\n']\n"
     ]
    }
   ],
   "source": [
    "with open(name+fname+\"/input_line.txt\",encoding = 'utf-8' ,mode ='r') as fr :\n",
    "    lines = fr.readlines()\n",
    "for line in lines :\n",
    "    if(line.startswith(\"converted line : \")) :\n",
    "        line1 = line[17:]\n",
    "        break\n",
    "print(line1.split(\" \"))\n",
    "# rAmasya BAryA sIwA wasya anujaH lakRmaNaH ca rAmeNa saha vanam gacCawaH\n",
    "# rāmasya bhāryā sītā tasya anujaḥ lakṣmaṇaḥ ca rāmeṇa saha vanam gacchataḥ"
   ]
  },
  {
   "cell_type": "code",
   "execution_count": 200,
   "metadata": {},
   "outputs": [
    {
     "data": {
      "text/plain": [
       "'rAmasya\\xa0BAryA\\xa0sItA\\xa0tasya\\xa0anujaH\\xa0lakzmaRaH\\xa0ca\\xa0rAmeRa\\xa0saha\\xa0vanam\\xa0gacCataH'"
      ]
     },
     "execution_count": 200,
     "metadata": {},
     "output_type": "execute_result"
    }
   ],
   "source": [
    "x =transcoder.transcoder_processString(\"rāmasya bhāryā sītā tasya anujaḥ lakṣmaṇaḥ ca rāmeṇa saha vanam gacchataḥ\",'roman','slp1')"
   ]
  },
  {
   "cell_type": "code",
   "execution_count": 148,
   "metadata": {},
   "outputs": [
    {
     "name": "stdout",
     "output_type": "stream",
     "text": [
      "52--->saBA--ayAm\n"
     ]
    },
    {
     "data": {
      "text/html": [
       "<div>\n",
       "<style>\n",
       "    .dataframe thead tr:only-child th {\n",
       "        text-align: right;\n",
       "    }\n",
       "\n",
       "    .dataframe thead th {\n",
       "        text-align: left;\n",
       "    }\n",
       "\n",
       "    .dataframe tbody tr th {\n",
       "        vertical-align: top;\n",
       "    }\n",
       "</style>\n",
       "<table border=\"1\" class=\"dataframe\">\n",
       "  <thead>\n",
       "    <tr style=\"text-align: right;\">\n",
       "      <th></th>\n",
       "      <th>id</th>\n",
       "      <th>c1</th>\n",
       "      <th>c2</th>\n",
       "      <th>c3</th>\n",
       "    </tr>\n",
       "  </thead>\n",
       "  <tbody>\n",
       "    <tr>\n",
       "      <th>48</th>\n",
       "      <td>48</td>\n",
       "      <td>A</td>\n",
       "      <td>a</td>\n",
       "      <td>A</td>\n",
       "    </tr>\n",
       "  </tbody>\n",
       "</table>\n",
       "</div>"
      ],
      "text/plain": [
       "    id c1 c2 c3\n",
       "48  48  A  a  A"
      ]
     },
     "metadata": {},
     "output_type": "display_data"
    },
    {
     "name": "stdout",
     "output_type": "stream",
     "text": [
      "53--->saBA--AyAm\n"
     ]
    },
    {
     "data": {
      "text/html": [
       "<div>\n",
       "<style>\n",
       "    .dataframe thead tr:only-child th {\n",
       "        text-align: right;\n",
       "    }\n",
       "\n",
       "    .dataframe thead th {\n",
       "        text-align: left;\n",
       "    }\n",
       "\n",
       "    .dataframe tbody tr th {\n",
       "        vertical-align: top;\n",
       "    }\n",
       "</style>\n",
       "<table border=\"1\" class=\"dataframe\">\n",
       "  <thead>\n",
       "    <tr style=\"text-align: right;\">\n",
       "      <th></th>\n",
       "      <th>id</th>\n",
       "      <th>c1</th>\n",
       "      <th>c2</th>\n",
       "      <th>c3</th>\n",
       "    </tr>\n",
       "  </thead>\n",
       "  <tbody>\n",
       "    <tr>\n",
       "      <th>49</th>\n",
       "      <td>49</td>\n",
       "      <td>A</td>\n",
       "      <td>A</td>\n",
       "      <td>A</td>\n",
       "    </tr>\n",
       "  </tbody>\n",
       "</table>\n",
       "</div>"
      ],
      "text/plain": [
       "    id c1 c2 c3\n",
       "49  49  A  A  A"
      ]
     },
     "metadata": {},
     "output_type": "display_data"
    },
    {
     "name": "stdout",
     "output_type": "stream",
     "text": [
      "54--->saBA--ayAm\n"
     ]
    },
    {
     "data": {
      "text/html": [
       "<div>\n",
       "<style>\n",
       "    .dataframe thead tr:only-child th {\n",
       "        text-align: right;\n",
       "    }\n",
       "\n",
       "    .dataframe thead th {\n",
       "        text-align: left;\n",
       "    }\n",
       "\n",
       "    .dataframe tbody tr th {\n",
       "        vertical-align: top;\n",
       "    }\n",
       "</style>\n",
       "<table border=\"1\" class=\"dataframe\">\n",
       "  <thead>\n",
       "    <tr style=\"text-align: right;\">\n",
       "      <th></th>\n",
       "      <th>id</th>\n",
       "      <th>c1</th>\n",
       "      <th>c2</th>\n",
       "      <th>c3</th>\n",
       "    </tr>\n",
       "  </thead>\n",
       "  <tbody>\n",
       "    <tr>\n",
       "      <th>48</th>\n",
       "      <td>48</td>\n",
       "      <td>A</td>\n",
       "      <td>a</td>\n",
       "      <td>A</td>\n",
       "    </tr>\n",
       "  </tbody>\n",
       "</table>\n",
       "</div>"
      ],
      "text/plain": [
       "    id c1 c2 c3\n",
       "48  48  A  a  A"
      ]
     },
     "metadata": {},
     "output_type": "display_data"
    },
    {
     "name": "stdout",
     "output_type": "stream",
     "text": [
      "52--->saBA--ayAm\n"
     ]
    },
    {
     "data": {
      "text/html": [
       "<div>\n",
       "<style>\n",
       "    .dataframe thead tr:only-child th {\n",
       "        text-align: right;\n",
       "    }\n",
       "\n",
       "    .dataframe thead th {\n",
       "        text-align: left;\n",
       "    }\n",
       "\n",
       "    .dataframe tbody tr th {\n",
       "        vertical-align: top;\n",
       "    }\n",
       "</style>\n",
       "<table border=\"1\" class=\"dataframe\">\n",
       "  <thead>\n",
       "    <tr style=\"text-align: right;\">\n",
       "      <th></th>\n",
       "      <th>id</th>\n",
       "      <th>c1</th>\n",
       "      <th>c2</th>\n",
       "      <th>c3</th>\n",
       "    </tr>\n",
       "  </thead>\n",
       "  <tbody>\n",
       "    <tr>\n",
       "      <th>48</th>\n",
       "      <td>48</td>\n",
       "      <td>A</td>\n",
       "      <td>a</td>\n",
       "      <td>A</td>\n",
       "    </tr>\n",
       "  </tbody>\n",
       "</table>\n",
       "</div>"
      ],
      "text/plain": [
       "    id c1 c2 c3\n",
       "48  48  A  a  A"
      ]
     },
     "metadata": {},
     "output_type": "display_data"
    },
    {
     "name": "stdout",
     "output_type": "stream",
     "text": [
      "53--->saBA--AyAm\n"
     ]
    },
    {
     "data": {
      "text/html": [
       "<div>\n",
       "<style>\n",
       "    .dataframe thead tr:only-child th {\n",
       "        text-align: right;\n",
       "    }\n",
       "\n",
       "    .dataframe thead th {\n",
       "        text-align: left;\n",
       "    }\n",
       "\n",
       "    .dataframe tbody tr th {\n",
       "        vertical-align: top;\n",
       "    }\n",
       "</style>\n",
       "<table border=\"1\" class=\"dataframe\">\n",
       "  <thead>\n",
       "    <tr style=\"text-align: right;\">\n",
       "      <th></th>\n",
       "      <th>id</th>\n",
       "      <th>c1</th>\n",
       "      <th>c2</th>\n",
       "      <th>c3</th>\n",
       "    </tr>\n",
       "  </thead>\n",
       "  <tbody>\n",
       "    <tr>\n",
       "      <th>49</th>\n",
       "      <td>49</td>\n",
       "      <td>A</td>\n",
       "      <td>A</td>\n",
       "      <td>A</td>\n",
       "    </tr>\n",
       "  </tbody>\n",
       "</table>\n",
       "</div>"
      ],
      "text/plain": [
       "    id c1 c2 c3\n",
       "49  49  A  A  A"
      ]
     },
     "metadata": {},
     "output_type": "display_data"
    },
    {
     "name": "stdout",
     "output_type": "stream",
     "text": [
      "54--->saBA--ayAm\n"
     ]
    },
    {
     "data": {
      "text/html": [
       "<div>\n",
       "<style>\n",
       "    .dataframe thead tr:only-child th {\n",
       "        text-align: right;\n",
       "    }\n",
       "\n",
       "    .dataframe thead th {\n",
       "        text-align: left;\n",
       "    }\n",
       "\n",
       "    .dataframe tbody tr th {\n",
       "        vertical-align: top;\n",
       "    }\n",
       "</style>\n",
       "<table border=\"1\" class=\"dataframe\">\n",
       "  <thead>\n",
       "    <tr style=\"text-align: right;\">\n",
       "      <th></th>\n",
       "      <th>id</th>\n",
       "      <th>c1</th>\n",
       "      <th>c2</th>\n",
       "      <th>c3</th>\n",
       "    </tr>\n",
       "  </thead>\n",
       "  <tbody>\n",
       "    <tr>\n",
       "      <th>48</th>\n",
       "      <td>48</td>\n",
       "      <td>A</td>\n",
       "      <td>a</td>\n",
       "      <td>A</td>\n",
       "    </tr>\n",
       "  </tbody>\n",
       "</table>\n",
       "</div>"
      ],
      "text/plain": [
       "    id c1 c2 c3\n",
       "48  48  A  a  A"
      ]
     },
     "metadata": {},
     "output_type": "display_data"
    },
    {
     "name": "stdout",
     "output_type": "stream",
     "text": [
      "52--->BA--ayAm\n"
     ]
    },
    {
     "data": {
      "text/html": [
       "<div>\n",
       "<style>\n",
       "    .dataframe thead tr:only-child th {\n",
       "        text-align: right;\n",
       "    }\n",
       "\n",
       "    .dataframe thead th {\n",
       "        text-align: left;\n",
       "    }\n",
       "\n",
       "    .dataframe tbody tr th {\n",
       "        vertical-align: top;\n",
       "    }\n",
       "</style>\n",
       "<table border=\"1\" class=\"dataframe\">\n",
       "  <thead>\n",
       "    <tr style=\"text-align: right;\">\n",
       "      <th></th>\n",
       "      <th>id</th>\n",
       "      <th>c1</th>\n",
       "      <th>c2</th>\n",
       "      <th>c3</th>\n",
       "    </tr>\n",
       "  </thead>\n",
       "  <tbody>\n",
       "    <tr>\n",
       "      <th>48</th>\n",
       "      <td>48</td>\n",
       "      <td>A</td>\n",
       "      <td>a</td>\n",
       "      <td>A</td>\n",
       "    </tr>\n",
       "  </tbody>\n",
       "</table>\n",
       "</div>"
      ],
      "text/plain": [
       "    id c1 c2 c3\n",
       "48  48  A  a  A"
      ]
     },
     "metadata": {},
     "output_type": "display_data"
    },
    {
     "name": "stdout",
     "output_type": "stream",
     "text": [
      "53--->BA--AyAm\n"
     ]
    },
    {
     "data": {
      "text/html": [
       "<div>\n",
       "<style>\n",
       "    .dataframe thead tr:only-child th {\n",
       "        text-align: right;\n",
       "    }\n",
       "\n",
       "    .dataframe thead th {\n",
       "        text-align: left;\n",
       "    }\n",
       "\n",
       "    .dataframe tbody tr th {\n",
       "        vertical-align: top;\n",
       "    }\n",
       "</style>\n",
       "<table border=\"1\" class=\"dataframe\">\n",
       "  <thead>\n",
       "    <tr style=\"text-align: right;\">\n",
       "      <th></th>\n",
       "      <th>id</th>\n",
       "      <th>c1</th>\n",
       "      <th>c2</th>\n",
       "      <th>c3</th>\n",
       "    </tr>\n",
       "  </thead>\n",
       "  <tbody>\n",
       "    <tr>\n",
       "      <th>49</th>\n",
       "      <td>49</td>\n",
       "      <td>A</td>\n",
       "      <td>A</td>\n",
       "      <td>A</td>\n",
       "    </tr>\n",
       "  </tbody>\n",
       "</table>\n",
       "</div>"
      ],
      "text/plain": [
       "    id c1 c2 c3\n",
       "49  49  A  A  A"
      ]
     },
     "metadata": {},
     "output_type": "display_data"
    },
    {
     "name": "stdout",
     "output_type": "stream",
     "text": [
      "54--->BA--ayAm\n"
     ]
    },
    {
     "data": {
      "text/html": [
       "<div>\n",
       "<style>\n",
       "    .dataframe thead tr:only-child th {\n",
       "        text-align: right;\n",
       "    }\n",
       "\n",
       "    .dataframe thead th {\n",
       "        text-align: left;\n",
       "    }\n",
       "\n",
       "    .dataframe tbody tr th {\n",
       "        vertical-align: top;\n",
       "    }\n",
       "</style>\n",
       "<table border=\"1\" class=\"dataframe\">\n",
       "  <thead>\n",
       "    <tr style=\"text-align: right;\">\n",
       "      <th></th>\n",
       "      <th>id</th>\n",
       "      <th>c1</th>\n",
       "      <th>c2</th>\n",
       "      <th>c3</th>\n",
       "    </tr>\n",
       "  </thead>\n",
       "  <tbody>\n",
       "    <tr>\n",
       "      <th>48</th>\n",
       "      <td>48</td>\n",
       "      <td>A</td>\n",
       "      <td>a</td>\n",
       "      <td>A</td>\n",
       "    </tr>\n",
       "  </tbody>\n",
       "</table>\n",
       "</div>"
      ],
      "text/plain": [
       "    id c1 c2 c3\n",
       "48  48  A  a  A"
      ]
     },
     "metadata": {},
     "output_type": "display_data"
    },
    {
     "name": "stdout",
     "output_type": "stream",
     "text": [
      "52--->BA--ayAm\n"
     ]
    },
    {
     "data": {
      "text/html": [
       "<div>\n",
       "<style>\n",
       "    .dataframe thead tr:only-child th {\n",
       "        text-align: right;\n",
       "    }\n",
       "\n",
       "    .dataframe thead th {\n",
       "        text-align: left;\n",
       "    }\n",
       "\n",
       "    .dataframe tbody tr th {\n",
       "        vertical-align: top;\n",
       "    }\n",
       "</style>\n",
       "<table border=\"1\" class=\"dataframe\">\n",
       "  <thead>\n",
       "    <tr style=\"text-align: right;\">\n",
       "      <th></th>\n",
       "      <th>id</th>\n",
       "      <th>c1</th>\n",
       "      <th>c2</th>\n",
       "      <th>c3</th>\n",
       "    </tr>\n",
       "  </thead>\n",
       "  <tbody>\n",
       "    <tr>\n",
       "      <th>48</th>\n",
       "      <td>48</td>\n",
       "      <td>A</td>\n",
       "      <td>a</td>\n",
       "      <td>A</td>\n",
       "    </tr>\n",
       "  </tbody>\n",
       "</table>\n",
       "</div>"
      ],
      "text/plain": [
       "    id c1 c2 c3\n",
       "48  48  A  a  A"
      ]
     },
     "metadata": {},
     "output_type": "display_data"
    },
    {
     "name": "stdout",
     "output_type": "stream",
     "text": [
      "53--->BA--AyAm\n"
     ]
    },
    {
     "data": {
      "text/html": [
       "<div>\n",
       "<style>\n",
       "    .dataframe thead tr:only-child th {\n",
       "        text-align: right;\n",
       "    }\n",
       "\n",
       "    .dataframe thead th {\n",
       "        text-align: left;\n",
       "    }\n",
       "\n",
       "    .dataframe tbody tr th {\n",
       "        vertical-align: top;\n",
       "    }\n",
       "</style>\n",
       "<table border=\"1\" class=\"dataframe\">\n",
       "  <thead>\n",
       "    <tr style=\"text-align: right;\">\n",
       "      <th></th>\n",
       "      <th>id</th>\n",
       "      <th>c1</th>\n",
       "      <th>c2</th>\n",
       "      <th>c3</th>\n",
       "    </tr>\n",
       "  </thead>\n",
       "  <tbody>\n",
       "    <tr>\n",
       "      <th>49</th>\n",
       "      <td>49</td>\n",
       "      <td>A</td>\n",
       "      <td>A</td>\n",
       "      <td>A</td>\n",
       "    </tr>\n",
       "  </tbody>\n",
       "</table>\n",
       "</div>"
      ],
      "text/plain": [
       "    id c1 c2 c3\n",
       "49  49  A  A  A"
      ]
     },
     "metadata": {},
     "output_type": "display_data"
    },
    {
     "name": "stdout",
     "output_type": "stream",
     "text": [
      "54--->BA--ayAm\n"
     ]
    },
    {
     "data": {
      "text/html": [
       "<div>\n",
       "<style>\n",
       "    .dataframe thead tr:only-child th {\n",
       "        text-align: right;\n",
       "    }\n",
       "\n",
       "    .dataframe thead th {\n",
       "        text-align: left;\n",
       "    }\n",
       "\n",
       "    .dataframe tbody tr th {\n",
       "        vertical-align: top;\n",
       "    }\n",
       "</style>\n",
       "<table border=\"1\" class=\"dataframe\">\n",
       "  <thead>\n",
       "    <tr style=\"text-align: right;\">\n",
       "      <th></th>\n",
       "      <th>id</th>\n",
       "      <th>c1</th>\n",
       "      <th>c2</th>\n",
       "      <th>c3</th>\n",
       "    </tr>\n",
       "  </thead>\n",
       "  <tbody>\n",
       "    <tr>\n",
       "      <th>48</th>\n",
       "      <td>48</td>\n",
       "      <td>A</td>\n",
       "      <td>a</td>\n",
       "      <td>A</td>\n",
       "    </tr>\n",
       "  </tbody>\n",
       "</table>\n",
       "</div>"
      ],
      "text/plain": [
       "    id c1 c2 c3\n",
       "48  48  A  a  A"
      ]
     },
     "metadata": {},
     "output_type": "display_data"
    }
   ],
   "source": [
    "# for i in df.index : \n",
    "#     word1 = df.loc[i,'word_slp1']\n",
    "#     chunkno = df.loc[i,'chunk_no']\n",
    "#     position1 =  df.loc[i,'position']\n",
    "#     level = df.loc[i,'level']\n",
    "#     clspan1 = df.loc[i,'colspan']\n",
    "#     df1 = df.loc[(df['chunk_no'] == chunkno) & (df['level']!=level)]\n",
    "#     for j in df1.index :\n",
    "#         position2 = df1.loc[j,'position']\n",
    "#         word2 = df1.loc[j,'word_slp1']\n",
    "#         if(position2 == position1 + clspan1-1):\n",
    "#             if(len(s.loc[(s['c1']==word1[-1:] )& (s['c2']==word2[:1])])):\n",
    "#                 print(str(j)+\"--->\"+word1+\"--\"+word2)\n",
    "#                 display(s.loc[(s['c1']==word1[-1:] )& (s['c2']==word2[:1])])"
   ]
  },
  {
   "cell_type": "code",
   "execution_count": 129,
   "metadata": {
    "collapsed": true
   },
   "outputs": [
    {
     "data": {
      "text/plain": [
       "id                      19\n",
       "level                    2\n",
       "color_class    yellow_back\n",
       "position                 0\n",
       "chunk_no                 1\n",
       "word                   eka\n",
       "lemma                  eka\n",
       "pre_verb               NaN\n",
       "morph                 iic.\n",
       "colspan                  3\n",
       "wordlenth                3\n",
       "aux_inf                NaN\n",
       "word_slp1              eka\n",
       "Name: 19, dtype: object"
      ]
     },
     "metadata": {},
     "output_type": "display_data"
    },
    {
     "data": {
      "text/plain": [
       "id                      20\n",
       "level                    2\n",
       "color_class      cyan_back\n",
       "position                 3\n",
       "chunk_no                 1\n",
       "word                   dāḥ\n",
       "lemma                   da\n",
       "pre_verb               NaN\n",
       "morph          nom. pl. m.\n",
       "colspan                  3\n",
       "wordlenth                3\n",
       "aux_inf                NaN\n",
       "word_slp1              dAH\n",
       "Name: 20, dtype: object"
      ]
     },
     "metadata": {},
     "output_type": "display_data"
    },
    {
     "data": {
      "text/plain": [
       "id                      21\n",
       "level                    2\n",
       "color_class      cyan_back\n",
       "position                 3\n",
       "chunk_no                 1\n",
       "word                   dāḥ\n",
       "lemma                   da\n",
       "pre_verb               NaN\n",
       "morph          acc. pl. f.\n",
       "colspan                  3\n",
       "wordlenth                3\n",
       "aux_inf                NaN\n",
       "word_slp1              dAH\n",
       "Name: 21, dtype: object"
      ]
     },
     "metadata": {},
     "output_type": "display_data"
    },
    {
     "data": {
      "text/plain": [
       "id                      22\n",
       "level                    2\n",
       "color_class      cyan_back\n",
       "position                 3\n",
       "chunk_no                 1\n",
       "word                   dāḥ\n",
       "lemma                   da\n",
       "pre_verb               NaN\n",
       "morph          nom. pl. f.\n",
       "colspan                  3\n",
       "wordlenth                3\n",
       "aux_inf                NaN\n",
       "word_slp1              dAH\n",
       "Name: 22, dtype: object"
      ]
     },
     "metadata": {},
     "output_type": "display_data"
    },
    {
     "data": {
      "text/plain": [
       "id                      35\n",
       "level                    3\n",
       "color_class      cyan_back\n",
       "position                 3\n",
       "chunk_no                 1\n",
       "word                    dā\n",
       "lemma                   da\n",
       "pre_verb               NaN\n",
       "morph          nom. sg. f.\n",
       "colspan                  2\n",
       "wordlenth                2\n",
       "aux_inf                NaN\n",
       "word_slp1               dA\n",
       "Name: 35, dtype: object"
      ]
     },
     "metadata": {},
     "output_type": "display_data"
    }
   ],
   "source": [
    "#  df1 = df.loc[(df['chunk_no']==1) & (df['level']!=1)]\n",
    "# y = df.loc[(df['chunk_no']==1) & (df['level']!=1)].index\n",
    "# for i in y:\n",
    "#     display(df1.loc[i])"
   ]
  },
  {
   "cell_type": "code",
   "execution_count": 171,
   "metadata": {},
   "outputs": [
    {
     "ename": "TypeError",
     "evalue": "ufunc 'add' did not contain a loop with signature matching types dtype('<U32') dtype('<U32') dtype('<U32')",
     "output_type": "error",
     "traceback": [
      "\u001b[1;31m---------------------------------------------------------------------------\u001b[0m",
      "\u001b[1;31mTypeError\u001b[0m                                 Traceback (most recent call last)",
      "\u001b[1;32m<ipython-input-171-a1327e3edb38>\u001b[0m in \u001b[0;36m<module>\u001b[1;34m()\u001b[0m\n\u001b[0;32m      1\u001b[0m \u001b[0mdf\u001b[0m\u001b[1;33m[\u001b[0m\u001b[1;34m'e'\u001b[0m\u001b[1;33m]\u001b[0m \u001b[1;33m=\u001b[0m \u001b[0mnp\u001b[0m\u001b[1;33m.\u001b[0m\u001b[0mnan\u001b[0m\u001b[1;33m\u001b[0m\u001b[0m\n\u001b[1;32m----> 2\u001b[1;33m \u001b[0mdf\u001b[0m\u001b[1;33m.\u001b[0m\u001b[0mloc\u001b[0m\u001b[1;33m[\u001b[0m\u001b[1;36m0\u001b[0m\u001b[1;33m,\u001b[0m\u001b[1;34m'e'\u001b[0m\u001b[1;33m]\u001b[0m \u001b[1;33m+=\u001b[0m\u001b[0mstr\u001b[0m\u001b[1;33m(\u001b[0m\u001b[1;36m1\u001b[0m\u001b[1;33m)\u001b[0m\u001b[1;33m\u001b[0m\u001b[0m\n\u001b[0m\u001b[0;32m      3\u001b[0m \u001b[0mdf\u001b[0m\u001b[1;33m.\u001b[0m\u001b[0mloc\u001b[0m\u001b[1;33m[\u001b[0m\u001b[1;36m0\u001b[0m\u001b[1;33m,\u001b[0m\u001b[1;34m'e'\u001b[0m\u001b[1;33m]\u001b[0m \u001b[1;33m+=\u001b[0m\u001b[1;36m1\u001b[0m\u001b[1;33m\u001b[0m\u001b[0m\n\u001b[0;32m      4\u001b[0m \u001b[0mdf\u001b[0m\u001b[1;33m\u001b[0m\u001b[0m\n",
      "\u001b[1;31mTypeError\u001b[0m: ufunc 'add' did not contain a loop with signature matching types dtype('<U32') dtype('<U32') dtype('<U32')"
     ]
    }
   ],
   "source": [
    "# df['e'] = np.nan\n",
    "# df.loc[0,'e'] +=str(1)\n",
    "# df.loc[0,'e'] +=1\n",
    "# df"
   ]
  },
  {
   "cell_type": "code",
   "execution_count": null,
   "metadata": {
    "collapsed": true
   },
   "outputs": [],
   "source": []
  }
 ],
 "metadata": {
  "kernelspec": {
   "display_name": "Python 3",
   "language": "python",
   "name": "python3"
  },
  "language_info": {
   "codemirror_mode": {
    "name": "ipython",
    "version": 3
   },
   "file_extension": ".py",
   "mimetype": "text/x-python",
   "name": "python",
   "nbconvert_exporter": "python",
   "pygments_lexer": "ipython3",
   "version": "3.6.3"
  }
 },
 "nbformat": 4,
 "nbformat_minor": 2
}
