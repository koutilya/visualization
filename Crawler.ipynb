{
 "cells": [
  {
   "cell_type": "code",
   "execution_count": 127,
   "metadata": {},
   "outputs": [],
   "source": [
    "import requests\n",
    "from bs4 import BeautifulSoup as bs\n",
    "import pandas as pd\n",
    "import numpy as np\n",
    "import csv\n",
    "import codecs"
   ]
  },
  {
   "cell_type": "code",
   "execution_count": 128,
   "metadata": {
    "scrolled": true
   },
   "outputs": [],
   "source": [
    "#f = csv.writer(open('posts.csv', 'w'))\n",
    "#f.writerow(['id', 'title', 'data'])\n",
    "f = codecs.open('bla.txt', encoding='raw_unicode_escape', mode='w')"
   ]
  },
  {
   "cell_type": "code",
   "execution_count": 134,
   "metadata": {},
   "outputs": [
    {
     "name": "stdout",
     "output_type": "stream",
     "text": [
      "1\n",
      "2\n",
      "3\n",
      "4\n",
      "5\n",
      "6\n",
      "7\n",
      "8\n",
      "9\n",
      "10\n",
      "11\n",
      "12\n",
      "13\n",
      "14\n",
      "15\n",
      "16\n",
      "17\n",
      "18\n",
      "19\n",
      "20\n",
      "21\n",
      "22\n",
      "23\n",
      "24\n",
      "25\n",
      "26\n",
      "27\n",
      "28\n",
      "29\n",
      "30\n",
      "31\n",
      "32\n",
      "33\n",
      "34\n",
      "35\n",
      "36\n",
      "37\n",
      "38\n",
      "39\n",
      "40\n",
      "41\n",
      "42\n",
      "43\n",
      "44\n",
      "45\n",
      "46\n",
      "47\n",
      "48\n",
      "49\n",
      "50\n",
      "51\n",
      "52\n",
      "53\n",
      "54\n",
      "55\n",
      "56\n",
      "57\n",
      "58\n",
      "59\n",
      "60\n",
      "61\n",
      "62\n",
      "63\n"
     ]
    }
   ],
   "source": [
    "for i in range(1,64):\n",
    "    print(i)"
   ]
  },
  {
   "cell_type": "code",
   "execution_count": 135,
   "metadata": {},
   "outputs": [
    {
     "name": "stdout",
     "output_type": "stream",
     "text": [
      "http://sudharma.epapertoday.com/category/news/page/63/\n"
     ]
    }
   ],
   "source": [
    "urlname = \"http://sudharma.epapertoday.com/category/news/page/\" + str(i) +\"/\"\n",
    "print(urlname)\n",
    "page = requests.get(urlname)"
   ]
  },
  {
   "cell_type": "code",
   "execution_count": 136,
   "metadata": {},
   "outputs": [],
   "source": [
    "soup = bs(page.text, 'html.parser')"
   ]
  },
  {
   "cell_type": "code",
   "execution_count": 137,
   "metadata": {
    "collapsed": true
   },
   "outputs": [
    {
     "data": {
      "text/plain": [
       "'<!DOCTYPE html PUBLIC \"-//W3C//DTD XHTML 1.0 Transitional//EN\" \"http://www.w3.org/TR/xhtml1/DTD/xhtml1-transitional.dtd\">\\n<html dir=\"ltr\" lang=\"en-US\" xmlns=\"http://www.w3.org/1999/xhtml\">\\n <head profile=\"http://gmpg.org/xfn/11\">\\n  <meta content=\"text/html; charset=utf-8\" http-equiv=\"Content-Type\"/>\\n  <meta content=\"IE=7\" http-equiv=\"X-UA-Compatible\"/>\\n  <title>\\n   वार्ता «  Sudharma\\n  </title>\\n  <link href=\"http://sudharma.epapertoday.com/wp-content/themes/eptstd/style.css\" media=\"screen\" rel=\"stylesheet\" type=\"text/css\"/>\\n  <!--[if lte IE 7]><link href=\"http://sudharma.epapertoday.com/wp-content/themes/eptstd/css/iehacks.css\" rel=\"stylesheet\" type=\"text/css\" /><![endif]-->\\n  <!--[if IE 7]><link href=\"http://sudharma.epapertoday.com/wp-content/themes/eptstd/css/ie7hacks.css\" rel=\"stylesheet\" type=\"text/css\" /><![endif]-->\\n  <!--[if IE 6]><link href=\"http://sudharma.epapertoday.com/wp-content/themes/eptstd/css/ie6hacks.css\" rel=\"stylesheet\" type=\"text/css\" /><![endif]-->\\n  <link href=\"http://sudharma.epapertoday.com/feed/\" rel=\"alternate\" title=\"Sudharma RSS Feed\" type=\"application/rss+xml\"/>\\n  <link href=\"http://sudharma.epapertoday.com/feed/atom/\" rel=\"alternate\" title=\"Sudharma Atom Feed\" type=\"application/atom+xml\"/>\\n  <link href=\"http://sudharma.epapertoday.com/xmlrpc.php\" rel=\"pingback\"/>\\n  <!--[if IE 6]>\\n  <script type=\"text/javascript\" src=\"http://sudharma.epapertoday.com/wp-content/themes/eptstd/js/ie6pngfix.js\"></script>\\n  <script type=\"text/javascript\">\\n    DD_belatedPNG.fix(\\'img, ul, ol, li, div, p, a, h1, h2, h3, h4, h5, h6, span, input, textarea, td\\');\\n  </script>\\n  <![endif]-->\\n  <script src=\"http://static.ak.fbcdn.net/connect.php/js/FB.Share\" type=\"text/javascript\">\\n  </script>\\n  <link href=\"//s.w.org\" rel=\"dns-prefetch\"/>\\n  <link href=\"http://sudharma.epapertoday.com/category/news/feed/\" rel=\"alternate\" title=\"Sudharma » वार्ता Category Feed\" type=\"application/rss+xml\"/>\\n  <script type=\"text/javascript\">\\n   window._wpemojiSettings = {\"baseUrl\":\"https:\\\\/\\\\/s.w.org\\\\/images\\\\/core\\\\/emoji\\\\/2.3\\\\/72x72\\\\/\",\"ext\":\".png\",\"svgUrl\":\"https:\\\\/\\\\/s.w.org\\\\/images\\\\/core\\\\/emoji\\\\/2.3\\\\/svg\\\\/\",\"svgExt\":\".svg\",\"source\":{\"concatemoji\":\"http:\\\\/\\\\/sudharma.epapertoday.com\\\\/wp-includes\\\\/js\\\\/wp-emoji-release.min.js?ver=4.8.3\"}};\\n\\t\\t\\t!function(a,b,c){function d(a){var b,c,d,e,f=String.fromCharCode;if(!k||!k.fillText)return!1;switch(k.clearRect(0,0,j.width,j.height),k.textBaseline=\"top\",k.font=\"600 32px Arial\",a){case\"flag\":return k.fillText(f(55356,56826,55356,56819),0,0),b=j.toDataURL(),k.clearRect(0,0,j.width,j.height),k.fillText(f(55356,56826,8203,55356,56819),0,0),c=j.toDataURL(),b!==c&&(k.clearRect(0,0,j.width,j.height),k.fillText(f(55356,57332,56128,56423,56128,56418,56128,56421,56128,56430,56128,56423,56128,56447),0,0),b=j.toDataURL(),k.clearRect(0,0,j.width,j.height),k.fillText(f(55356,57332,8203,56128,56423,8203,56128,56418,8203,56128,56421,8203,56128,56430,8203,56128,56423,8203,56128,56447),0,0),c=j.toDataURL(),b!==c);case\"emoji4\":return k.fillText(f(55358,56794,8205,9794,65039),0,0),d=j.toDataURL(),k.clearRect(0,0,j.width,j.height),k.fillText(f(55358,56794,8203,9794,65039),0,0),e=j.toDataURL(),d!==e}return!1}function e(a){var c=b.createElement(\"script\");c.src=a,c.defer=c.type=\"text/javascript\",b.getElementsByTagName(\"head\")[0].appendChild(c)}var f,g,h,i,j=b.createElement(\"canvas\"),k=j.getContext&&j.getContext(\"2d\");for(i=Array(\"flag\",\"emoji4\"),c.supports={everything:!0,everythingExceptFlag:!0},h=0;h<i.length;h++)c.supports[i[h]]=d(i[h]),c.supports.everything=c.supports.everything&&c.supports[i[h]],\"flag\"!==i[h]&&(c.supports.everythingExceptFlag=c.supports.everythingExceptFlag&&c.supports[i[h]]);c.supports.everythingExceptFlag=c.supports.everythingExceptFlag&&!c.supports.flag,c.DOMReady=!1,c.readyCallback=function(){c.DOMReady=!0},c.supports.everything||(g=function(){c.readyCallback()},b.addEventListener?(b.addEventListener(\"DOMContentLoaded\",g,!1),a.addEventListener(\"load\",g,!1)):(a.attachEvent(\"onload\",g),b.attachEvent(\"onreadystatechange\",function(){\"complete\"===b.readyState&&c.readyCallback()})),f=c.source||{},f.concatemoji?e(f.concatemoji):f.wpemoji&&f.twemoji&&(e(f.twemoji),e(f.wpemoji)))}(window,document,window._wpemojiSettings);\\n  </script>\\n  <style type=\"text/css\">\\n   img.wp-smiley,\\nimg.emoji {\\n\\tdisplay: inline !important;\\n\\tborder: none !important;\\n\\tbox-shadow: none !important;\\n\\theight: 1em !important;\\n\\twidth: 1em !important;\\n\\tmargin: 0 .07em !important;\\n\\tvertical-align: -0.1em !important;\\n\\tbackground: none !important;\\n\\tpadding: 0 !important;\\n}\\n  </style>\\n  <link href=\"http://sudharma.epapertoday.com/wp-content/plugins/wp-math-captcha/css/frontend.css?ver=4.8.3\" id=\"math-captcha-frontend-css\" media=\"all\" rel=\"stylesheet\" type=\"text/css\"/>\\n  <link href=\"http://sudharma.epapertoday.com/wp-json/\" rel=\"https://api.w.org/\"/>\\n  <link href=\"http://sudharma.epapertoday.com/xmlrpc.php?rsd\" rel=\"EditURI\" title=\"RSD\" type=\"application/rsd+xml\"/>\\n  <link href=\"http://sudharma.epapertoday.com/wp-includes/wlwmanifest.xml\" rel=\"wlwmanifest\" type=\"application/wlwmanifest+xml\"/>\\n  <meta content=\"WordPress 4.8.3\" name=\"generator\"/>\\n </head>\\n <body>\\n  <div class=\"page\">\\n   <!-- Header -->\\n   <div id=\"header\">\\n    <!-- Logo -->\\n    <div class=\"logo\">\\n     <a href=\"http://sudharma.epapertoday.com/\" title=\"Sudharma - World\\'s only daily Sanskrit newspaper, covers world, India and state news, short stories, puzzles, editorials, and sanskrit verses\">\\n      <img alt=\"Sudharma\" id=\"logo\" src=\"/images/Sudharma.gif\" title=\"Sudharma - World\\'s only daily Sanskrit newspaper, covers world, India and state news, short stories, puzzles, editorials, and sanskrit verses\"/>\\n     </a>\\n     <!--</div>\\n    <!-- /Logo\\n\\n    <!-- today date\\n    <div class=\"today-date\">\\n            <br>Friday, November 24th 2017-->\\n    </div>\\n    <div>\\n     <!-- / today date -->\\n     <script async=\"\" src=\"//pagead2.googlesyndication.com/pagead/js/adsbygoogle.js\">\\n     </script>\\n     <!-- enews_top_banner -->\\n     <ins class=\"adsbygoogle\" data-ad-client=\"ca-pub-8586014751318690\" data-ad-slot=\"4977365040\" style=\"display:inline-block;width:728px;height:90px\">\\n     </ins>\\n     <script>\\n      (adsbygoogle = window.adsbygoogle || []).push({});\\n     </script>\\n    </div>\\n   </div>\\n   <!-- /Header -->\\n   <!-- Main Menu -->\\n   <div id=\"mainmenu\">\\n    <ul class=\"sf-menu\">\\n     <li class=\"item1\">\\n      <a href=\"http://sudharma.epapertoday.com/\">\\n       Home\\n      </a>\\n     </li>\\n     <li class\"item1\"=\"\">\\n      <a href=\"/epaper/\">\\n       ePaper\\n      </a>\\n     </li>\\n     <li class\"item1\"=\"\">\\n      <a href=\"/enews/\">\\n       eNews\\n      </a>\\n     </li>\\n     <li class=\"cat-item cat-item-36 current-cat\">\\n      <a href=\"http://sudharma.epapertoday.com/category/news/\">\\n       वार्ता\\n      </a>\\n     </li>\\n     <li class=\"cat-item cat-item-28\">\\n      <a href=\"http://sudharma.epapertoday.com/category/subhashitam/\">\\n       सुभाषितम्\\u200c\\n      </a>\\n     </li>\\n     <li class=\"cat-item cat-item-1\">\\n      <a href=\"http://sudharma.epapertoday.com/category/miscellaneous/\">\\n       विविध\\n      </a>\\n     </li>\\n     <li class=\"cat-item cat-item-4\">\\n      <a href=\"http://sudharma.epapertoday.com/category/learn-sanskrit/\">\\n       पठत संस्कृतम्\\n      </a>\\n     </li>\\n     <li class=\"cat-item cat-item-29\">\\n      <a href=\"http://sudharma.epapertoday.com/category/literature/\">\\n       साहित्य\\n      </a>\\n     </li>\\n     <li class\"item1\"=\"\">\\n      <a href=\"/about/\">\\n       About\\n      </a>\\n     </li>\\n    </ul>\\n   </div>\\n   <!-- /Main Menu -->\\n   <!-- main body -->\\n   <div id=\"middle_single\">\\n    <!-- right column -->\\n    <div class=\"clearingfix\" id=\"right\">\\n     <script type=\"text/javascript\">\\n      <!--\\ngoogle_ad_client = \"ca-pub-8586014751318690\";\\n/* cat_right */\\ngoogle_ad_slot = \"7392947296\";\\ngoogle_ad_width = 300;\\ngoogle_ad_height = 250;\\n//-->\\n     </script>\\n     <script src=\"http://pagead2.googlesyndication.com/pagead/show_ads.js\" type=\"text/javascript\">\\n     </script>\\n    </div>\\n    <!-- / right column -->\\n    <!-- content column -->\\n    <div class=\"clearingfix\" id=\"main\">\\n     <!--      <h3 class=\"pagetitle\">Archive for the &#8216;वार्ता&#8217; Category</h3>\\n      -->\\n     <div class=\"listposts\" style=\"float:left;\">\\n      <div class=\"archivepage1 clearingfix\">\\n       <h3 id=\"post-180\">\\n        <a href=\"http://sudharma.epapertoday.com/2008/08/29/180/\" rel=\"bookmark\" title=\"Permanent Link to देवालयस्य परिचयः ९८\">\\n         देवालयस्य परिचयः ९८\\n        </a>\\n       </h3>\\n       <div class=\"postmetadata alt\">\\n        <!--<span>By <a href=\"http://sudharma.epapertoday.com/author/admin/\" title=\"Posts by admin\" rel=\"author\">admin</a></span>-->\\n        Friday, August 29th, 2008\\n       </div>\\n       नारायणं नमस्कृ त्य नरं चैव नरोत्तमम्\\u200c । देवीं सरस्वतीं व्यासं ततो जयमुदीरयेत्\\u200c ।। बालौ अंघ्रियुग्ममनुकृ ष्य सरीसृपन्तौ आस्ताम्\\u200c ।एवं तौ व्रजे गृहाद्\\u200cगृहं गच्छन्तौ क टक नादेन लोकं रञ्जयन्तौ मात्रोः अतीव प्रमोदं जनयामासतुः । पकें क्रीडन्तौ मलिनावयवौ तौ दृष्ट\\x89ा आहारितक्र ोधा अपि मातरौ मुग्धमुखौ तौ वीक्ष्य...\\n      </div>\\n      <div class=\"archivepage2 clearingfix\">\\n       <h3 id=\"post-174\">\\n        <a href=\"http://sudharma.epapertoday.com/2008/08/28/174/\" rel=\"bookmark\" title=\"Permanent Link to अन्ध्रप्रदेशे प्रजाराज्यं पक्षस्य उदयः\">\\n         अन्ध्रप्रदेशे प्रजाराज्यं पक्षस्य उदयः\\n        </a>\\n       </h3>\\n       <div class=\"postmetadata alt\">\\n        <!--<span>By <a href=\"http://sudharma.epapertoday.com/author/admin/\" title=\"Posts by admin\" rel=\"author\">admin</a></span>-->\\n        Thursday, August 28th, 2008\\n       </div>\\n       तिरुपति तेलगुचित्ररगंस्य विख्यातः नटः चिरंजीवि महोदयेन प्रजाराज्यं नामकं नूतनपक्षः स्थापितः । आन्ध्र प्रदेशस्य विविधभागेभ्यः दशलक्षकाधिकाः अभिमानिनः आगताः । १२० एक रे विस्तीर्ण प्रदेशे अयं समावेशः महता वैभवेन प्राचलत्\\u200c । चलचित्रनिर्माणरीत्या सर्वविध उपकरणैः समारम्भः आयोजितः । पक्षस्य उद्घाटनात्\\u200cपूर्वमेव चिरंजीवि तिरुमल क्षेत्रं गत्वा श्री वेकंटरमणस्वामिनां दर्शनं कृ...\\n      </div>\\n      <div class=\"archivepage1 clearingfix\">\\n       <h3 id=\"post-173\">\\n        <a href=\"http://sudharma.epapertoday.com/2008/08/28/173/\" rel=\"bookmark\" title=\"Permanent Link to बिहारराज्ये महती वृष्टिः\">\\n         बिहारराज्ये महती वृष्टिः\\n        </a>\\n       </h3>\\n       <div class=\"postmetadata alt\">\\n        <!--<span>By <a href=\"http://sudharma.epapertoday.com/author/admin/\" title=\"Posts by admin\" rel=\"author\">admin</a></span>-->\\n        Thursday, August 28th, 2008\\n       </div>\\n       पटना बिहारराज्यस्य प्रमुख प्रदेशेषु महती वृष्टिः सञ्जाता विंशतिलक्षाधिकाः जनाः निराश्रिताः आसन्\\u200c । बिहारसर्वकारः निराश्रितानां सौकर्यार्थं तथा आहारपदार्थानां वितरणार्थं प्रयत्नं कृतवान्\\u200c । अद्य प्रधानमन्त्री श्री मनमोहन सिंहः, गृहसचिवः शिवराज पाटीलः, रैल्वे विभाग सचिवः श्री लालूप्रसाद यादवः, तथा कांग्रेस्\\u200cपक्षाध्यक्षिणी श्रीमती सोनियागान्धी तथा बिहार राज्यस्य मुख्यमन्त्री श्री नितिशकुमारः...\\n      </div>\\n      <div class=\"archivepage2 clearingfix\">\\n       <h3 id=\"post-172\">\\n        <a href=\"http://sudharma.epapertoday.com/2008/08/28/172/\" rel=\"bookmark\" title=\"Permanent Link to विश्वविहगंमवीक्षणम\">\\n         विश्वविहगंमवीक्षणम\\n        </a>\\n       </h3>\\n       <div class=\"postmetadata alt\">\\n        <!--<span>By <a href=\"http://sudharma.epapertoday.com/author/admin/\" title=\"Posts by admin\" rel=\"author\">admin</a></span>-->\\n        Thursday, August 28th, 2008\\n       </div>\\n       लण्डन्\\u200c भारतीय कालायस्य धुर्यः लक्ष्मीमित्तल्\\u200cवर्यः लण्डन्\\u200c नगरे ५९०कोटिरू प्यक मूल्ये (सप्तकोटिपौंड) अन्यं क मपि भव्यं प्रासादं (महल्\\u200c) क्रीतवान्\\u200c । कोट्यधीश्वराणां वीथीफङ्खफङ्ख इत्येव विख्याते फङ्कफङ्कलण्डन्\\u200c क न्सिंग्टन्\\u200c प्यालेस्\\u200c गार्डन्\\u200cफङ्खफङ्ख प्रदेशे अयम्\\u200c आढय प्रासादः अवस्थितः । मित्तल्\\u200cवर्येण क तिचिन्मासपूर्वं क्रीतौः अन्यौ द्वौ प्रासादौ अपि आस्ताम्\\u200c । स्वपुत्राय...\\n      </div>\\n      <div class=\"archivepage1 clearingfix\">\\n       <h3 id=\"post-170\">\\n        <a href=\"http://sudharma.epapertoday.com/2008/08/28/170/\" rel=\"bookmark\" title=\"Permanent Link to श्रीराधाकृष्णमहाभागः\">\\n         श्रीराधाकृष्णमहाभागः\\n        </a>\\n       </h3>\\n       <div class=\"postmetadata alt\">\\n        <!--<span>By <a href=\"http://sudharma.epapertoday.com/author/admin/\" title=\"Posts by admin\" rel=\"author\">admin</a></span>-->\\n        Thursday, August 28th, 2008\\n       </div>\\n       सौभाग्यं कि ल सक लानामस्माकं यदस्मन्मध्ये राधाकृष्णमहाभागसदृशा जना सन्मार्गं प्रदर्शयन्तः संख्यावन्तः सन्तीति । भारतमातुः रत्नगर्भेति नामधेयं न पाषाणखण्डवत्वेन अपि तु एतादशजनजन्मदानेन । सर्वपल्ल्यां सञ्जात एष महोदयः बाल्य एव अनितर साधारणग्रहणधारणशक्तिभ्यां स्वस्य असामान्यतां प्राचीकटत्\\u200c । मैसूरु कलकत्तादिप्रदेशेषु भारतीयतत्त्वशास्त्रस्य प्राध्यापक स्थानं अलमकार्षीत्\\u200c । विश्वविख्यातः आक्स्\\u200cफर्ड विश्वविद्यानिलयः महाशयमेनं...\\n      </div>\\n      <div class=\"archivepage2 clearingfix\">\\n       <h3 id=\"post-169\">\\n        <a href=\"http://sudharma.epapertoday.com/2008/08/28/169/\" rel=\"bookmark\" title=\"Permanent Link to भाषाविज्ञानम्\\u200c१\">\\n         भाषाविज्ञानम्\\u200c१\\n        </a>\\n       </h3>\\n       <div class=\"postmetadata alt\">\\n        <!--<span>By <a href=\"http://sudharma.epapertoday.com/author/admin/\" title=\"Posts by admin\" rel=\"author\">admin</a></span>-->\\n        Thursday, August 28th, 2008\\n       </div>\\n       मानवः इतरेभ्यः प्राणिभ्यः स्ववाग्व्यापार वैशिष्ट्येन भिद्यते । तादृश वाग्वयापारसामर्थ्यं तेन कदा, कथं वा प्राप्तमिति प्राक्तनविषयविमर्शनचणाः निर्णेतुं स्वप्रतिभानुसारेण प्रायतन्त, प्रयतन्ते, प्रयतिष्यन्ते च । यतो हि तादृशविषयाणां निर्णयः न सुशक इत्यत्र कः सन्दिह्यते । मानवः पार्थक्येन जीवितुं न शक्नोति । तेन समाजः निर्मातव्य एव । तन्निर्माणे मानवेन...\\n      </div>\\n     </div>\\n     <div class=\"wp-pagenavi\">\\n      <a class=\"first\" href=\"http://sudharma.epapertoday.com/category/news/\" title=\"« First\">\\n       « First\\n      </a>\\n      <span class=\"extend\">\\n       ...\\n      </span>\\n      <a class=\"page\" href=\"http://sudharma.epapertoday.com/category/news/page/10/\" title=\"10\">\\n       10\\n      </a>\\n      <a class=\"page\" href=\"http://sudharma.epapertoday.com/category/news/page/20/\" title=\"20\">\\n       20\\n      </a>\\n      <a class=\"page\" href=\"http://sudharma.epapertoday.com/category/news/page/30/\" title=\"30\">\\n       30\\n      </a>\\n      <a class=\"previouspostslink\" href=\"http://sudharma.epapertoday.com/category/news/page/62/\">\\n       «\\n      </a>\\n      <a class=\"page\" href=\"http://sudharma.epapertoday.com/category/news/page/59/\" title=\"59\">\\n       59\\n      </a>\\n      <a class=\"page\" href=\"http://sudharma.epapertoday.com/category/news/page/60/\" title=\"60\">\\n       60\\n      </a>\\n      <a class=\"page\" href=\"http://sudharma.epapertoday.com/category/news/page/61/\" title=\"61\">\\n       61\\n      </a>\\n      <a class=\"page\" href=\"http://sudharma.epapertoday.com/category/news/page/62/\" title=\"62\">\\n       62\\n      </a>\\n      <span class=\"current\">\\n       63\\n      </span>\\n     </div>\\n    </div>\\n    <!-- / content column -->\\n   </div>\\n   <!-- / main body -->\\n   <!-- main body -->\\n   <div id=\"middle_alt\">\\n    <!-- advert -->\\n    <div class=\"advert\">\\n     <script type=\"text/javascript\">\\n      <!--\\n\\t\\tgoogle_ad_client = \"ca-pub-8586014751318690\";\\n\\t\\t/* enews_footer */\\n\\t\\tgoogle_ad_slot = \"4977365040\";\\n\\t\\tgoogle_ad_width = 728;\\n\\t\\tgoogle_ad_height = 90;\\n\\t\\t//-->\\n     </script>\\n     <script src=\"http://pagead2.googlesyndication.com/pagead/show_ads.js\" type=\"text/javascript\">\\n     </script>\\n    </div>\\n    <!-- advert -->\\n    <!-- content column -->\\n    <div class=\"clearingfix\" id=\"main\">\\n     <!-- news boxes -->\\n     <div class=\"news_boxes\">\\n      <div class=\"boxes first\">\\n       <ul>\\n        <li>\\n         <h5 class=\"category\">\\n          <a href=\"http://sudharma.epapertoday.com/category/news/\" rel=\"category tag\">\\n           वार्ता\\n          </a>\\n         </h5>\\n         <h3>\\n          <a class=\"title\" href=\"http://sudharma.epapertoday.com/2016/01/21/7921/\" title=\"पाकिस्थाने उग्रवादिनां कृत्यम्\\u200c\">\\n           पाकिस्थाने उग्रवादिनां कृत्यम्\\u200c\\n          </a>\\n         </h3>\\n         <p>\\n          इस्लामाबाद्\\u200cउग्रवादिनां जन्मभूमौ पाकिस्थाने तेषां दुष्कृत्यानि मितिम्\\u200c अतीत्य प्रवर्तन्ते । ह्यः बुधवासरे चण्डा उग्रवादिनः खैबर्\\u200cप्रान्ते विश्व विद्यानिलये...\\n         </p>\\n         <div class=\"meta\">\\n          January 21st, 2016 |\\n          <a href=\"http://sudharma.epapertoday.com/2016/01/21/7921/\">\\n           Read more\\n          </a>\\n         </div>\\n        </li>\\n       </ul>\\n      </div>\\n      <div class=\"boxes\">\\n       <ul>\\n        <li>\\n         <h5 class=\"category\">\\n          <a href=\"http://sudharma.epapertoday.com/category/miscellaneous/\" rel=\"category tag\">\\n           विविध\\n          </a>\\n         </h5>\\n         <h3>\\n          <a class=\"title\" href=\"http://sudharma.epapertoday.com/2016/01/21/7924/\" title=\"सुशासनं कदा भविष्यति ?\">\\n           सुशासनं कदा भविष्यति ?\\n          </a>\\n         </h3>\\n         <p>\\n          ये अधिकारे भवन्ति, ते प्रजानां कष्टं न जानन्ति । राजानः स्वच्छन्दानुसारेण शासनं कुर्वन्ति । यथेच्छं करान्\\u200c...\\n         </p>\\n         <div class=\"meta\">\\n          January 21st, 2016 |\\n          <a href=\"http://sudharma.epapertoday.com/2016/01/21/7924/\">\\n           Read more\\n          </a>\\n         </div>\\n        </li>\\n       </ul>\\n      </div>\\n      <div class=\"boxes\">\\n       <ul>\\n        <li>\\n         <h5 class=\"category\">\\n          <a href=\"http://sudharma.epapertoday.com/category/learn-sanskrit/\" rel=\"category tag\">\\n           पठत संस्कृतम्\\n          </a>\\n         </h5>\\n         <h3>\\n          <a class=\"title\" href=\"http://sudharma.epapertoday.com/2015/01/04/7253/\" title=\"सुधर्मा प्रश्नमञ्चाः५२उत्तराणि\">\\n           सुधर्मा प्रश्नमञ्चाः५२उत्तराणि\\n          </a>\\n         </h3>\\n         <p>\\n          ३३१. न्यूजीलाण्ड राष्ट ́पक्षी किवी । ३३२. ‘‘मुद्रेयं सर्वमङ्गला’’ इति ब्यांङ्क आफ महाराष्ट ́म्\\u200c वित्तकोशस्य घोषवाक्यम्\\u200c...\\n         </p>\\n         <div class=\"meta\">\\n          January 4th, 2015 |\\n          <a href=\"http://sudharma.epapertoday.com/2015/01/04/7253/\">\\n           Read more\\n          </a>\\n         </div>\\n        </li>\\n       </ul>\\n      </div>\\n     </div>\\n     <!-- / news boxes -->\\n    </div>\\n    <!-- / content column -->\\n   </div>\\n   <!-- / main body -->\\n   <!-- footer -->\\n   <div id=\"footer\">\\n    <div class=\"rapidxwpr\">\\n     <!-- footer menu -->\\n     <div class=\"footermenu\">\\n      <ul>\\n       <li class=\"item1\">\\n        <a href=\"http://sudharma.epapertoday.com/\">\\n         Home\\n        </a>\\n       </li>\\n       <li class=\"page_item page-item-2\">\\n        <a href=\"http://sudharma.epapertoday.com/about/\">\\n         About\\n        </a>\\n       </li>\\n       <li class=\"page_item page-item-2436\">\\n        <a href=\"http://sudharma.epapertoday.com/donate/\">\\n         Donate\\n        </a>\\n       </li>\\n       <li class=\"page_item page-item-4119 current_page_parent\">\\n        <a href=\"http://sudharma.epapertoday.com/enews/\">\\n         eNews\\n        </a>\\n       </li>\\n       <li class=\"page_item page-item-4156\">\\n        <a href=\"http://sudharma.epapertoday.com/\">\\n         ePaper\\n        </a>\\n       </li>\\n       <li class=\"page_item page-item-2470\">\\n        <a href=\"http://sudharma.epapertoday.com/follow-us/\">\\n         Follow us\\n        </a>\\n       </li>\\n       <li>\\n        <a href=\"mailto:advertise+Sudharma@epapertoday.com\">\\n         Advertise\\n        </a>\\n       </li>\\n       <li>\\n        <a href=\"http://sudharma.epapertoday.com/rss-2/\">\\n         RSS\\n        </a>\\n       </li>\\n       <li>\\n        <a href=\"http://epapertoday.com/contact?Sudharma\">\\n         Contact Us\\n        </a>\\n       </li>\\n      </ul>\\n     </div>\\n     <!-- /Footer Menu -->\\n     <!-- copyright -->\\n     <div class=\"copyright\">\\n      2011 ©\\n      <a href=\"http://www.epapertoday.com\">\\n       <u>\\n        ePaperToday\\n       </u>\\n      </a>\\n     </div>\\n     <!-- / copyright -->\\n    </div>\\n   </div>\\n   <!-- /Footer -->\\n  </div>\\n  <!-- 51 queries. 0.469 seconds. -->\\n  <script src=\"http://sudharma.epapertoday.com/wp-includes/js/wp-embed.min.js?ver=4.8.3\" type=\"text/javascript\">\\n  </script>\\n  <script type=\"text/javascript\">\\n   var gaJsHost = ((\"https:\" == document.location.protocol) ? \"https://ssl.\" : \"http://www.\");\\ndocument.write(unescape(\"%3Cscript src=\\'\" + gaJsHost + \"google-analytics.com/ga.js\\' type=\\'text/javascript\\'%3E%3C/script%3E\"));\\n  </script>\\n  <script type=\"text/javascript\">\\n   var pageTracker = _gat._getTracker(\"UA-1276186-2\");\\npageTracker._initData();\\npageTracker._trackPageview();\\n  </script>\\n </body>\\n</html>\\n'"
      ]
     },
     "execution_count": 137,
     "metadata": {},
     "output_type": "execute_result"
    }
   ],
   "source": [
    "soup.prettify()"
   ]
  },
  {
   "cell_type": "code",
   "execution_count": 138,
   "metadata": {},
   "outputs": [],
   "source": [
    "posts_list = soup.find(class_=\"listposts\")\n",
    "posts_list_links = posts_list.find_all('a')"
   ]
  },
  {
   "cell_type": "code",
   "execution_count": 34,
   "metadata": {
    "collapsed": true
   },
   "outputs": [
    {
     "name": "stdout",
     "output_type": "stream",
     "text": [
      "http://sudharma.epapertoday.com/2014/12/08/6988/\n",
      "http://sudharma.epapertoday.com/2014/12/05/7014/\n",
      "http://sudharma.epapertoday.com/2014/12/03/7038/\n",
      "http://sudharma.epapertoday.com/2014/11/29/6895/\n",
      "http://sudharma.epapertoday.com/2014/11/29/6891/\n",
      "http://sudharma.epapertoday.com/2014/11/29/6901/\n",
      "http://sudharma.epapertoday.com/2014/11/29/6899/\n",
      "http://sudharma.epapertoday.com/2014/11/29/6897/\n",
      "http://sudharma.epapertoday.com/2013/01/23/5686/\n",
      "http://sudharma.epapertoday.com/2012/12/31/5629/\n"
     ]
    }
   ],
   "source": [
    "#for link in posts_list_links:\n",
    " #   print(link.get('href'))"
   ]
  },
  {
   "cell_type": "code",
   "execution_count": 139,
   "metadata": {},
   "outputs": [
    {
     "name": "stdout",
     "output_type": "stream",
     "text": [
      "http://sudharma.epapertoday.com/2008/08/29/180/\n"
     ]
    }
   ],
   "source": [
    "link = posts_list.find('a').get('href')\n",
    "print(link)"
   ]
  },
  {
   "cell_type": "code",
   "execution_count": 140,
   "metadata": {
    "collapsed": true
   },
   "outputs": [
    {
     "data": {
      "text/plain": [
       "'<!DOCTYPE html PUBLIC \"-//W3C//DTD XHTML 1.0 Transitional//EN\" \"http://www.w3.org/TR/xhtml1/DTD/xhtml1-transitional.dtd\">\\n<html dir=\"ltr\" lang=\"en-US\" xmlns=\"http://www.w3.org/1999/xhtml\">\\n <head profile=\"http://gmpg.org/xfn/11\">\\n  <meta content=\"text/html; charset=utf-8\" http-equiv=\"Content-Type\"/>\\n  <meta content=\"IE=7\" http-equiv=\"X-UA-Compatible\"/>\\n  <title>\\n   देवालयस्य परिचयः ९८ «  Sudharma\\n  </title>\\n  <link href=\"http://sudharma.epapertoday.com/wp-content/themes/eptstd/style.css\" media=\"screen\" rel=\"stylesheet\" type=\"text/css\"/>\\n  <!--[if lte IE 7]><link href=\"http://sudharma.epapertoday.com/wp-content/themes/eptstd/css/iehacks.css\" rel=\"stylesheet\" type=\"text/css\" /><![endif]-->\\n  <!--[if IE 7]><link href=\"http://sudharma.epapertoday.com/wp-content/themes/eptstd/css/ie7hacks.css\" rel=\"stylesheet\" type=\"text/css\" /><![endif]-->\\n  <!--[if IE 6]><link href=\"http://sudharma.epapertoday.com/wp-content/themes/eptstd/css/ie6hacks.css\" rel=\"stylesheet\" type=\"text/css\" /><![endif]-->\\n  <link href=\"http://sudharma.epapertoday.com/feed/\" rel=\"alternate\" title=\"Sudharma RSS Feed\" type=\"application/rss+xml\"/>\\n  <link href=\"http://sudharma.epapertoday.com/feed/atom/\" rel=\"alternate\" title=\"Sudharma Atom Feed\" type=\"application/atom+xml\"/>\\n  <link href=\"http://sudharma.epapertoday.com/xmlrpc.php\" rel=\"pingback\"/>\\n  <!--[if IE 6]>\\n  <script type=\"text/javascript\" src=\"http://sudharma.epapertoday.com/wp-content/themes/eptstd/js/ie6pngfix.js\"></script>\\n  <script type=\"text/javascript\">\\n    DD_belatedPNG.fix(\\'img, ul, ol, li, div, p, a, h1, h2, h3, h4, h5, h6, span, input, textarea, td\\');\\n  </script>\\n  <![endif]-->\\n  <script src=\"http://static.ak.fbcdn.net/connect.php/js/FB.Share\" type=\"text/javascript\">\\n  </script>\\n  <link href=\"//s.w.org\" rel=\"dns-prefetch\"/>\\n  <link href=\"http://sudharma.epapertoday.com/2008/08/29/180/feed/\" rel=\"alternate\" title=\"Sudharma » देवालयस्य परिचयः ९८ Comments Feed\" type=\"application/rss+xml\"/>\\n  <script type=\"text/javascript\">\\n   window._wpemojiSettings = {\"baseUrl\":\"https:\\\\/\\\\/s.w.org\\\\/images\\\\/core\\\\/emoji\\\\/2.3\\\\/72x72\\\\/\",\"ext\":\".png\",\"svgUrl\":\"https:\\\\/\\\\/s.w.org\\\\/images\\\\/core\\\\/emoji\\\\/2.3\\\\/svg\\\\/\",\"svgExt\":\".svg\",\"source\":{\"concatemoji\":\"http:\\\\/\\\\/sudharma.epapertoday.com\\\\/wp-includes\\\\/js\\\\/wp-emoji-release.min.js?ver=4.8.3\"}};\\n\\t\\t\\t!function(a,b,c){function d(a){var b,c,d,e,f=String.fromCharCode;if(!k||!k.fillText)return!1;switch(k.clearRect(0,0,j.width,j.height),k.textBaseline=\"top\",k.font=\"600 32px Arial\",a){case\"flag\":return k.fillText(f(55356,56826,55356,56819),0,0),b=j.toDataURL(),k.clearRect(0,0,j.width,j.height),k.fillText(f(55356,56826,8203,55356,56819),0,0),c=j.toDataURL(),b!==c&&(k.clearRect(0,0,j.width,j.height),k.fillText(f(55356,57332,56128,56423,56128,56418,56128,56421,56128,56430,56128,56423,56128,56447),0,0),b=j.toDataURL(),k.clearRect(0,0,j.width,j.height),k.fillText(f(55356,57332,8203,56128,56423,8203,56128,56418,8203,56128,56421,8203,56128,56430,8203,56128,56423,8203,56128,56447),0,0),c=j.toDataURL(),b!==c);case\"emoji4\":return k.fillText(f(55358,56794,8205,9794,65039),0,0),d=j.toDataURL(),k.clearRect(0,0,j.width,j.height),k.fillText(f(55358,56794,8203,9794,65039),0,0),e=j.toDataURL(),d!==e}return!1}function e(a){var c=b.createElement(\"script\");c.src=a,c.defer=c.type=\"text/javascript\",b.getElementsByTagName(\"head\")[0].appendChild(c)}var f,g,h,i,j=b.createElement(\"canvas\"),k=j.getContext&&j.getContext(\"2d\");for(i=Array(\"flag\",\"emoji4\"),c.supports={everything:!0,everythingExceptFlag:!0},h=0;h<i.length;h++)c.supports[i[h]]=d(i[h]),c.supports.everything=c.supports.everything&&c.supports[i[h]],\"flag\"!==i[h]&&(c.supports.everythingExceptFlag=c.supports.everythingExceptFlag&&c.supports[i[h]]);c.supports.everythingExceptFlag=c.supports.everythingExceptFlag&&!c.supports.flag,c.DOMReady=!1,c.readyCallback=function(){c.DOMReady=!0},c.supports.everything||(g=function(){c.readyCallback()},b.addEventListener?(b.addEventListener(\"DOMContentLoaded\",g,!1),a.addEventListener(\"load\",g,!1)):(a.attachEvent(\"onload\",g),b.attachEvent(\"onreadystatechange\",function(){\"complete\"===b.readyState&&c.readyCallback()})),f=c.source||{},f.concatemoji?e(f.concatemoji):f.wpemoji&&f.twemoji&&(e(f.twemoji),e(f.wpemoji)))}(window,document,window._wpemojiSettings);\\n  </script>\\n  <style type=\"text/css\">\\n   img.wp-smiley,\\nimg.emoji {\\n\\tdisplay: inline !important;\\n\\tborder: none !important;\\n\\tbox-shadow: none !important;\\n\\theight: 1em !important;\\n\\twidth: 1em !important;\\n\\tmargin: 0 .07em !important;\\n\\tvertical-align: -0.1em !important;\\n\\tbackground: none !important;\\n\\tpadding: 0 !important;\\n}\\n  </style>\\n  <link href=\"http://sudharma.epapertoday.com/wp-content/plugins/wp-math-captcha/css/frontend.css?ver=4.8.3\" id=\"math-captcha-frontend-css\" media=\"all\" rel=\"stylesheet\" type=\"text/css\"/>\\n  <link href=\"http://sudharma.epapertoday.com/wp-json/\" rel=\"https://api.w.org/\"/>\\n  <link href=\"http://sudharma.epapertoday.com/xmlrpc.php?rsd\" rel=\"EditURI\" title=\"RSD\" type=\"application/rsd+xml\"/>\\n  <link href=\"http://sudharma.epapertoday.com/wp-includes/wlwmanifest.xml\" rel=\"wlwmanifest\" type=\"application/wlwmanifest+xml\"/>\\n  <link href=\"http://sudharma.epapertoday.com/2008/08/28/174/\" rel=\"prev\" title=\"अन्ध्रप्रदेशे प्रजाराज्यं पक्षस्य उदयः\"/>\\n  <link href=\"http://sudharma.epapertoday.com/2008/08/29/182/\" rel=\"next\" title=\"सधुर्मा प्रश्नम#ाः  १२०\"/>\\n  <meta content=\"WordPress 4.8.3\" name=\"generator\"/>\\n  <link href=\"http://sudharma.epapertoday.com/2008/08/29/180/\" rel=\"canonical\"/>\\n  <link href=\"http://sudharma.epapertoday.com/?p=180\" rel=\"shortlink\"/>\\n  <link href=\"http://sudharma.epapertoday.com/wp-json/oembed/1.0/embed?url=http%3A%2F%2Fsudharma.epapertoday.com%2F2008%2F08%2F29%2F180%2F\" rel=\"alternate\" type=\"application/json+oembed\"/>\\n  <link href=\"http://sudharma.epapertoday.com/wp-json/oembed/1.0/embed?url=http%3A%2F%2Fsudharma.epapertoday.com%2F2008%2F08%2F29%2F180%2F&amp;format=xml\" rel=\"alternate\" type=\"text/xml+oembed\"/>\\n </head>\\n <body>\\n  <div class=\"page\">\\n   <!-- Header -->\\n   <div id=\"header\">\\n    <!-- Logo -->\\n    <div class=\"logo\">\\n     <a href=\"http://sudharma.epapertoday.com/\" title=\"Sudharma - World\\'s only daily Sanskrit newspaper, covers world, India and state news, short stories, puzzles, editorials, and sanskrit verses\">\\n      <img alt=\"Sudharma\" id=\"logo\" src=\"/images/Sudharma.gif\" title=\"Sudharma - World\\'s only daily Sanskrit newspaper, covers world, India and state news, short stories, puzzles, editorials, and sanskrit verses\"/>\\n     </a>\\n     <!--</div>\\n    <!-- /Logo\\n\\n    <!-- today date\\n    <div class=\"today-date\">\\n            <br>Friday, November 24th 2017-->\\n    </div>\\n    <div>\\n     <!-- / today date -->\\n     <script async=\"\" src=\"//pagead2.googlesyndication.com/pagead/js/adsbygoogle.js\">\\n     </script>\\n     <!-- enews_top_banner -->\\n     <ins class=\"adsbygoogle\" data-ad-client=\"ca-pub-8586014751318690\" data-ad-slot=\"4977365040\" style=\"display:inline-block;width:728px;height:90px\">\\n     </ins>\\n     <script>\\n      (adsbygoogle = window.adsbygoogle || []).push({});\\n     </script>\\n    </div>\\n   </div>\\n   <!-- /Header -->\\n   <!-- Main Menu -->\\n   <div id=\"mainmenu\">\\n    <ul class=\"sf-menu\">\\n     <li class=\"item1\">\\n      <a href=\"http://sudharma.epapertoday.com/\">\\n       Home\\n      </a>\\n     </li>\\n     <li class\"item1\"=\"\">\\n      <a href=\"/epaper/\">\\n       ePaper\\n      </a>\\n     </li>\\n     <li class\"item1\"=\"\">\\n      <a href=\"/enews/\">\\n       eNews\\n      </a>\\n     </li>\\n     <li class=\"cat-item cat-item-36 current-cat\">\\n      <a href=\"http://sudharma.epapertoday.com/category/news/\">\\n       वार्ता\\n      </a>\\n     </li>\\n     <li class=\"cat-item cat-item-28\">\\n      <a href=\"http://sudharma.epapertoday.com/category/subhashitam/\">\\n       सुभाषितम्\\u200c\\n      </a>\\n     </li>\\n     <li class=\"cat-item cat-item-1\">\\n      <a href=\"http://sudharma.epapertoday.com/category/miscellaneous/\">\\n       विविध\\n      </a>\\n     </li>\\n     <li class=\"cat-item cat-item-4\">\\n      <a href=\"http://sudharma.epapertoday.com/category/learn-sanskrit/\">\\n       पठत संस्कृतम्\\n      </a>\\n     </li>\\n     <li class=\"cat-item cat-item-29\">\\n      <a href=\"http://sudharma.epapertoday.com/category/literature/\">\\n       साहित्य\\n      </a>\\n     </li>\\n     <li class\"item1\"=\"\">\\n      <a href=\"/about/\">\\n       About\\n      </a>\\n     </li>\\n    </ul>\\n   </div>\\n   <!-- /Main Menu -->\\n   <!-- main body -->\\n   <div id=\"middle_single\">\\n    <!-- right column -->\\n    <div class=\"clearingfix\" id=\"right\">\\n     <!-- sidebox -->\\n     <div class=\"sidebox\" id=\"also_in\">\\n      <h3>\\n       Also in \"\\n       <a href=\"http://sudharma.epapertoday.com/category/news/\" rel=\"category tag\">\\n        वार्ता\\n       </a>\\n       \"\\n      </h3>\\n      <ul class=\"single_extras\">\\n      </ul>\\n     </div>\\n     <br/>\\n     <br/>\\n     <script type=\"text/javascript\">\\n      <!--\\ngoogle_ad_client = \"ca-pub-8586014751318690\";\\n/* cat_right */\\ngoogle_ad_slot = \"7392947296\";\\ngoogle_ad_width = 300;\\ngoogle_ad_height = 250;\\n//-->\\n     </script>\\n     <script src=\"http://pagead2.googlesyndication.com/pagead/show_ads.js\" type=\"text/javascript\">\\n     </script>\\n     <!-- / sidebox -->\\n    </div>\\n    <!-- / right column -->\\n    <!-- content column -->\\n    <div id=\"main\">\\n     <div class=\"post\" id=\"post-180\">\\n      <h1>\\n       <a href=\"http://sudharma.epapertoday.com/2008/08/29/180/\" title=\"देवालयस्य परिचयः ९८\">\\n        देवालयस्य परिचयः ९८\\n       </a>\\n      </h1>\\n      <p class=\"postmetadata\">\\n       <!--<span>Posted by <a href=\"http://sudharma.epapertoday.com/author/admin/\" title=\"Posts by admin\" rel=\"author\">admin</a></span>-->\\n       Posted on Friday, August 29th, 2008\\n      </p>\\n      <div class=\"post_image\">\\n       <ul class=\"clearingfix\" id=\"post-links\">\\n        <li>\\n         <a href=\"feed/\" title=\"Subscribe to RSS Feed\">\\n          <img alt=\"Subscribe to RSS Feed\" src=\"http://sudharma.epapertoday.com/wp-content/themes/eptstd/images/rss.png\" style=\"float:left;margin:0px;padding:0px;\"/>\\n         </a>\\n         <a name=\"fb_share\" share_url=\"http://sudharma.epapertoday.com/2008/08/29/180/\" type=\"button_count\">\\n          Share\\n         </a>\\n         <!--<a href=\"http://twitter.com/share\" data-url=\"http://sudharma.epapertoday.com/2008/08/29/180/\" class=\"twitter-share-button\" data-count=\"none\" data-via=\"alchemistenergy\">Tweet</a><script type=\"text/javascript\" src=\"http://platform.twitter.com/widgets.js\"></script>-->\\n        </li>\\n        <!--<li class=\"email\"></li>-->\\n        <li class=\"comments\">\\n         <a href=\"#respond\">\\n          Add Comments\\n         </a>\\n        </li>\\n        <li class=\"print\">\\n         <a href=\"javascript:window.print()\">\\n          Print\\n         </a>\\n        </li>\\n       </ul>\\n      </div>\\n      <div class=\"post_entry\">\\n       <p>\\n        <img src=\"http://sudharma.epapertoday.com/files/2008/08/31/untitled.thumbnail.JPG\"/>\\n        <br>\\n         नारायणं नमस्कृ त्य नरं चैव नरोत्तमम्\\u200c । देवीं सरस्वतीं व्यासं ततो जयमुदीरयेत्\\u200c ।। बालौ अंघ्रियुग्ममनुकृ ष्य सरीसृपन्तौ आस्ताम्\\u200c ।एवं तौ व्रजे गृहाद्\\u200cगृहं गच्छन्तौ क टक नादेन लोकं रञ्जयन्तौ मात्रोः अतीव प्रमोदं जनयामासतुः । पकें क्रीडन्तौ मलिनावयवौ तौ दृष्ट\\x89ा आहारितक्र ोधा अपि मातरौ मुग्धमुखौ तौ वीक्ष्य स्तन्यं अददाताम्\\u200c । कुमारयोः लीला गोपीनां मोददा आसीत्\\u200c । वत्सान्\\u200c पुच्छे गृहीत्वा इतस्ततः क र्षन्तौ रामकृ ष्णौ प्रेक्षमाणाः गृहं च गोप्यः विस्मरन्ति स्म । तयोर्जनन्यौ क्रीडासमयेषु अग्निजलासिकण्ठकादिभ्यः निषेदूधुं वा गृहे एव स्थापयितुं वा न शेकाते । एवं बाललीलाविनोदैः कं चित्\\u200c कालं यापयित्वा तौ पद्भ्यमेव विचक्र मतुः । एक दा यशोदा गां दुहाना आसीत्\\u200c गोप्यः काश्चन आजग्मुः ऊ चुश्च । फङ्कफङ्कगोष्ठे गोषु अस्माभिः दुह्यमानासु आगत्य नेत्रे पिदधाति । वत्सान्\\u200c बद्धान्\\u200c विमोचयति । मुक्तानां वत्सानां ग्रहणे निर्गतासु अस्मासु, पात्रस्थं क्षीरं सर्वमपि सवयस्कैः स्वयमेव पिबति । यदि क्षीरं वा अन्यानि भक्ष्याणि वा न दृश्यन्ते भाण्डेषु सः भाण्डान्येव भिनत्ति । भक्ष्येषु हस्तालभ्येषु सत्सु पीठकं उलूखलं वा आकृ ष्य स्वीक रोति । तस्याप्यलाभे वयस्यानां भुजस्योपरि स्थित्वा भाण्डस्थं गृ\\x86ाति । दण्डेन घटे रन्ध्रं कृ त्वा स्रवत्\\u200c, दधि क्षीरं वा पिबति । ध्वान्तमये गृहे धृताभरणमणिप्रभया प्रविशति । एवमादयस्तस्य चेष्टाः शतशो वर्तन्ते फङ्खफङ्ख इति गोप्यः आक्षेपान्\\u200c चक्रुः । तासां आक्षेपान्\\u200c श्रुत्वा यशोदा हसति स्म । गोपीनां आक्षेपाश्च यशोदायाः तोषावहा आसन्\\u200c । एक दा वने गोपबालैस्सह बलरामकृ ष्णौ क्रीडमानौ आस्ताम्\\u200c । परस्परं क लहोऽभूत्\\u200c । कृ ष्णः क एव एक त्र, अन्ये सर्वे प्रतिपक्षे । वादे अनिर्णीते प्रतिपक्षाः बालाः यशोदां जग्मुः फङ्ककृष्णः मृदं अभक्षयत्\\u200c फङ्ख इति असूचयन्\\u200c । सा यशोदा कृष्णं क रे प्रगृह्य अनिन्दत्\\u200c । कृष्णः भयसंभ्रान्तनेत्रः अदृश्यत । मृद्भक्षणे कारणं च यशोदा अपृच्छत्\\u200c । कृष्णः  अम्ब मया मृत्\\u200c भक्षिता । सर्वे मिथ्यावादिनः । यशोदा  यदि सत्यं भणसि व्यात्तं वदनं दर्शय । कृष्णः  पश्य इत्युक्त्वा व्यात्तवदनो बभूव । यशोदा अपश्यत्\\u200c सर्वं विश्वं तस्य मुखे । आत्मानं च अपश्यत्\\u200c । व्रजः सनन्दः मुखे अवर्तत । गोपाः गोप्यश्च तत्र आसन्\\u200c । किं स्वप्नः उत देवमाया इति मनसि सन्देहः अजायत्\\u200c । षड्\\u200cवर्षीयः बालकः क थं मायावित्\\u200c भवति । न ज्ञायते किंचिदपि इति बहुधा चिन्तयामास । पारं च न विवेद । क्षणे गते लब्धस्मृतिः सा स्वप्नं तं मेने । कृष्णं प्राकृ तं शिशुमिव मत्वा आरोहं आरोप्य नितरां चुचुम्ब । जग\\x83क्षुः प्राकृ तः शिशुर्भूत्वा देवक्याः पुत्रतामाप । सा पूर्वजन्मनि पृश्निः आसीत्\\u200c ।\\n        </br>\\n       </p>\\n      </div>\\n      <div id=\"comments\">\\n       <h3>\\n        No Comments to “देवालयस्य परिचयः ९८”\\n       </h3>\\n       <!-- If comments are open, but there are no comments. -->\\n       <center>\\n        <a href=\"#respond\" title=\"Add a comment\">\\n         <h6>\\n          add a comment.\\n         </h6>\\n        </a>\\n       </center>\\n       <div id=\"respond\">\\n        <h3>\\n         Leave a Reply\\n        </h3>\\n        <div class=\"cancel-comment-reply\">\\n         <a href=\"/2008/08/29/180/#respond\" id=\"cancel-comment-reply-link\" rel=\"nofollow\" style=\"display:none;\">\\n          Click here to cancel reply.\\n         </a>\\n        </div>\\n        <p>\\n         You must be\\n         <a href=\"http://sudharma.epapertoday.com/wp-login.php?redirect_to=http%3A%2F%2Fsudharma.epapertoday.com%2F2008%2F08%2F29%2F180%2F\">\\n          logged in\\n         </a>\\n         to post a comment.\\n        </p>\\n       </div>\\n      </div>\\n     </div>\\n    </div>\\n    <!-- / content column -->\\n   </div>\\n   <!-- / main body -->\\n   <!-- main body -->\\n   <div id=\"middle_alt\">\\n    <!-- right column -->\\n    <div class=\"clearingfix\" id=\"right\">\\n     <!-- advert -->\\n     <div class=\"advert\">\\n     </div>\\n     <!-- advert -->\\n    </div>\\n    <!-- / right column -->\\n    <!-- content column -->\\n    <div class=\"clearingfix\" id=\"main\">\\n     <!-- news boxes -->\\n     <div class=\"news_boxes\">\\n      <div class=\"boxes first\">\\n       <ul>\\n       </ul>\\n      </div>\\n      <div class=\"boxes\">\\n       <ul>\\n       </ul>\\n      </div>\\n      <div class=\"boxes\">\\n       <ul>\\n       </ul>\\n      </div>\\n     </div>\\n     <!-- / news boxes -->\\n    </div>\\n    <!-- / content column -->\\n   </div>\\n   <!-- / main body -->\\n   <!-- footer -->\\n   <div id=\"footer\">\\n    <div class=\"rapidxwpr\">\\n     <!-- footer menu -->\\n     <div class=\"footermenu\">\\n      <ul>\\n       <li class=\"item1\">\\n        <a href=\"http://sudharma.epapertoday.com/\">\\n         Home\\n        </a>\\n       </li>\\n       <li class=\"page_item page-item-2\">\\n        <a href=\"http://sudharma.epapertoday.com/about/\">\\n         About\\n        </a>\\n       </li>\\n       <li class=\"page_item page-item-2436\">\\n        <a href=\"http://sudharma.epapertoday.com/donate/\">\\n         Donate\\n        </a>\\n       </li>\\n       <li class=\"page_item page-item-4119 current_page_parent\">\\n        <a href=\"http://sudharma.epapertoday.com/enews/\">\\n         eNews\\n        </a>\\n       </li>\\n       <li class=\"page_item page-item-4156\">\\n        <a href=\"http://sudharma.epapertoday.com/\">\\n         ePaper\\n        </a>\\n       </li>\\n       <li class=\"page_item page-item-2470\">\\n        <a href=\"http://sudharma.epapertoday.com/follow-us/\">\\n         Follow us\\n        </a>\\n       </li>\\n       <li>\\n        <a href=\"mailto:advertise+Sudharma@epapertoday.com\">\\n         Advertise\\n        </a>\\n       </li>\\n       <li>\\n        <a href=\"http://sudharma.epapertoday.com/rss-2/\">\\n         RSS\\n        </a>\\n       </li>\\n       <li>\\n        <a href=\"http://epapertoday.com/contact?Sudharma\">\\n         Contact Us\\n        </a>\\n       </li>\\n      </ul>\\n     </div>\\n     <!-- /Footer Menu -->\\n     <!-- copyright -->\\n     <div class=\"copyright\">\\n      2011 ©\\n      <a href=\"http://www.epapertoday.com\">\\n       <u>\\n        ePaperToday\\n       </u>\\n      </a>\\n     </div>\\n     <!-- / copyright -->\\n    </div>\\n   </div>\\n   <!-- /Footer -->\\n  </div>\\n  <!-- 43 queries. 0.361 seconds. -->\\n  <script src=\"http://sudharma.epapertoday.com/wp-includes/js/comment-reply.min.js?ver=4.8.3\" type=\"text/javascript\">\\n  </script>\\n  <script src=\"http://sudharma.epapertoday.com/wp-includes/js/wp-embed.min.js?ver=4.8.3\" type=\"text/javascript\">\\n  </script>\\n  <script type=\"text/javascript\">\\n   var gaJsHost = ((\"https:\" == document.location.protocol) ? \"https://ssl.\" : \"http://www.\");\\ndocument.write(unescape(\"%3Cscript src=\\'\" + gaJsHost + \"google-analytics.com/ga.js\\' type=\\'text/javascript\\'%3E%3C/script%3E\"));\\n  </script>\\n  <script type=\"text/javascript\">\\n   var pageTracker = _gat._getTracker(\"UA-1276186-2\");\\npageTracker._initData();\\npageTracker._trackPageview();\\n  </script>\\n </body>\\n</html>\\n'"
      ]
     },
     "execution_count": 140,
     "metadata": {},
     "output_type": "execute_result"
    }
   ],
   "source": [
    "post = requests.get(link)\n",
    "psoup = bs(post.text, 'html.parser')\n",
    "psoup.prettify()"
   ]
  },
  {
   "cell_type": "code",
   "execution_count": 141,
   "metadata": {},
   "outputs": [
    {
     "name": "stdout",
     "output_type": "stream",
     "text": [
      "post-180\n",
      "देवालयस्य परिचयः ९८\n",
      "नारायणं नमस्कृ त्य नरं चैव नरोत्तमम्‌ । देवीं सरस्वतीं व्यासं ततो जयमुदीरयेत्‌ ।। बालौ अंघ्रियुग्ममनुकृ ष्य सरीसृपन्तौ आस्ताम्‌ ।एवं तौ व्रजे गृहाद्‌गृहं गच्छन्तौ क टक नादेन लोकं रञ्जयन्तौ मात्रोः अतीव प्रमोदं जनयामासतुः । पकें क्रीडन्तौ मलिनावयवौ तौ दृष्टा आहारितक्र ोधा अपि मातरौ मुग्धमुखौ तौ वीक्ष्य स्तन्यं अददाताम्‌ । कुमारयोः लीला गोपीनां मोददा आसीत्‌ । वत्सान्‌ पुच्छे गृहीत्वा इतस्ततः क र्षन्तौ रामकृ ष्णौ प्रेक्षमाणाः गृहं च गोप्यः विस्मरन्ति स्म । तयोर्जनन्यौ क्रीडासमयेषु अग्निजलासिकण्ठकादिभ्यः निषेदूधुं वा गृहे एव स्थापयितुं वा न शेकाते । एवं बाललीलाविनोदैः कं चित्‌ कालं यापयित्वा तौ पद्भ्यमेव विचक्र मतुः । एक दा यशोदा गां दुहाना आसीत्‌ गोप्यः काश्चन आजग्मुः ऊ चुश्च । फङ्कफङ्कगोष्ठे गोषु अस्माभिः दुह्यमानासु आगत्य नेत्रे पिदधाति । वत्सान्‌ बद्धान्‌ विमोचयति । मुक्तानां वत्सानां ग्रहणे निर्गतासु अस्मासु, पात्रस्थं क्षीरं सर्वमपि सवयस्कैः स्वयमेव पिबति । यदि क्षीरं वा अन्यानि भक्ष्याणि वा न दृश्यन्ते भाण्डेषु सः भाण्डान्येव भिनत्ति । भक्ष्येषु हस्तालभ्येषु सत्सु पीठकं उलूखलं वा आकृ ष्य स्वीक रोति । तस्याप्यलाभे वयस्यानां भुजस्योपरि स्थित्वा भाण्डस्थं गृाति । दण्डेन घटे रन्ध्रं कृ त्वा स्रवत्‌, दधि क्षीरं वा पिबति । ध्वान्तमये गृहे धृताभरणमणिप्रभया प्रविशति । एवमादयस्तस्य चेष्टाः शतशो वर्तन्ते फङ्खफङ्ख इति गोप्यः आक्षेपान्‌ चक्रुः । तासां आक्षेपान्‌ श्रुत्वा यशोदा हसति स्म । गोपीनां आक्षेपाश्च यशोदायाः तोषावहा आसन्‌ । एक दा वने गोपबालैस्सह बलरामकृ ष्णौ क्रीडमानौ आस्ताम्‌ । परस्परं क लहोऽभूत्‌ । कृ ष्णः क एव एक त्र, अन्ये सर्वे प्रतिपक्षे । वादे अनिर्णीते प्रतिपक्षाः बालाः यशोदां जग्मुः फङ्ककृष्णः मृदं अभक्षयत्‌ फङ्ख इति असूचयन्‌ । सा यशोदा कृष्णं क रे प्रगृह्य अनिन्दत्‌ । कृष्णः भयसंभ्रान्तनेत्रः अदृश्यत । मृद्भक्षणे कारणं च यशोदा अपृच्छत्‌ । कृष्णः  अम्ब मया मृत्‌ भक्षिता । सर्वे मिथ्यावादिनः । यशोदा  यदि सत्यं भणसि व्यात्तं वदनं दर्शय । कृष्णः  पश्य इत्युक्त्वा व्यात्तवदनो बभूव । यशोदा अपश्यत्‌ सर्वं विश्वं तस्य मुखे । आत्मानं च अपश्यत्‌ । व्रजः सनन्दः मुखे अवर्तत । गोपाः गोप्यश्च तत्र आसन्‌ । किं स्वप्नः उत देवमाया इति मनसि सन्देहः अजायत्‌ । षड्‌वर्षीयः बालकः क थं मायावित्‌ भवति । न ज्ञायते किंचिदपि इति बहुधा चिन्तयामास । पारं च न विवेद । क्षणे गते लब्धस्मृतिः सा स्वप्नं तं मेने । कृष्णं प्राकृ तं शिशुमिव मत्वा आरोहं आरोप्य नितरां चुचुम्ब । जगक्षुः प्राकृ तः शिशुर्भूत्वा देवक्याः पुत्रतामाप । सा पूर्वजन्मनि पृश्निः आसीत्‌ ।\n"
     ]
    }
   ],
   "source": [
    "post_ = psoup.find(class_=\"post\")\n",
    "post_id = post_.get('id')\n",
    "post_title = post_.find('a').get('title')\n",
    "post_data = post_.find(class_ = 'post_entry').p.text\n",
    "print(post_id)\n",
    "print(post_title)\n",
    "print(post_data)"
   ]
  },
  {
   "cell_type": "code",
   "execution_count": 142,
   "metadata": {},
   "outputs": [],
   "source": [
    "f.writelines(post_id)\n",
    "f.writelines(\"..\")\n",
    "f.writelines(post_title)\n",
    "f.writelines(\"..\")\n",
    "f.writelines(post_data)"
   ]
  },
  {
   "cell_type": "code",
   "execution_count": 143,
   "metadata": {
    "collapsed": true
   },
   "outputs": [],
   "source": [
    "f.close()"
   ]
  },
  {
   "cell_type": "code",
   "execution_count": 144,
   "metadata": {},
   "outputs": [
    {
     "name": "stdout",
     "output_type": "stream",
     "text": [
      "['post-180..देवालयस्य परिचयः ९८..नारायणं नमस्कृ त्य नरं चैव नरोत्तमम्\\u200c । देवीं सरस्वतीं व्यासं ततो जयमुदीरयेत्\\u200c ।। बालौ अंघ्रियुग्ममनुकृ ष्य सरीसृपन्तौ आस्ताम्\\u200c ।एवं तौ व्रजे गृहाद्\\u200cगृहं गच्छन्तौ क टक नादेन लोकं रञ्जयन्तौ मात्रोः अतीव प्रमोदं जनयामासतुः । पकें क्रीडन्तौ मलिनावयवौ तौ दृष्ट\\x89ा आहारितक्र ोधा अपि मातरौ मुग्धमुखौ तौ वीक्ष्य स्तन्यं अददाताम्\\u200c । कुमारयोः लीला गोपीनां मोददा आसीत्\\u200c । वत्सान्\\u200c पुच्छे गृहीत्वा इतस्ततः क र्षन्तौ रामकृ ष्णौ प्रेक्षमाणाः गृहं च गोप्यः विस्मरन्ति स्म । तयोर्जनन्यौ क्रीडासमयेषु अग्निजलासिकण्ठकादिभ्यः निषेदूधुं वा गृहे एव स्थापयितुं वा न शेकाते । एवं बाललीलाविनोदैः कं चित्\\u200c कालं यापयित्वा तौ पद्भ्यमेव विचक्र मतुः । एक दा यशोदा गां दुहाना आसीत्\\u200c गोप्यः काश्चन आजग्मुः ऊ चुश्च । फङ्कफङ्कगोष्ठे गोषु अस्माभिः दुह्यमानासु आगत्य नेत्रे पिदधाति । वत्सान्\\u200c बद्धान्\\u200c विमोचयति । मुक्तानां वत्सानां ग्रहणे निर्गतासु अस्मासु, पात्रस्थं क्षीरं सर्वमपि सवयस्कैः स्वयमेव पिबति । यदि क्षीरं वा अन्यानि भक्ष्याणि वा न दृश्यन्ते भाण्डेषु सः भाण्डान्येव भिनत्ति । भक्ष्येषु हस्तालभ्येषु सत्सु पीठकं उलूखलं वा आकृ ष्य स्वीक रोति । तस्याप्यलाभे वयस्यानां भुजस्योपरि स्थित्वा भाण्डस्थं गृ\\x86ाति । दण्डेन घटे रन्ध्रं कृ त्वा स्रवत्\\u200c, दधि क्षीरं वा पिबति । ध्वान्तमये गृहे धृताभरणमणिप्रभया प्रविशति । एवमादयस्तस्य चेष्टाः शतशो वर्तन्ते फङ्खफङ्ख इति गोप्यः आक्षेपान्\\u200c चक्रुः । तासां आक्षेपान्\\u200c श्रुत्वा यशोदा हसति स्म । गोपीनां आक्षेपाश्च यशोदायाः तोषावहा आसन्\\u200c । एक दा वने गोपबालैस्सह बलरामकृ ष्णौ क्रीडमानौ आस्ताम्\\u200c । परस्परं क लहोऽभूत्\\u200c । कृ ष्णः क एव एक त्र, अन्ये सर्वे प्रतिपक्षे । वादे अनिर्णीते प्रतिपक्षाः बालाः यशोदां जग्मुः फङ्ककृष्णः मृदं अभक्षयत्\\u200c फङ्ख इति असूचयन्\\u200c । सा यशोदा कृष्णं क रे प्रगृह्य अनिन्दत्\\u200c । कृष्णः भयसंभ्रान्तनेत्रः अदृश्यत । मृद्भक्षणे कारणं च यशोदा अपृच्छत्\\u200c । कृष्णः  अम्ब मया मृत्\\u200c भक्षिता । सर्वे मिथ्यावादिनः । यशोदा  यदि सत्यं भणसि व्यात्तं वदनं दर्शय । कृष्णः  पश्य इत्युक्त्वा व्यात्तवदनो बभूव । यशोदा अपश्यत्\\u200c सर्वं विश्वं तस्य मुखे । आत्मानं च अपश्यत्\\u200c । व्रजः सनन्दः मुखे अवर्तत । गोपाः गोप्यश्च तत्र आसन्\\u200c । किं स्वप्नः उत देवमाया इति मनसि सन्देहः अजायत्\\u200c । षड्\\u200cवर्षीयः बालकः क थं मायावित्\\u200c भवति । न ज्ञायते किंचिदपि इति बहुधा चिन्तयामास । पारं च न विवेद । क्षणे गते लब्धस्मृतिः सा स्वप्नं तं मेने । कृष्णं प्राकृ तं शिशुमिव मत्वा आरोहं आरोप्य नितरां चुचुम्ब । जग\\x83क्षुः प्राकृ तः शिशुर्भूत्वा देवक्याः पुत्रतामाप । सा पूर्वजन्मनि पृश्निः आसीत्\\u200c ।']\n"
     ]
    }
   ],
   "source": [
    "fr = codecs.open('bla.txt', encoding='raw_unicode_escape', mode='r')\n",
    "print(fr.readlines())"
   ]
  },
  {
   "cell_type": "code",
   "execution_count": null,
   "metadata": {
    "collapsed": true
   },
   "outputs": [],
   "source": []
  }
 ],
 "metadata": {
  "kernelspec": {
   "display_name": "Python 3",
   "language": "python",
   "name": "python3"
  }
 },
 "nbformat": 4,
 "nbformat_minor": 2
}
