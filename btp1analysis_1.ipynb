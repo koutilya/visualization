{
 "cells": [
  {
   "cell_type": "code",
   "execution_count": 1,
   "metadata": {
    "collapsed": true
   },
   "outputs": [],
   "source": [
    "import requests\n",
    "from bs4 import BeautifulSoup as bs\n",
    "import pandas as pd\n",
    "import numpy as np\n",
    "import codecs\n",
    "import time\n",
    "import re\n",
    "import os\n",
    "from IPython.display import display, HTML\n",
    "from difflib import SequenceMatcher\n",
    "import math\n",
    "import Levenshtein\n",
    "import shutil\n",
    "\n",
    "import importlib.util\n",
    "spec = importlib.util.spec_from_file_location(\"module.name\",\"sanskrit_transcoder/transcoder.py\")\n",
    "transcoder = importlib.util.module_from_spec(spec)\n",
    "spec.loader.exec_module(transcoder)\n",
    "transcoder.transcoder_set_dir('sanskrit_transcoder/data/transcoder');\n",
    "\n",
    "pd.set_option('display.max_rows', 1000)\n",
    "pd.set_option('display.max_colwidth', -1)"
   ]
  },
  {
   "cell_type": "code",
   "execution_count": 3,
   "metadata": {
    "collapsed": true
   },
   "outputs": [],
   "source": [
    "def printlines(fname) :\n",
    "    with open(fname,encoding = 'utf-8' ,mode ='r') as fr :\n",
    "        for line in fr.readlines() :\n",
    "            print(line)\n",
    "            \n",
    "    return \n",
    "\n",
    "def getline(fname,tag = 'input line : ') :\n",
    "    with open(fname,encoding = 'utf-8' ,mode ='r') as fr :\n",
    "        for line in fr.readlines() :\n",
    "            if(line.startswith(tag)) :\n",
    "                l = line[len(tag):-1]\n",
    "    return l\n",
    "\n",
    "def getconvertedline(fname) :\n",
    "    with open(fname,encoding = 'utf-8' ,mode ='r') as fr :\n",
    "        for line in fr.readlines() :\n",
    "            if(line.startswith(\"converted line : \")) :\n",
    "                l = line[17:-1]\n",
    "               \n",
    "    return l\n",
    "\n",
    "def getcovertedchar(fname) :\n",
    "    with open(fname,encoding = 'utf-8' ,mode ='r') as fr :\n",
    "        for line in fr.readlines() :\n",
    "            if(line.startswith(\"converted line char :\")) :\n",
    "                l = line[21:-1].split(',')\n",
    "               \n",
    "    return l\n",
    "\n",
    "\n",
    "def fetched_data(fname) :\n",
    "    fd = pd.read_csv(fname,encoding = 'utf-8' ,sep = ',')\n",
    "    return fd\n",
    "\n",
    "\n",
    "def dependency_structure(fname):\n",
    "    ds = pd.read_csv(fname,encoding = 'utf-8' ,sep = ',')\n",
    "    return ds\n",
    "\n",
    "\n",
    "def inputline_(fname) :\n",
    "    with open(fname,encoding = 'utf-8' ,mode ='r') as fr :\n",
    "        for line in fr.readlines() :\n",
    "            if(line.startswith(\"input line : \")):\n",
    "                return line[13:-1]\n",
    "            \n",
    "            \n",
    "def conflicts_dataframe(fname) :\n",
    "    cd = pd.read_csv(fname,encoding = 'utf-8' ,sep = ',')\n",
    "    return cd\n",
    "\n",
    "def originalline_(fname) :\n",
    "    with open(fname,encoding = 'utf-8' ,mode ='r') as fr :\n",
    "        for line in fr.readlines() :\n",
    "            if(line.startswith(\"SENT: \")):\n",
    "                return line[6:-1]\n"
   ]
  },
  {
   "cell_type": "code",
   "execution_count": 2,
   "metadata": {
    "collapsed": true
   },
   "outputs": [],
   "source": []
  },
  {
   "cell_type": "code",
   "execution_count": 14,
   "metadata": {},
   "outputs": [
    {
     "data": {
      "text/html": [
       "<div>\n",
       "<style>\n",
       "    .dataframe thead tr:only-child th {\n",
       "        text-align: right;\n",
       "    }\n",
       "\n",
       "    .dataframe thead th {\n",
       "        text-align: left;\n",
       "    }\n",
       "\n",
       "    .dataframe tbody tr th {\n",
       "        vertical-align: top;\n",
       "    }\n",
       "</style>\n",
       "<table border=\"1\" class=\"dataframe\">\n",
       "  <thead>\n",
       "    <tr style=\"text-align: right;\">\n",
       "      <th></th>\n",
       "      <th>id</th>\n",
       "      <th>fname</th>\n",
       "      <th>inputline</th>\n",
       "      <th>originalline</th>\n",
       "      <th>cword</th>\n",
       "      <th>pos</th>\n",
       "      <th>dep</th>\n",
       "      <th>hword</th>\n",
       "      <th>clemma</th>\n",
       "      <th>cmorph</th>\n",
       "      <th>cauxi_inf</th>\n",
       "      <th>cpre_verb</th>\n",
       "      <th>hlemma</th>\n",
       "      <th>hmorph</th>\n",
       "      <th>hauxi_inf</th>\n",
       "      <th>hpre_verb</th>\n",
       "    </tr>\n",
       "  </thead>\n",
       "  <tbody>\n",
       "  </tbody>\n",
       "</table>\n",
       "</div>"
      ],
      "text/plain": [
       "Empty DataFrame\n",
       "Columns: [id, fname, inputline, originalline, cword, pos, dep, hword, clemma, cmorph, cauxi_inf, cpre_verb, hlemma, hmorph, hauxi_inf, hpre_verb]\n",
       "Index: []"
      ]
     },
     "execution_count": 14,
     "metadata": {},
     "output_type": "execute_result"
    }
   ],
   "source": [
    "data = pd.DataFrame(columns = ['id','fname','inputline','originalline','cword','pos','dep','hword','clemma','cmorph','cauxi_inf','cpre_verb','hlemma','hmorph','hauxi_inf','hpre_verb'])\n",
    "data"
   ]
  },
  {
   "cell_type": "code",
   "execution_count": 4,
   "metadata": {
    "collapsed": true
   },
   "outputs": [
    {
     "data": {
      "text/plain": [
       "2948"
      ]
     },
     "execution_count": 4,
     "metadata": {},
     "output_type": "execute_result"
    }
   ],
   "source": [
    "path = 'workdata/lines_submit/adding/phase3/'\n",
    "fnames = os.listdir(path)\n",
    "len(fnames)"
   ]
  },
  {
   "cell_type": "code",
   "execution_count": null,
   "metadata": {},
   "outputs": [
    {
     "name": "stdout",
     "output_type": "stream",
     "text": [
      "5\n",
      "4\n",
      "5\n",
      "6\n",
      "9\n",
      "7\n",
      "12\n",
      "7\n",
      "20_1\n",
      "20_1\n",
      "20_1\n",
      "20_1\n",
      "20_1\n",
      "20_1\n",
      "20_1\n",
      "20_1\n",
      "20_1\n",
      "20_1\n",
      "20_1\n",
      "20_1\n",
      "20_1\n",
      "20_1\n",
      "20_1\n",
      "20_1\n",
      "20_1\n",
      "20_1\n",
      "20_1\n",
      "20_1\n",
      "7\n",
      "13\n",
      "13\n",
      "4\n",
      "4\n",
      "5\n",
      "5\n",
      "4\n",
      "10\n",
      "10\n",
      "9\n",
      "9\n",
      "7\n",
      "5\n",
      "9\n",
      "7\n",
      "13\n",
      "9\n",
      "9\n",
      "9\n"
     ]
    }
   ],
   "source": [
    "dswrng = []\n",
    "id_ = 0\n",
    "for fname in fnames[0:1000]:\n",
    "    fname1 = path+fname+'/dataframe_towork.csv'\n",
    "    fname2 = path+fname+'/dependency.txt'\n",
    "    fname3 = path+fname+'/input_line.txt'\n",
    "    fname4 = path+fname+'/original_line.txt'\n",
    "    \n",
    "    ds = dependency_structure(fname2)\n",
    "    fd = fetched_data(fname1)\n",
    "    il = inputline_(fname3)\n",
    "    ol = originalline_(fname4)\n",
    "    dswo = ds.wordorder.unique()\n",
    "    dswos = [int(k) for k in dswo]\n",
    "    for j in ds.index :\n",
    "        cword = ds.loc[j,'word']\n",
    "        cwo = ds.loc[j,'wordorder']\n",
    "        hwo = ds.loc[j,'head']\n",
    "        if not str(hwo) == 'nan':\n",
    "            hwo = re.sub('\\*|\\+,|\\.0|[^0-9\\.\\+\\*\\_\\-]','',str(hwo))\n",
    "        dep = ds.loc[j,'dep']\n",
    "        pos = ds.loc[j,'POS']\n",
    "        f1 = fd.loc[fd['wordorder'] == cwo]\n",
    "        \n",
    "        if str(hwo) == 'nan' :\n",
    "            \n",
    "            for ci in f1.index :\n",
    "                data.loc[id_] = [id_,fname,il,ol,cword,pos,dep,'',f1.loc[ci,'lemma'],f1.loc[ci,'morph'],f1.loc[ci,'aux_inf'],f1.loc[ci,'pre_verb'],\n",
    "                            '','','','']\n",
    "                id_+=1\n",
    "        \n",
    "        elif int(hwo) in dswos:\n",
    "            hword = ds.loc[ds['wordorder']==int(hwo)].iloc[0]['word']\n",
    "            f2 = fd.loc[fd['wordorder'] == int(hwo)]\n",
    "            for ci in f1.index :\n",
    "                for hi in f2.index :\n",
    "\n",
    "                    data.loc[id_] = [id_,fname,il,ol,cword,pos,dep,hword,f1.loc[ci,'lemma'],f1.loc[ci,'morph'],f1.loc[ci,'aux_inf'],f1.loc[ci,'pre_verb'],\n",
    "                                f2.loc[hi,'lemma'],f2.loc[hi,'morph'],f2.loc[hi,'aux_inf'],f2.loc[hi,'pre_verb']]\n",
    "                    id_+=1\n",
    "        else :\n",
    "            print(hwo)\n",
    "            if fname not in dswrng :\n",
    "                dswrng.append(fname)\n",
    "                \n",
    "            "
   ]
  },
  {
   "cell_type": "code",
   "execution_count": 78,
   "metadata": {
    "collapsed": true
   },
   "outputs": [
    {
     "data": {
      "text/plain": [
       "['1004',\n",
       " '114',\n",
       " '1212',\n",
       " '1215',\n",
       " '1232',\n",
       " '1274',\n",
       " '1310',\n",
       " '143',\n",
       " '1449',\n",
       " '1468',\n",
       " '1484',\n",
       " '1486',\n",
       " '1619',\n",
       " '163',\n",
       " '1632']"
      ]
     },
     "execution_count": 78,
     "metadata": {},
     "output_type": "execute_result"
    }
   ],
   "source": [
    "dswrng"
   ]
  },
  {
   "cell_type": "code",
   "execution_count": 75,
   "metadata": {},
   "outputs": [
    {
     "data": {
      "text/plain": [
       "'1648'"
      ]
     },
     "execution_count": 75,
     "metadata": {},
     "output_type": "execute_result"
    }
   ],
   "source": [
    "fname\n"
   ]
  },
  {
   "cell_type": "code",
   "execution_count": null,
   "metadata": {
    "collapsed": true
   },
   "outputs": [],
   "source": []
  }
 ],
 "metadata": {
  "kernelspec": {
   "display_name": "Python 3",
   "language": "python",
   "name": "python3"
  },
  "language_info": {
   "codemirror_mode": {
    "name": "ipython",
    "version": 3
   },
   "file_extension": ".py",
   "mimetype": "text/x-python",
   "name": "python",
   "nbconvert_exporter": "python",
   "pygments_lexer": "ipython3",
   "version": "3.6.3"
  }
 },
 "nbformat": 4,
 "nbformat_minor": 2
}
