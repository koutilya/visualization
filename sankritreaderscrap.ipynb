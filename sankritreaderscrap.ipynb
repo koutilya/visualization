{
 "cells": [
  {
   "cell_type": "code",
   "execution_count": 1,
   "metadata": {
    "collapsed": true
   },
   "outputs": [],
   "source": [
    "import requests\n",
    "from bs4 import BeautifulSoup as bs\n",
    "import pandas as pd\n",
    "import numpy as np\n",
    "import codecs\n",
    "import time\n",
    "import re"
   ]
  },
  {
   "cell_type": "code",
   "execution_count": 2,
   "metadata": {
    "collapsed": true
   },
   "outputs": [],
   "source": [
    "# headers = {\n",
    "#     'User-Agent': 'Your Name, example.com',\n",
    "#     'From': 'email@example.com'\n",
    "# }"
   ]
  },
  {
   "cell_type": "code",
   "execution_count": 3,
   "metadata": {},
   "outputs": [
    {
     "name": "stdout",
     "output_type": "stream",
     "text": [
      "http://sanskrit.inria.fr/cgi-bin/SKT/sktgraph?lex=SH&st=t&us=f&cp=t&text=kRewragAminA+varwmanA+gacCanwaM+yAwrikaM+apaSyaw&t=WX&topic=&mode=g&corpmode=&corpdir=&sentno=\n"
     ]
    }
   ],
   "source": [
    "s_d = \"kRewragAminA varwmanA gacCanwaM yAwrikaM apaSyaw\"\n",
    "s_c = s_d.replace(\" \",\"+\")\n",
    "urlname = (\"http://sanskrit.inria.fr/cgi-bin/SKT/sktgraph?lex=SH&st=t&us=f&cp=t&text=\" +\n",
    "           s_c + \"&t=WX&topic=&mode=g&corpmode=&corpdir=&sentno=\")\n",
    "\n",
    "print(urlname)\n",
    "page = requests.get(urlname)"
   ]
  },
  {
   "cell_type": "code",
   "execution_count": 4,
   "metadata": {},
   "outputs": [
    {
     "data": {
      "text/plain": [
       "'<!DOCTYPE html>\\n<html>\\n <head>\\n  <meta charset=\"utf-8\"/>\\n  <title>\\n   Sanskrit Segmenter Summary\\n  </title>\\n  <meta content=\"Gérard Huet\" name=\"author\"/>\\n  <meta content=\"2017\" property=\"dc:datecopyrighted\"/>\\n  <meta content=\"Gérard Huet\" property=\"dc:rightsholder\"/>\\n  <meta content=\"dictionary,sanskrit,heritage,dictionnaire,sanscrit,india,inde,indology,linguistics,panini,digital humanities,cultural heritage,computational linguistics,hypertext lexicon\" name=\"keywords\"/>\\n  <link href=\"http://sanskrit.inria.fr/DICO/style.css\" media=\"screen,tv\" rel=\"stylesheet\" type=\"text/css\"/>\\n  <link href=\"http://sanskrit.inria.fr/IMAGES/favicon.ico\" rel=\"shortcut icon\"/>\\n  <script src=\"http://sanskrit.inria.fr/DICO/utf82VH.js\" type=\"text/javascript\">\\n  </script>\\n  <script src=\"http://sanskrit.inria.fr/DICO/util.js\" type=\"text/javascript\">\\n  </script>\\n </head>\\n <body class=\"chamois_back\">\\n  <h1 class=\"title\">\\n   Sanskrit Segmenter Summary\\n  </h1>\\n  <h3 class=\"c3\">\\n   Click on\\n   <span class=\"green\">\\n    ✓\\n   </span>\\n   to select segment, click on\\n   <span class=\"red\">\\n    ✘\\n   </span>\\n   to rule out segment\\n  </h3>\\n  <h3 class=\"c3\">\\n   Click on segment to get its lemma\\n  </h3>\\n  <table border=\"0\" cellpadding=\"0%\" cellspacing=\"15pt\" class=\"chamois_back\" width=\"100%\">\\n   <tr>\\n    <td>\\n     <br/>\\n     <span class=\"latin16\">\\n      Sentence:\\n     </span>\\n     <span class=\"deva16\" lang=\"sa\">\\n      क्षेत्रगामिना वर्त्मना गच्छन्तम् यात्रिकम् अपश्यत्\\n     </span>\\n     <br/>\\n     <div class=\"latin16\">\\n      <table class=\"spacing20\">\\n       <tr>\\n        <td>\\n         <a class=\"green\" href=\"/cgi-bin/SKT/sktgraph?t=WX;lex=SH;cache=f;st=t;us=f;cp=t;text=kRewragAminA+varwmanA+gacCanwaM+yAwrikaM+apaSyaw;topic=;abs=f;corpmode=;corpdir=;sentno=;allSol=150;cpts=\">\\n          ✓\\n         </a>\\n         Undo\\n        </td>\\n        <td>\\n         (150 Solutions)\\n        </td>\\n       </tr>\\n      </table>\\n     </div>\\n     <br/>\\n     <div class=\"latin12\">\\n      <table class=\"center\">\\n       <tr>\\n        <td>\\n         k\\n        </td>\\n        <td>\\n         ṣ\\n        </td>\\n        <td>\\n         e\\n        </td>\\n        <td>\\n         t\\n        </td>\\n        <td>\\n         r\\n        </td>\\n        <td>\\n         a\\n        </td>\\n        <td>\\n         g\\n        </td>\\n        <td>\\n         ā\\n        </td>\\n        <td>\\n         m\\n        </td>\\n        <td>\\n         i\\n        </td>\\n        <td>\\n         n\\n        </td>\\n        <td>\\n         ā\\n        </td>\\n        <td>\\n         _\\n        </td>\\n        <td>\\n         v\\n        </td>\\n        <td>\\n         a\\n        </td>\\n        <td>\\n         r\\n        </td>\\n        <td>\\n         t\\n        </td>\\n        <td>\\n         m\\n        </td>\\n        <td>\\n         a\\n        </td>\\n        <td>\\n         n\\n        </td>\\n        <td>\\n         ā\\n        </td>\\n        <td>\\n         _\\n        </td>\\n        <td>\\n         g\\n        </td>\\n        <td>\\n         a\\n        </td>\\n        <td>\\n         c\\n        </td>\\n        <td>\\n         ch\\n        </td>\\n        <td>\\n         a\\n        </td>\\n        <td>\\n         n\\n        </td>\\n        <td>\\n         t\\n        </td>\\n        <td>\\n         a\\n        </td>\\n        <td>\\n         m\\n        </td>\\n        <td>\\n        </td>\\n        <td>\\n         y\\n        </td>\\n        <td>\\n         ā\\n        </td>\\n        <td>\\n         t\\n        </td>\\n        <td>\\n         r\\n        </td>\\n        <td>\\n         i\\n        </td>\\n        <td>\\n         k\\n        </td>\\n        <td>\\n         a\\n        </td>\\n        <td>\\n         m\\n        </td>\\n        <td>\\n        </td>\\n        <td>\\n         a\\n        </td>\\n        <td>\\n         p\\n        </td>\\n        <td>\\n         a\\n        </td>\\n        <td>\\n         ś\\n        </td>\\n        <td>\\n         y\\n        </td>\\n        <td>\\n         a\\n        </td>\\n        <td>\\n         t\\n        </td>\\n        <td>\\n        </td>\\n       </tr>\\n       <tr>\\n        <td align=\"left\" colspan=\"6\">\\n         <table class=\"yellow_back\">\\n          <tr>\\n           <td onclick=\"showBox(\\'{ iic. }[&lt;a href=&quot;http://sanskrit.inria.fr/DICO/23.html#k.setra&quot;&gt;&lt;i&gt;kṣetra&lt;/i&gt;&lt;/a&gt;]&lt;a href=&quot;javascript:hideBox()&quot;&gt; ✘&lt;/a&gt;\\', \\'#FFFF00\\', this, event)\">\\n            kṣetra\\n           </td>\\n          </tr>\\n         </table>\\n         <span class=\"blue\">\\n          ✓\\n         </span>\\n        </td>\\n        <td align=\"left\" colspan=\"6\">\\n         <table class=\"deep_sky_back\">\\n          <tr>\\n           <td onclick=\"showBox(\\'{ i. sg. m. | i. sg. n. }[&lt;a href=&quot;http://sanskrit.inria.fr/DICO/24.html#gaamin&quot;&gt;&lt;i&gt;gāmin&lt;/i&gt;&lt;/a&gt;]&lt;a href=&quot;javascript:hideBox()&quot;&gt; ✘&lt;/a&gt;\\', \\'#00C0FF\\', this, event)\">\\n            gāminā\\n           </td>\\n          </tr>\\n         </table>\\n         <a class=\"green\" href=\"/cgi-bin/SKT/sktgraph?t=WX;lex=SH;cache=f;st=t;us=f;cp=t;text=kRewragAminA+varwmanA+gacCanwaM+yAwrikaM+apaSyaw;topic=;abs=f;corpmode=;corpdir=;sentno=;allSol=150;cpts=6,{Nouc},{gaaminaa},{t}\">\\n          ✓\\n         </a>\\n         <a class=\"red\" href=\"/cgi-bin/SKT/sktgraph?t=WX;lex=SH;cache=f;st=t;us=f;cp=t;text=kRewragAminA+varwmanA+gacCanwaM+yAwrikaM+apaSyaw;topic=;abs=f;corpmode=;corpdir=;sentno=;allSol=150;cpts=6,{Nouc},{gaaminaa},{f}\">\\n          ✘\\n         </a>\\n        </td>\\n        <td>\\n        </td>\\n        <td align=\"left\" colspan=\"8\">\\n         <table class=\"deep_sky_back\">\\n          <tr>\\n           <td onclick=\"showBox(\\'{ i. sg. n. }[&lt;a href=&quot;http://sanskrit.inria.fr/DICO/57.html#vartman&quot;&gt;&lt;i&gt;vartman&lt;/i&gt;&lt;/a&gt;]&lt;a href=&quot;javascript:hideBox()&quot;&gt; ✘&lt;/a&gt;\\', \\'#00C0FF\\', this, event)\">\\n            vartmanā\\n           </td>\\n          </tr>\\n         </table>\\n         <span class=\"blue\">\\n          ✓\\n         </span>\\n        </td>\\n        <td>\\n        </td>\\n        <td align=\"left\" colspan=\"9\">\\n         <table class=\"deep_sky_back\">\\n          <tr>\\n           <td onclick=\"showBox(\\'{ acc. sg. m. }[&lt;a href=&quot;http://sanskrit.inria.fr/DICO/24.html#gacchat&quot;&gt;&lt;i&gt;gacchat&lt;/i&gt;&lt;/a&gt; { ppr. [1] ac. }[&lt;a href=&quot;http://sanskrit.inria.fr/DICO/24.html#gam&quot;&gt;&lt;i&gt;gam&lt;/i&gt;&lt;/a&gt;]]&lt;a href=&quot;javascript:hideBox()&quot;&gt; ✘&lt;/a&gt;\\', \\'#00C0FF\\', this, event)\">\\n            gacchantam\\n           </td>\\n          </tr>\\n         </table>\\n         <a class=\"green\" href=\"/cgi-bin/SKT/sktgraph?t=WX;lex=SH;cache=f;st=t;us=f;cp=t;text=kRewragAminA+varwmanA+gacCanwaM+yAwrikaM+apaSyaw;topic=;abs=f;corpmode=;corpdir=;sentno=;allSol=150;cpts=22,{Kric},{gacchantam},{t}\">\\n          ✓\\n         </a>\\n         <a class=\"red\" href=\"/cgi-bin/SKT/sktgraph?t=WX;lex=SH;cache=f;st=t;us=f;cp=t;text=kRewragAminA+varwmanA+gacCanwaM+yAwrikaM+apaSyaw;topic=;abs=f;corpmode=;corpdir=;sentno=;allSol=150;cpts=22,{Kric},{gacchantam},{f}\">\\n          ✘\\n         </a>\\n        </td>\\n        <td>\\n        </td>\\n        <td align=\"left\" colspan=\"8\">\\n         <table class=\"deep_sky_back\">\\n          <tr>\\n           <td onclick=\"showBox(\\'{ acc. sg. m. | acc. sg. n. | nom. sg. n. }[&lt;a href=&quot;http://sanskrit.inria.fr/DICO/53.html#yaatrika&quot;&gt;&lt;i&gt;yātrika&lt;/i&gt;&lt;/a&gt;]&lt;a href=&quot;javascript:hideBox()&quot;&gt; ✘&lt;/a&gt;\\', \\'#00C0FF\\', this, event)\">\\n            yātrikam\\n           </td>\\n          </tr>\\n         </table>\\n         <a class=\"green\" href=\"/cgi-bin/SKT/sktgraph?t=WX;lex=SH;cache=f;st=t;us=f;cp=t;text=kRewragAminA+varwmanA+gacCanwaM+yAwrikaM+apaSyaw;topic=;abs=f;corpmode=;corpdir=;sentno=;allSol=150;cpts=32,{Nouc},{yaatrikam},{t}\">\\n          ✓\\n         </a>\\n         <a class=\"red\" href=\"/cgi-bin/SKT/sktgraph?t=WX;lex=SH;cache=f;st=t;us=f;cp=t;text=kRewragAminA+varwmanA+gacCanwaM+yAwrikaM+apaSyaw;topic=;abs=f;corpmode=;corpdir=;sentno=;allSol=150;cpts=32,{Nouc},{yaatrikam},{f}\">\\n          ✘\\n         </a>\\n        </td>\\n        <td>\\n        </td>\\n        <td align=\"left\" colspan=\"7\">\\n         <table class=\"carmin_back\">\\n          <tr>\\n           <td onclick=\"showBox(\\'{ impft. [4] ac. sg. 3 }[&lt;a href=&quot;http://sanskrit.inria.fr/DICO/39.html#paz&quot;&gt;&lt;i&gt;paś&lt;/i&gt;&lt;/a&gt;]&lt;a href=&quot;javascript:hideBox()&quot;&gt; ✘&lt;/a&gt;\\', \\'#FF1975\\', this, event)\">\\n            apaśyat\\n           </td>\\n          </tr>\\n         </table>\\n         <a class=\"green\" href=\"/cgi-bin/SKT/sktgraph?t=WX;lex=SH;cache=f;st=t;us=f;cp=t;text=kRewragAminA+varwmanA+gacCanwaM+yAwrikaM+apaSyaw;topic=;abs=f;corpmode=;corpdir=;sentno=;allSol=150;cpts=41,{Root},{apazyat},{t}\">\\n          ✓\\n         </a>\\n         <a class=\"red\" href=\"/cgi-bin/SKT/sktgraph?t=WX;lex=SH;cache=f;st=t;us=f;cp=t;text=kRewragAminA+varwmanA+gacCanwaM+yAwrikaM+apaSyaw;topic=;abs=f;corpmode=;corpdir=;sentno=;allSol=150;cpts=41,{Root},{apazyat},{f}\">\\n          ✘\\n         </a>\\n        </td>\\n        <td>\\n        </td>\\n       </tr>\\n       <tr>\\n        <td>\\n        </td>\\n        <td>\\n        </td>\\n        <td>\\n        </td>\\n        <td>\\n        </td>\\n        <td>\\n        </td>\\n        <td>\\n        </td>\\n        <td align=\"left\" colspan=\"3\">\\n         <table class=\"deep_sky_back\">\\n          <tr>\\n           <td onclick=\"showBox(\\'{ acc. sg. m. | acc. sg. f. }[&lt;a href=&quot;http://sanskrit.inria.fr/DICO/25.html#go&quot;&gt;&lt;i&gt;go&lt;/i&gt;&lt;/a&gt;]&lt;a href=&quot;javascript:hideBox()&quot;&gt; ✘&lt;/a&gt;\\', \\'#00C0FF\\', this, event)\">\\n            gām\\n           </td>\\n          </tr>\\n         </table>\\n         <a class=\"green\" href=\"/cgi-bin/SKT/sktgraph?t=WX;lex=SH;cache=f;st=t;us=f;cp=t;text=kRewragAminA+varwmanA+gacCanwaM+yAwrikaM+apaSyaw;topic=;abs=f;corpmode=;corpdir=;sentno=;allSol=150;cpts=6,{Nouc},{gaam},{t}\">\\n          ✓\\n         </a>\\n         <a class=\"red\" href=\"/cgi-bin/SKT/sktgraph?t=WX;lex=SH;cache=f;st=t;us=f;cp=t;text=kRewragAminA+varwmanA+gacCanwaM+yAwrikaM+apaSyaw;topic=;abs=f;corpmode=;corpdir=;sentno=;allSol=150;cpts=6,{Nouc},{gaam},{f}\">\\n          ✘\\n         </a>\\n        </td>\\n        <td align=\"left\" colspan=\"4\">\\n         <table class=\"deep_sky_back\">\\n          <tr>\\n           <td onclick=\"showBox(\\'{ nom. pl. m. | acc. pl. f. | nom. pl. f. }[&lt;a href=&quot;http://sanskrit.inria.fr/DICO/11.html#ina&quot;&gt;&lt;i&gt;ina&lt;/i&gt;&lt;/a&gt;]&lt;a href=&quot;javascript:hideBox()&quot;&gt; ✘&lt;/a&gt;\\', \\'#00C0FF\\', this, event)\">\\n            ināḥ\\n           </td>\\n          </tr>\\n         </table>\\n         <a class=\"green\" href=\"/cgi-bin/SKT/sktgraph?t=WX;lex=SH;cache=f;st=t;us=f;cp=t;text=kRewragAminA+varwmanA+gacCanwaM+yAwrikaM+apaSyaw;topic=;abs=f;corpmode=;corpdir=;sentno=;allSol=150;cpts=9,{Nouv},{inaas},{t}\">\\n          ✓\\n         </a>\\n         <a class=\"red\" href=\"/cgi-bin/SKT/sktgraph?t=WX;lex=SH;cache=f;st=t;us=f;cp=t;text=kRewragAminA+varwmanA+gacCanwaM+yAwrikaM+apaSyaw;topic=;abs=f;corpmode=;corpdir=;sentno=;allSol=150;cpts=9,{Nouv},{inaas},{f}\">\\n          ✘\\n         </a>\\n        </td>\\n        <td>\\n        </td>\\n        <td>\\n        </td>\\n        <td>\\n        </td>\\n        <td>\\n        </td>\\n        <td>\\n        </td>\\n        <td>\\n        </td>\\n        <td>\\n        </td>\\n        <td>\\n        </td>\\n        <td>\\n        </td>\\n        <td align=\"left\" colspan=\"6\">\\n         <table class=\"deep_sky_back\">\\n          <tr>\\n           <td onclick=\"showBox(\\'{ acc. sg. m. }[&lt;a href=&quot;http://sanskrit.inria.fr/DICO/24.html#gaccha&quot;&gt;&lt;i&gt;gaccha&lt;/i&gt;&lt;/a&gt;]&lt;a href=&quot;javascript:hideBox()&quot;&gt; ✘&lt;/a&gt;\\', \\'#00C0FF\\', this, event)\">\\n            gaccham\\n           </td>\\n          </tr>\\n         </table>\\n         <a class=\"green\" href=\"/cgi-bin/SKT/sktgraph?t=WX;lex=SH;cache=f;st=t;us=f;cp=t;text=kRewragAminA+varwmanA+gacCanwaM+yAwrikaM+apaSyaw;topic=;abs=f;corpmode=;corpdir=;sentno=;allSol=150;cpts=22,{Nouc},{gaccham},{t}\">\\n          ✓\\n         </a>\\n         <a class=\"red\" href=\"/cgi-bin/SKT/sktgraph?t=WX;lex=SH;cache=f;st=t;us=f;cp=t;text=kRewragAminA+varwmanA+gacCanwaM+yAwrikaM+apaSyaw;topic=;abs=f;corpmode=;corpdir=;sentno=;allSol=150;cpts=22,{Nouc},{gaccham},{f}\">\\n          ✘\\n         </a>\\n        </td>\\n        <td align=\"left\" colspan=\"3\">\\n         <table class=\"light_blue_back\">\\n          <tr>\\n           <td onclick=\"showBox(\\'{ acc. sg. m. }[&lt;a href=&quot;http://sanskrit.inria.fr/DICO/28.html#tad&quot;&gt;&lt;i&gt;tad&lt;/i&gt;&lt;/a&gt;]&lt;a href=&quot;javascript:hideBox()&quot;&gt; ✘&lt;/a&gt;\\', \\'#ADD8E6\\', this, event)\">\\n            tam\\n           </td>\\n          </tr>\\n         </table>\\n         <a class=\"green\" href=\"/cgi-bin/SKT/sktgraph?t=WX;lex=SH;cache=f;st=t;us=f;cp=t;text=kRewragAminA+varwmanA+gacCanwaM+yAwrikaM+apaSyaw;topic=;abs=f;corpmode=;corpdir=;sentno=;allSol=150;cpts=28,{Pron},{tam},{t}\">\\n          ✓\\n         </a>\\n         <a class=\"red\" href=\"/cgi-bin/SKT/sktgraph?t=WX;lex=SH;cache=f;st=t;us=f;cp=t;text=kRewragAminA+varwmanA+gacCanwaM+yAwrikaM+apaSyaw;topic=;abs=f;corpmode=;corpdir=;sentno=;allSol=150;cpts=28,{Pron},{tam},{f}\">\\n          ✘\\n         </a>\\n        </td>\\n        <td>\\n        </td>\\n        <td align=\"left\" colspan=\"2\">\\n         <table class=\"light_blue_back\">\\n          <tr>\\n           <td onclick=\"showBox(\\'{ nom. sg. f. }[&lt;a href=&quot;http://sanskrit.inria.fr/DICO/53.html#yad&quot;&gt;&lt;i&gt;yad&lt;/i&gt;&lt;/a&gt;]&lt;a href=&quot;javascript:hideBox()&quot;&gt; ✘&lt;/a&gt;\\', \\'#ADD8E6\\', this, event)\">\\n            yā\\n           </td>\\n          </tr>\\n         </table>\\n         <a class=\"green\" href=\"/cgi-bin/SKT/sktgraph?t=WX;lex=SH;cache=f;st=t;us=f;cp=t;text=kRewragAminA+varwmanA+gacCanwaM+yAwrikaM+apaSyaw;topic=;abs=f;corpmode=;corpdir=;sentno=;allSol=150;cpts=32,{Pron},{yaa},{t}\">\\n          ✓\\n         </a>\\n         <a class=\"red\" href=\"/cgi-bin/SKT/sktgraph?t=WX;lex=SH;cache=f;st=t;us=f;cp=t;text=kRewragAminA+varwmanA+gacCanwaM+yAwrikaM+apaSyaw;topic=;abs=f;corpmode=;corpdir=;sentno=;allSol=150;cpts=32,{Pron},{yaa},{f}\">\\n          ✘\\n         </a>\\n        </td>\\n        <td align=\"left\" colspan=\"6\">\\n         <table class=\"deep_sky_back\">\\n          <tr>\\n           <td onclick=\"showBox(\\'{ acc. sg. m. | acc. sg. n. | nom. sg. n. }[&lt;a href=&quot;http://sanskrit.inria.fr/DICO/30.html#trika&quot;&gt;&lt;i&gt;trika&lt;/i&gt;&lt;/a&gt;]&lt;a href=&quot;javascript:hideBox()&quot;&gt; ✘&lt;/a&gt;\\', \\'#00C0FF\\', this, event)\">\\n            trikam\\n           </td>\\n          </tr>\\n         </table>\\n         <a class=\"green\" href=\"/cgi-bin/SKT/sktgraph?t=WX;lex=SH;cache=f;st=t;us=f;cp=t;text=kRewragAminA+varwmanA+gacCanwaM+yAwrikaM+apaSyaw;topic=;abs=f;corpmode=;corpdir=;sentno=;allSol=150;cpts=34,{Nouc},{trikam},{t}\">\\n          ✓\\n         </a>\\n         <a class=\"red\" href=\"/cgi-bin/SKT/sktgraph?t=WX;lex=SH;cache=f;st=t;us=f;cp=t;text=kRewragAminA+varwmanA+gacCanwaM+yAwrikaM+apaSyaw;topic=;abs=f;corpmode=;corpdir=;sentno=;allSol=150;cpts=34,{Nouc},{trikam},{f}\">\\n          ✘\\n         </a>\\n        </td>\\n        <td>\\n        </td>\\n        <td align=\"left\" colspan=\"3\">\\n         <table class=\"mauve_back\">\\n          <tr>\\n           <td onclick=\"showBox(\\'{ prep. }[&lt;a href=&quot;http://sanskrit.inria.fr/DICO/4.html#apa&quot;&gt;&lt;i&gt;apa&lt;/i&gt;&lt;/a&gt;]&lt;a href=&quot;javascript:hideBox()&quot;&gt; ✘&lt;/a&gt;\\', \\'#FF99FF\\', this, event)\">\\n            apa\\n           </td>\\n          </tr>\\n         </table>\\n         <a class=\"green\" href=\"/cgi-bin/SKT/sktgraph?t=WX;lex=SH;cache=f;st=t;us=f;cp=t;text=kRewragAminA+varwmanA+gacCanwaM+yAwrikaM+apaSyaw;topic=;abs=f;corpmode=;corpdir=;sentno=;allSol=150;cpts=41,{Inde},{apa},{t}\">\\n          ✓\\n         </a>\\n         <a class=\"red\" href=\"/cgi-bin/SKT/sktgraph?t=WX;lex=SH;cache=f;st=t;us=f;cp=t;text=kRewragAminA+varwmanA+gacCanwaM+yAwrikaM+apaSyaw;topic=;abs=f;corpmode=;corpdir=;sentno=;allSol=150;cpts=41,{Inde},{apa},{f}\">\\n          ✘\\n         </a>\\n        </td>\\n        <td align=\"left\" colspan=\"4\">\\n         <table class=\"deep_sky_back\">\\n          <tr>\\n           <td onclick=\"showBox(\\'{ acc. sg. n. | nom. sg. n. }[śyat { ppr. [4] ac. }[&lt;a href=&quot;http://sanskrit.inria.fr/DICO/63.html#zaa&quot;&gt;&lt;i&gt;śā&lt;/i&gt;&lt;/a&gt;]]&lt;a href=&quot;javascript:hideBox()&quot;&gt; ✘&lt;/a&gt;\\', \\'#00C0FF\\', this, event)\">\\n            śyat\\n           </td>\\n          </tr>\\n         </table>\\n         <a class=\"green\" href=\"/cgi-bin/SKT/sktgraph?t=WX;lex=SH;cache=f;st=t;us=f;cp=t;text=kRewragAminA+varwmanA+gacCanwaM+yAwrikaM+apaSyaw;topic=;abs=f;corpmode=;corpdir=;sentno=;allSol=150;cpts=44,{Kric},{zyat},{t}\">\\n          ✓\\n         </a>\\n         <a class=\"red\" href=\"/cgi-bin/SKT/sktgraph?t=WX;lex=SH;cache=f;st=t;us=f;cp=t;text=kRewragAminA+varwmanA+gacCanwaM+yAwrikaM+apaSyaw;topic=;abs=f;corpmode=;corpdir=;sentno=;allSol=150;cpts=44,{Kric},{zyat},{f}\">\\n          ✘\\n         </a>\\n        </td>\\n        <td>\\n        </td>\\n       </tr>\\n       <tr>\\n        <td>\\n        </td>\\n        <td>\\n        </td>\\n        <td>\\n        </td>\\n        <td>\\n        </td>\\n        <td>\\n        </td>\\n        <td>\\n        </td>\\n        <td align=\"left\" colspan=\"3\">\\n         <table class=\"cyan_back\">\\n          <tr>\\n           <td onclick=\"showBox(\\'{ acc. sg. f. }[&lt;a href=&quot;http://sanskrit.inria.fr/DICO/24.html#ga#1&quot;&gt;&lt;i&gt;ga_1&lt;/i&gt;&lt;/a&gt;]&lt;br&gt;{ acc. sg. f. }[&lt;a href=&quot;http://sanskrit.inria.fr/DICO/24.html#ga#2&quot;&gt;&lt;i&gt;ga_2&lt;/i&gt;&lt;/a&gt;]&lt;a href=&quot;javascript:hideBox()&quot;&gt; ✘&lt;/a&gt;\\', \\'#00FFFF\\', this, event)\">\\n            gām\\n           </td>\\n          </tr>\\n         </table>\\n         <a class=\"green\" href=\"/cgi-bin/SKT/sktgraph?t=WX;lex=SH;cache=f;st=t;us=f;cp=t;text=kRewragAminA+varwmanA+gacCanwaM+yAwrikaM+apaSyaw;topic=;abs=f;corpmode=;corpdir=;sentno=;allSol=150;cpts=6,{Ifc},{gaam},{t}\">\\n          ✓\\n         </a>\\n         <a class=\"red\" href=\"/cgi-bin/SKT/sktgraph?t=WX;lex=SH;cache=f;st=t;us=f;cp=t;text=kRewragAminA+varwmanA+gacCanwaM+yAwrikaM+apaSyaw;topic=;abs=f;corpmode=;corpdir=;sentno=;allSol=150;cpts=6,{Ifc},{gaam},{f}\">\\n          ✘\\n         </a>\\n        </td>\\n        <td align=\"left\" colspan=\"3\">\\n         <table class=\"deep_sky_back\">\\n          <tr>\\n           <td onclick=\"showBox(\\'{ nom. sg. f. }[&lt;a href=&quot;http://sanskrit.inria.fr/DICO/11.html#ina&quot;&gt;&lt;i&gt;ina&lt;/i&gt;&lt;/a&gt;]&lt;a href=&quot;javascript:hideBox()&quot;&gt; ✘&lt;/a&gt;\\', \\'#00C0FF\\', this, event)\">\\n            inā\\n           </td>\\n          </tr>\\n         </table>\\n         <a class=\"green\" href=\"/cgi-bin/SKT/sktgraph?t=WX;lex=SH;cache=f;st=t;us=f;cp=t;text=kRewragAminA+varwmanA+gacCanwaM+yAwrikaM+apaSyaw;topic=;abs=f;corpmode=;corpdir=;sentno=;allSol=150;cpts=9,{Nouv},{inaa},{t}\">\\n          ✓\\n         </a>\\n         <a class=\"red\" href=\"/cgi-bin/SKT/sktgraph?t=WX;lex=SH;cache=f;st=t;us=f;cp=t;text=kRewragAminA+varwmanA+gacCanwaM+yAwrikaM+apaSyaw;topic=;abs=f;corpmode=;corpdir=;sentno=;allSol=150;cpts=9,{Nouv},{inaa},{f}\">\\n          ✘\\n         </a>\\n        </td>\\n        <td>\\n        </td>\\n        <td>\\n        </td>\\n        <td>\\n        </td>\\n        <td>\\n        </td>\\n        <td>\\n        </td>\\n        <td>\\n        </td>\\n        <td>\\n        </td>\\n        <td>\\n        </td>\\n        <td>\\n        </td>\\n        <td>\\n        </td>\\n        <td>\\n        </td>\\n        <td>\\n        </td>\\n        <td>\\n        </td>\\n        <td>\\n        </td>\\n        <td>\\n        </td>\\n        <td>\\n        </td>\\n        <td>\\n        </td>\\n        <td>\\n        </td>\\n        <td>\\n        </td>\\n        <td>\\n        </td>\\n        <td>\\n        </td>\\n        <td align=\"left\" colspan=\"1\">\\n         <table class=\"yellow_back\">\\n          <tr>\\n           <td onclick=\"showBox(\\'{ iic. }[&lt;a href=&quot;http://sanskrit.inria.fr/DICO/1.html#a&quot;&gt;&lt;i&gt;a&lt;/i&gt;&lt;/a&gt;]&lt;a href=&quot;javascript:hideBox()&quot;&gt; ✘&lt;/a&gt;\\', \\'#FFFF00\\', this, event)\">\\n            a\\n           </td>\\n          </tr>\\n         </table>\\n         <a class=\"green\" href=\"/cgi-bin/SKT/sktgraph?t=WX;lex=SH;cache=f;st=t;us=f;cp=t;text=kRewragAminA+varwmanA+gacCanwaM+yAwrikaM+apaSyaw;topic=;abs=f;corpmode=;corpdir=;sentno=;allSol=150;cpts=33,{A},{a},{t}\">\\n          ✓\\n         </a>\\n         <a class=\"red\" href=\"/cgi-bin/SKT/sktgraph?t=WX;lex=SH;cache=f;st=t;us=f;cp=t;text=kRewragAminA+varwmanA+gacCanwaM+yAwrikaM+apaSyaw;topic=;abs=f;corpmode=;corpdir=;sentno=;allSol=150;cpts=33,{A},{a},{f}\">\\n          ✘\\n         </a>\\n        </td>\\n        <td>\\n        </td>\\n        <td>\\n        </td>\\n        <td>\\n        </td>\\n        <td>\\n        </td>\\n        <td>\\n        </td>\\n        <td>\\n        </td>\\n        <td>\\n        </td>\\n        <td align=\"left\" colspan=\"1\">\\n         <table class=\"yellow_back\">\\n          <tr>\\n           <td onclick=\"showBox(\\'{ iic. }[&lt;a href=&quot;http://sanskrit.inria.fr/DICO/1.html#a&quot;&gt;&lt;i&gt;a&lt;/i&gt;&lt;/a&gt;]&lt;a href=&quot;javascript:hideBox()&quot;&gt; ✘&lt;/a&gt;\\', \\'#FFFF00\\', this, event)\">\\n            a\\n           </td>\\n          </tr>\\n         </table>\\n         <a class=\"green\" href=\"/cgi-bin/SKT/sktgraph?t=WX;lex=SH;cache=f;st=t;us=f;cp=t;text=kRewragAminA+varwmanA+gacCanwaM+yAwrikaM+apaSyaw;topic=;abs=f;corpmode=;corpdir=;sentno=;allSol=150;cpts=41,{A},{a},{t}\">\\n          ✓\\n         </a>\\n         <a class=\"red\" href=\"/cgi-bin/SKT/sktgraph?t=WX;lex=SH;cache=f;st=t;us=f;cp=t;text=kRewragAminA+varwmanA+gacCanwaM+yAwrikaM+apaSyaw;topic=;abs=f;corpmode=;corpdir=;sentno=;allSol=150;cpts=41,{A},{a},{f}\">\\n          ✘\\n         </a>\\n        </td>\\n        <td align=\"left\" colspan=\"6\">\\n         <table class=\"deep_sky_back\">\\n          <tr>\\n           <td onclick=\"showBox(\\'{ acc. sg. n. | nom. sg. n. }[&lt;a href=&quot;http://sanskrit.inria.fr/DICO/39.html#pazyat&quot;&gt;&lt;i&gt;paśyat&lt;/i&gt;&lt;/a&gt; { ppr. [4] ac. }[&lt;a href=&quot;http://sanskrit.inria.fr/DICO/39.html#paz&quot;&gt;&lt;i&gt;paś&lt;/i&gt;&lt;/a&gt;]]&lt;a href=&quot;javascript:hideBox()&quot;&gt; ✘&lt;/a&gt;\\', \\'#00C0FF\\', this, event)\">\\n            paśyat\\n           </td>\\n          </tr>\\n         </table>\\n         <a class=\"green\" href=\"/cgi-bin/SKT/sktgraph?t=WX;lex=SH;cache=f;st=t;us=f;cp=t;text=kRewragAminA+varwmanA+gacCanwaM+yAwrikaM+apaSyaw;topic=;abs=f;corpmode=;corpdir=;sentno=;allSol=150;cpts=42,{Kric},{pazyat},{t}\">\\n          ✓\\n         </a>\\n         <a class=\"red\" href=\"/cgi-bin/SKT/sktgraph?t=WX;lex=SH;cache=f;st=t;us=f;cp=t;text=kRewragAminA+varwmanA+gacCanwaM+yAwrikaM+apaSyaw;topic=;abs=f;corpmode=;corpdir=;sentno=;allSol=150;cpts=42,{Kric},{pazyat},{f}\">\\n          ✘\\n         </a>\\n        </td>\\n        <td>\\n        </td>\\n       </tr>\\n       <tr>\\n        <td>\\n        </td>\\n        <td>\\n        </td>\\n        <td>\\n        </td>\\n        <td>\\n        </td>\\n        <td>\\n        </td>\\n        <td>\\n        </td>\\n        <td>\\n        </td>\\n        <td>\\n        </td>\\n        <td>\\n        </td>\\n        <td>\\n        </td>\\n        <td>\\n        </td>\\n        <td>\\n        </td>\\n        <td>\\n        </td>\\n        <td>\\n        </td>\\n        <td>\\n        </td>\\n        <td>\\n        </td>\\n        <td>\\n        </td>\\n        <td>\\n        </td>\\n        <td>\\n        </td>\\n        <td>\\n        </td>\\n        <td>\\n        </td>\\n        <td>\\n        </td>\\n        <td>\\n        </td>\\n        <td>\\n        </td>\\n        <td>\\n        </td>\\n        <td>\\n        </td>\\n        <td>\\n        </td>\\n        <td>\\n        </td>\\n        <td>\\n        </td>\\n        <td>\\n        </td>\\n        <td>\\n        </td>\\n        <td>\\n        </td>\\n        <td>\\n        </td>\\n        <td>\\n        </td>\\n        <td>\\n        </td>\\n        <td>\\n        </td>\\n        <td>\\n        </td>\\n        <td>\\n        </td>\\n        <td>\\n        </td>\\n        <td>\\n        </td>\\n        <td>\\n        </td>\\n        <td>\\n        </td>\\n        <td align=\"left\" colspan=\"6\">\\n         <table class=\"lawngreen_back\">\\n          <tr>\\n           <td onclick=\"showBox(\\'{ voc. sg. n. }[&lt;a href=&quot;http://sanskrit.inria.fr/DICO/39.html#pazyat&quot;&gt;&lt;i&gt;paśyat&lt;/i&gt;&lt;/a&gt; { ppr. [4] ac. }[&lt;a href=&quot;http://sanskrit.inria.fr/DICO/39.html#paz&quot;&gt;&lt;i&gt;paś&lt;/i&gt;&lt;/a&gt;]]&lt;a href=&quot;javascript:hideBox()&quot;&gt; ✘&lt;/a&gt;\\', \\'#7CFC00\\', this, event)\">\\n            paśyat\\n           </td>\\n          </tr>\\n         </table>\\n         <a class=\"green\" href=\"/cgi-bin/SKT/sktgraph?t=WX;lex=SH;cache=f;st=t;us=f;cp=t;text=kRewragAminA+varwmanA+gacCanwaM+yAwrikaM+apaSyaw;topic=;abs=f;corpmode=;corpdir=;sentno=;allSol=150;cpts=42,{Vokc},{pazyat},{t}\">\\n          ✓\\n         </a>\\n         <a class=\"red\" href=\"/cgi-bin/SKT/sktgraph?t=WX;lex=SH;cache=f;st=t;us=f;cp=t;text=kRewragAminA+varwmanA+gacCanwaM+yAwrikaM+apaSyaw;topic=;abs=f;corpmode=;corpdir=;sentno=;allSol=150;cpts=42,{Vokc},{pazyat},{f}\">\\n          ✘\\n         </a>\\n        </td>\\n        <td>\\n        </td>\\n       </tr>\\n       <tr>\\n        <td>\\n        </td>\\n        <td>\\n        </td>\\n        <td>\\n        </td>\\n        <td>\\n        </td>\\n        <td>\\n        </td>\\n        <td>\\n        </td>\\n        <td>\\n        </td>\\n        <td>\\n        </td>\\n        <td>\\n        </td>\\n        <td>\\n        </td>\\n        <td>\\n        </td>\\n        <td>\\n        </td>\\n        <td>\\n        </td>\\n        <td>\\n        </td>\\n        <td>\\n        </td>\\n        <td>\\n        </td>\\n        <td>\\n        </td>\\n        <td>\\n        </td>\\n        <td>\\n        </td>\\n        <td>\\n        </td>\\n        <td>\\n        </td>\\n        <td>\\n        </td>\\n        <td>\\n        </td>\\n        <td>\\n        </td>\\n        <td>\\n        </td>\\n        <td>\\n        </td>\\n        <td>\\n        </td>\\n        <td>\\n        </td>\\n        <td>\\n        </td>\\n        <td>\\n        </td>\\n        <td>\\n        </td>\\n        <td>\\n        </td>\\n        <td>\\n        </td>\\n        <td>\\n        </td>\\n        <td>\\n        </td>\\n        <td>\\n        </td>\\n        <td>\\n        </td>\\n        <td>\\n        </td>\\n        <td>\\n        </td>\\n        <td>\\n        </td>\\n        <td>\\n        </td>\\n        <td>\\n        </td>\\n        <td>\\n        </td>\\n        <td>\\n        </td>\\n        <td align=\"left\" colspan=\"4\">\\n         <table class=\"lawngreen_back\">\\n          <tr>\\n           <td onclick=\"showBox(\\'{ voc. sg. n. }[śyat { ppr. [4] ac. }[&lt;a href=&quot;http://sanskrit.inria.fr/DICO/63.html#zaa&quot;&gt;&lt;i&gt;śā&lt;/i&gt;&lt;/a&gt;]]&lt;a href=&quot;javascript:hideBox()&quot;&gt; ✘&lt;/a&gt;\\', \\'#7CFC00\\', this, event)\">\\n            śyat\\n           </td>\\n          </tr>\\n         </table>\\n         <a class=\"green\" href=\"/cgi-bin/SKT/sktgraph?t=WX;lex=SH;cache=f;st=t;us=f;cp=t;text=kRewragAminA+varwmanA+gacCanwaM+yAwrikaM+apaSyaw;topic=;abs=f;corpmode=;corpdir=;sentno=;allSol=150;cpts=44,{Vokc},{zyat},{t}\">\\n          ✓\\n         </a>\\n         <a class=\"red\" href=\"/cgi-bin/SKT/sktgraph?t=WX;lex=SH;cache=f;st=t;us=f;cp=t;text=kRewragAminA+varwmanA+gacCanwaM+yAwrikaM+apaSyaw;topic=;abs=f;corpmode=;corpdir=;sentno=;allSol=150;cpts=44,{Vokc},{zyat},{f}\">\\n          ✘\\n         </a>\\n        </td>\\n        <td>\\n        </td>\\n       </tr>\\n      </table>\\n     </div>\\n     <br/>\\n     <br/>\\n     <br/>\\n    </td>\\n   </tr>\\n  </table>\\n  <table class=\"pad60\">\\n   <tr>\\n    <td>\\n    </td>\\n   </tr>\\n  </table>\\n  <div class=\"enpied\">\\n   <table class=\"bandeau\">\\n    <tr>\\n     <td>\\n      <a href=\"http://ocaml.org\">\\n       <img alt=\"Le chameau Ocaml\" height=\"50\" src=\"http://sanskrit.inria.fr/IMAGES/icon_ocaml.png\"/>\\n      </a>\\n     </td>\\n     <td>\\n      <table class=\"center\">\\n       <tr>\\n        <td>\\n         <a href=\"http://sanskrit.inria.fr/index.fr.html\">\\n          <b>\\n           Top\\n          </b>\\n         </a>\\n         |\\n         <a href=\"http://sanskrit.inria.fr/DICO/index.fr.html\">\\n          <b>\\n           Index\\n          </b>\\n         </a>\\n         |\\n         <a href=\"http://sanskrit.inria.fr/DICO/index.fr.html#stemmer\">\\n          <b>\\n           Stemmer\\n          </b>\\n         </a>\\n         |\\n         <a href=\"http://sanskrit.inria.fr/DICO/grammar.fr.html\">\\n          <b>\\n           Grammar\\n          </b>\\n         </a>\\n         |\\n         <a href=\"http://sanskrit.inria.fr/DICO/sandhi.fr.html\">\\n          <b>\\n           Sandhi\\n          </b>\\n         </a>\\n         |\\n         <a href=\"http://sanskrit.inria.fr/DICO/reader.fr.html\">\\n          <b>\\n           Reader\\n          </b>\\n         </a>\\n         |\\n         <a href=\"http://sanskrit.inria.fr/DICO/corpus.fr.html\">\\n          <b>\\n           Corpus\\n          </b>\\n         </a>\\n         |\\n         <a href=\"http://sanskrit.inria.fr/faq.fr.html\">\\n          <b>\\n           Help\\n          </b>\\n         </a>\\n         |\\n         <a href=\"http://sanskrit.inria.fr/portal.fr.html\">\\n          <b>\\n           Portal\\n          </b>\\n         </a>\\n        </td>\\n       </tr>\\n       <tr>\\n        <td>\\n         © Gérard Huet 1994-2017\\n        </td>\\n       </tr>\\n      </table>\\n     </td>\\n     <td>\\n      <a href=\"http://www.inria.fr/\">\\n       <img alt=\"Logo Inria\" height=\"50\" src=\"http://sanskrit.inria.fr/IMAGES/logo_inria.png\"/>\\n      </a>\\n      <br/>\\n     </td>\\n    </tr>\\n   </table>\\n  </div>\\n </body>\\n</html>\\n'"
      ]
     },
     "execution_count": 4,
     "metadata": {},
     "output_type": "execute_result"
    }
   ],
   "source": [
    "soup = bs(page.text, 'html.parser')\n",
    "soup.prettify()"
   ]
  },
  {
   "cell_type": "code",
   "execution_count": 5,
   "metadata": {},
   "outputs": [
    {
     "name": "stdout",
     "output_type": "stream",
     "text": [
      "<table border=\"0\" cellpadding=\"0%\" cellspacing=\"15pt\" class=\"chamois_back\" width=\"100%\">\n",
      "<tr><td>\n",
      "<br/>\n",
      "<span class=\"latin16\">Sentence: </span>\n",
      "<span class=\"deva16\" lang=\"sa\">क्षेत्रगामिना वर्त्मना गच्छन्तम् यात्रिकम् अपश्यत्</span><br/><div class=\"latin16\"><table class=\"spacing20\">\n",
      "<tr>\n",
      "<td><a class=\"green\" href=\"/cgi-bin/SKT/sktgraph?t=WX;lex=SH;cache=f;st=t;us=f;cp=t;text=kRewragAminA+varwmanA+gacCanwaM+yAwrikaM+apaSyaw;topic=;abs=f;corpmode=;corpdir=;sentno=;allSol=150;cpts=\">✓</a>Undo</td><td>(150 Solutions)</td></tr>\n",
      "</table>\n",
      "</div><br/>\n",
      "<div class=\"latin12\"><table class=\"center\">\n",
      "<tr><td>k</td><td>ṣ</td><td>e</td><td>t</td><td>r</td><td>a</td><td>g</td><td>ā</td><td>m</td><td>i</td><td>n</td><td>ā</td><td>_</td><td>v</td><td>a</td><td>r</td><td>t</td><td>m</td><td>a</td><td>n</td><td>ā</td><td>_</td><td>g</td><td>a</td><td>c</td><td>ch</td><td>a</td><td>n</td><td>t</td><td>a</td><td>m</td><td> </td><td>y</td><td>ā</td><td>t</td><td>r</td><td>i</td><td>k</td><td>a</td><td>m</td><td> </td><td>a</td><td>p</td><td>a</td><td>ś</td><td>y</td><td>a</td><td>t</td><td> </td></tr>\n",
      "<tr><td align=\"left\" colspan=\"6\"><table class=\"yellow_back\">\n",
      "<tr><td onclick=\"showBox('{ iic. }[&lt;a href=&quot;http://sanskrit.inria.fr/DICO/23.html#k.setra&quot;&gt;&lt;i&gt;kṣetra&lt;/i&gt;&lt;/a&gt;]&lt;a href=&quot;javascript:hideBox()&quot;&gt; ✘&lt;/a&gt;', '#FFFF00', this, event)\">kṣetra</td></tr></table><span class=\"blue\">✓</span></td><td align=\"left\" colspan=\"6\"><table class=\"deep_sky_back\">\n",
      "<tr><td onclick=\"showBox('{ i. sg. m. | i. sg. n. }[&lt;a href=&quot;http://sanskrit.inria.fr/DICO/24.html#gaamin&quot;&gt;&lt;i&gt;gāmin&lt;/i&gt;&lt;/a&gt;]&lt;a href=&quot;javascript:hideBox()&quot;&gt; ✘&lt;/a&gt;', '#00C0FF', this, event)\">gāminā</td></tr></table><a class=\"green\" href=\"/cgi-bin/SKT/sktgraph?t=WX;lex=SH;cache=f;st=t;us=f;cp=t;text=kRewragAminA+varwmanA+gacCanwaM+yAwrikaM+apaSyaw;topic=;abs=f;corpmode=;corpdir=;sentno=;allSol=150;cpts=6,{Nouc},{gaaminaa},{t}\">✓</a><a class=\"red\" href=\"/cgi-bin/SKT/sktgraph?t=WX;lex=SH;cache=f;st=t;us=f;cp=t;text=kRewragAminA+varwmanA+gacCanwaM+yAwrikaM+apaSyaw;topic=;abs=f;corpmode=;corpdir=;sentno=;allSol=150;cpts=6,{Nouc},{gaaminaa},{f}\">✘</a></td><td></td><td align=\"left\" colspan=\"8\"><table class=\"deep_sky_back\">\n",
      "<tr><td onclick=\"showBox('{ i. sg. n. }[&lt;a href=&quot;http://sanskrit.inria.fr/DICO/57.html#vartman&quot;&gt;&lt;i&gt;vartman&lt;/i&gt;&lt;/a&gt;]&lt;a href=&quot;javascript:hideBox()&quot;&gt; ✘&lt;/a&gt;', '#00C0FF', this, event)\">vartmanā</td></tr></table><span class=\"blue\">✓</span></td><td></td><td align=\"left\" colspan=\"9\"><table class=\"deep_sky_back\">\n",
      "<tr><td onclick=\"showBox('{ acc. sg. m. }[&lt;a href=&quot;http://sanskrit.inria.fr/DICO/24.html#gacchat&quot;&gt;&lt;i&gt;gacchat&lt;/i&gt;&lt;/a&gt; { ppr. [1] ac. }[&lt;a href=&quot;http://sanskrit.inria.fr/DICO/24.html#gam&quot;&gt;&lt;i&gt;gam&lt;/i&gt;&lt;/a&gt;]]&lt;a href=&quot;javascript:hideBox()&quot;&gt; ✘&lt;/a&gt;', '#00C0FF', this, event)\">gacchantam</td></tr></table><a class=\"green\" href=\"/cgi-bin/SKT/sktgraph?t=WX;lex=SH;cache=f;st=t;us=f;cp=t;text=kRewragAminA+varwmanA+gacCanwaM+yAwrikaM+apaSyaw;topic=;abs=f;corpmode=;corpdir=;sentno=;allSol=150;cpts=22,{Kric},{gacchantam},{t}\">✓</a><a class=\"red\" href=\"/cgi-bin/SKT/sktgraph?t=WX;lex=SH;cache=f;st=t;us=f;cp=t;text=kRewragAminA+varwmanA+gacCanwaM+yAwrikaM+apaSyaw;topic=;abs=f;corpmode=;corpdir=;sentno=;allSol=150;cpts=22,{Kric},{gacchantam},{f}\">✘</a></td><td></td><td align=\"left\" colspan=\"8\"><table class=\"deep_sky_back\">\n",
      "<tr><td onclick=\"showBox('{ acc. sg. m. | acc. sg. n. | nom. sg. n. }[&lt;a href=&quot;http://sanskrit.inria.fr/DICO/53.html#yaatrika&quot;&gt;&lt;i&gt;yātrika&lt;/i&gt;&lt;/a&gt;]&lt;a href=&quot;javascript:hideBox()&quot;&gt; ✘&lt;/a&gt;', '#00C0FF', this, event)\">yātrikam</td></tr></table><a class=\"green\" href=\"/cgi-bin/SKT/sktgraph?t=WX;lex=SH;cache=f;st=t;us=f;cp=t;text=kRewragAminA+varwmanA+gacCanwaM+yAwrikaM+apaSyaw;topic=;abs=f;corpmode=;corpdir=;sentno=;allSol=150;cpts=32,{Nouc},{yaatrikam},{t}\">✓</a><a class=\"red\" href=\"/cgi-bin/SKT/sktgraph?t=WX;lex=SH;cache=f;st=t;us=f;cp=t;text=kRewragAminA+varwmanA+gacCanwaM+yAwrikaM+apaSyaw;topic=;abs=f;corpmode=;corpdir=;sentno=;allSol=150;cpts=32,{Nouc},{yaatrikam},{f}\">✘</a></td><td></td><td align=\"left\" colspan=\"7\"><table class=\"carmin_back\">\n",
      "<tr><td onclick=\"showBox('{ impft. [4] ac. sg. 3 }[&lt;a href=&quot;http://sanskrit.inria.fr/DICO/39.html#paz&quot;&gt;&lt;i&gt;paś&lt;/i&gt;&lt;/a&gt;]&lt;a href=&quot;javascript:hideBox()&quot;&gt; ✘&lt;/a&gt;', '#FF1975', this, event)\">apaśyat</td></tr></table><a class=\"green\" href=\"/cgi-bin/SKT/sktgraph?t=WX;lex=SH;cache=f;st=t;us=f;cp=t;text=kRewragAminA+varwmanA+gacCanwaM+yAwrikaM+apaSyaw;topic=;abs=f;corpmode=;corpdir=;sentno=;allSol=150;cpts=41,{Root},{apazyat},{t}\">✓</a><a class=\"red\" href=\"/cgi-bin/SKT/sktgraph?t=WX;lex=SH;cache=f;st=t;us=f;cp=t;text=kRewragAminA+varwmanA+gacCanwaM+yAwrikaM+apaSyaw;topic=;abs=f;corpmode=;corpdir=;sentno=;allSol=150;cpts=41,{Root},{apazyat},{f}\">✘</a></td><td></td></tr>\n",
      "<tr><td></td><td></td><td></td><td></td><td></td><td></td><td align=\"left\" colspan=\"3\"><table class=\"deep_sky_back\">\n",
      "<tr><td onclick=\"showBox('{ acc. sg. m. | acc. sg. f. }[&lt;a href=&quot;http://sanskrit.inria.fr/DICO/25.html#go&quot;&gt;&lt;i&gt;go&lt;/i&gt;&lt;/a&gt;]&lt;a href=&quot;javascript:hideBox()&quot;&gt; ✘&lt;/a&gt;', '#00C0FF', this, event)\">gām</td></tr></table><a class=\"green\" href=\"/cgi-bin/SKT/sktgraph?t=WX;lex=SH;cache=f;st=t;us=f;cp=t;text=kRewragAminA+varwmanA+gacCanwaM+yAwrikaM+apaSyaw;topic=;abs=f;corpmode=;corpdir=;sentno=;allSol=150;cpts=6,{Nouc},{gaam},{t}\">✓</a><a class=\"red\" href=\"/cgi-bin/SKT/sktgraph?t=WX;lex=SH;cache=f;st=t;us=f;cp=t;text=kRewragAminA+varwmanA+gacCanwaM+yAwrikaM+apaSyaw;topic=;abs=f;corpmode=;corpdir=;sentno=;allSol=150;cpts=6,{Nouc},{gaam},{f}\">✘</a></td><td align=\"left\" colspan=\"4\"><table class=\"deep_sky_back\">\n",
      "<tr><td onclick=\"showBox('{ nom. pl. m. | acc. pl. f. | nom. pl. f. }[&lt;a href=&quot;http://sanskrit.inria.fr/DICO/11.html#ina&quot;&gt;&lt;i&gt;ina&lt;/i&gt;&lt;/a&gt;]&lt;a href=&quot;javascript:hideBox()&quot;&gt; ✘&lt;/a&gt;', '#00C0FF', this, event)\">ināḥ</td></tr></table><a class=\"green\" href=\"/cgi-bin/SKT/sktgraph?t=WX;lex=SH;cache=f;st=t;us=f;cp=t;text=kRewragAminA+varwmanA+gacCanwaM+yAwrikaM+apaSyaw;topic=;abs=f;corpmode=;corpdir=;sentno=;allSol=150;cpts=9,{Nouv},{inaas},{t}\">✓</a><a class=\"red\" href=\"/cgi-bin/SKT/sktgraph?t=WX;lex=SH;cache=f;st=t;us=f;cp=t;text=kRewragAminA+varwmanA+gacCanwaM+yAwrikaM+apaSyaw;topic=;abs=f;corpmode=;corpdir=;sentno=;allSol=150;cpts=9,{Nouv},{inaas},{f}\">✘</a></td><td></td><td></td><td></td><td></td><td></td><td></td><td></td><td></td><td></td><td align=\"left\" colspan=\"6\"><table class=\"deep_sky_back\">\n",
      "<tr><td onclick=\"showBox('{ acc. sg. m. }[&lt;a href=&quot;http://sanskrit.inria.fr/DICO/24.html#gaccha&quot;&gt;&lt;i&gt;gaccha&lt;/i&gt;&lt;/a&gt;]&lt;a href=&quot;javascript:hideBox()&quot;&gt; ✘&lt;/a&gt;', '#00C0FF', this, event)\">gaccham</td></tr></table><a class=\"green\" href=\"/cgi-bin/SKT/sktgraph?t=WX;lex=SH;cache=f;st=t;us=f;cp=t;text=kRewragAminA+varwmanA+gacCanwaM+yAwrikaM+apaSyaw;topic=;abs=f;corpmode=;corpdir=;sentno=;allSol=150;cpts=22,{Nouc},{gaccham},{t}\">✓</a><a class=\"red\" href=\"/cgi-bin/SKT/sktgraph?t=WX;lex=SH;cache=f;st=t;us=f;cp=t;text=kRewragAminA+varwmanA+gacCanwaM+yAwrikaM+apaSyaw;topic=;abs=f;corpmode=;corpdir=;sentno=;allSol=150;cpts=22,{Nouc},{gaccham},{f}\">✘</a></td><td align=\"left\" colspan=\"3\"><table class=\"light_blue_back\">\n",
      "<tr><td onclick=\"showBox('{ acc. sg. m. }[&lt;a href=&quot;http://sanskrit.inria.fr/DICO/28.html#tad&quot;&gt;&lt;i&gt;tad&lt;/i&gt;&lt;/a&gt;]&lt;a href=&quot;javascript:hideBox()&quot;&gt; ✘&lt;/a&gt;', '#ADD8E6', this, event)\">tam</td></tr></table><a class=\"green\" href=\"/cgi-bin/SKT/sktgraph?t=WX;lex=SH;cache=f;st=t;us=f;cp=t;text=kRewragAminA+varwmanA+gacCanwaM+yAwrikaM+apaSyaw;topic=;abs=f;corpmode=;corpdir=;sentno=;allSol=150;cpts=28,{Pron},{tam},{t}\">✓</a><a class=\"red\" href=\"/cgi-bin/SKT/sktgraph?t=WX;lex=SH;cache=f;st=t;us=f;cp=t;text=kRewragAminA+varwmanA+gacCanwaM+yAwrikaM+apaSyaw;topic=;abs=f;corpmode=;corpdir=;sentno=;allSol=150;cpts=28,{Pron},{tam},{f}\">✘</a></td><td></td><td align=\"left\" colspan=\"2\"><table class=\"light_blue_back\">\n",
      "<tr><td onclick=\"showBox('{ nom. sg. f. }[&lt;a href=&quot;http://sanskrit.inria.fr/DICO/53.html#yad&quot;&gt;&lt;i&gt;yad&lt;/i&gt;&lt;/a&gt;]&lt;a href=&quot;javascript:hideBox()&quot;&gt; ✘&lt;/a&gt;', '#ADD8E6', this, event)\">yā</td></tr></table><a class=\"green\" href=\"/cgi-bin/SKT/sktgraph?t=WX;lex=SH;cache=f;st=t;us=f;cp=t;text=kRewragAminA+varwmanA+gacCanwaM+yAwrikaM+apaSyaw;topic=;abs=f;corpmode=;corpdir=;sentno=;allSol=150;cpts=32,{Pron},{yaa},{t}\">✓</a><a class=\"red\" href=\"/cgi-bin/SKT/sktgraph?t=WX;lex=SH;cache=f;st=t;us=f;cp=t;text=kRewragAminA+varwmanA+gacCanwaM+yAwrikaM+apaSyaw;topic=;abs=f;corpmode=;corpdir=;sentno=;allSol=150;cpts=32,{Pron},{yaa},{f}\">✘</a></td><td align=\"left\" colspan=\"6\"><table class=\"deep_sky_back\">\n",
      "<tr><td onclick=\"showBox('{ acc. sg. m. | acc. sg. n. | nom. sg. n. }[&lt;a href=&quot;http://sanskrit.inria.fr/DICO/30.html#trika&quot;&gt;&lt;i&gt;trika&lt;/i&gt;&lt;/a&gt;]&lt;a href=&quot;javascript:hideBox()&quot;&gt; ✘&lt;/a&gt;', '#00C0FF', this, event)\">trikam</td></tr></table><a class=\"green\" href=\"/cgi-bin/SKT/sktgraph?t=WX;lex=SH;cache=f;st=t;us=f;cp=t;text=kRewragAminA+varwmanA+gacCanwaM+yAwrikaM+apaSyaw;topic=;abs=f;corpmode=;corpdir=;sentno=;allSol=150;cpts=34,{Nouc},{trikam},{t}\">✓</a><a class=\"red\" href=\"/cgi-bin/SKT/sktgraph?t=WX;lex=SH;cache=f;st=t;us=f;cp=t;text=kRewragAminA+varwmanA+gacCanwaM+yAwrikaM+apaSyaw;topic=;abs=f;corpmode=;corpdir=;sentno=;allSol=150;cpts=34,{Nouc},{trikam},{f}\">✘</a></td><td></td><td align=\"left\" colspan=\"3\"><table class=\"mauve_back\">\n",
      "<tr><td onclick=\"showBox('{ prep. }[&lt;a href=&quot;http://sanskrit.inria.fr/DICO/4.html#apa&quot;&gt;&lt;i&gt;apa&lt;/i&gt;&lt;/a&gt;]&lt;a href=&quot;javascript:hideBox()&quot;&gt; ✘&lt;/a&gt;', '#FF99FF', this, event)\">apa</td></tr></table><a class=\"green\" href=\"/cgi-bin/SKT/sktgraph?t=WX;lex=SH;cache=f;st=t;us=f;cp=t;text=kRewragAminA+varwmanA+gacCanwaM+yAwrikaM+apaSyaw;topic=;abs=f;corpmode=;corpdir=;sentno=;allSol=150;cpts=41,{Inde},{apa},{t}\">✓</a><a class=\"red\" href=\"/cgi-bin/SKT/sktgraph?t=WX;lex=SH;cache=f;st=t;us=f;cp=t;text=kRewragAminA+varwmanA+gacCanwaM+yAwrikaM+apaSyaw;topic=;abs=f;corpmode=;corpdir=;sentno=;allSol=150;cpts=41,{Inde},{apa},{f}\">✘</a></td><td align=\"left\" colspan=\"4\"><table class=\"deep_sky_back\">\n",
      "<tr><td onclick=\"showBox('{ acc. sg. n. | nom. sg. n. }[śyat { ppr. [4] ac. }[&lt;a href=&quot;http://sanskrit.inria.fr/DICO/63.html#zaa&quot;&gt;&lt;i&gt;śā&lt;/i&gt;&lt;/a&gt;]]&lt;a href=&quot;javascript:hideBox()&quot;&gt; ✘&lt;/a&gt;', '#00C0FF', this, event)\">śyat</td></tr></table><a class=\"green\" href=\"/cgi-bin/SKT/sktgraph?t=WX;lex=SH;cache=f;st=t;us=f;cp=t;text=kRewragAminA+varwmanA+gacCanwaM+yAwrikaM+apaSyaw;topic=;abs=f;corpmode=;corpdir=;sentno=;allSol=150;cpts=44,{Kric},{zyat},{t}\">✓</a><a class=\"red\" href=\"/cgi-bin/SKT/sktgraph?t=WX;lex=SH;cache=f;st=t;us=f;cp=t;text=kRewragAminA+varwmanA+gacCanwaM+yAwrikaM+apaSyaw;topic=;abs=f;corpmode=;corpdir=;sentno=;allSol=150;cpts=44,{Kric},{zyat},{f}\">✘</a></td><td></td></tr>\n",
      "<tr><td></td><td></td><td></td><td></td><td></td><td></td><td align=\"left\" colspan=\"3\"><table class=\"cyan_back\">\n",
      "<tr><td onclick=\"showBox('{ acc. sg. f. }[&lt;a href=&quot;http://sanskrit.inria.fr/DICO/24.html#ga#1&quot;&gt;&lt;i&gt;ga_1&lt;/i&gt;&lt;/a&gt;]&lt;br&gt;{ acc. sg. f. }[&lt;a href=&quot;http://sanskrit.inria.fr/DICO/24.html#ga#2&quot;&gt;&lt;i&gt;ga_2&lt;/i&gt;&lt;/a&gt;]&lt;a href=&quot;javascript:hideBox()&quot;&gt; ✘&lt;/a&gt;', '#00FFFF', this, event)\">gām</td></tr></table><a class=\"green\" href=\"/cgi-bin/SKT/sktgraph?t=WX;lex=SH;cache=f;st=t;us=f;cp=t;text=kRewragAminA+varwmanA+gacCanwaM+yAwrikaM+apaSyaw;topic=;abs=f;corpmode=;corpdir=;sentno=;allSol=150;cpts=6,{Ifc},{gaam},{t}\">✓</a><a class=\"red\" href=\"/cgi-bin/SKT/sktgraph?t=WX;lex=SH;cache=f;st=t;us=f;cp=t;text=kRewragAminA+varwmanA+gacCanwaM+yAwrikaM+apaSyaw;topic=;abs=f;corpmode=;corpdir=;sentno=;allSol=150;cpts=6,{Ifc},{gaam},{f}\">✘</a></td><td align=\"left\" colspan=\"3\"><table class=\"deep_sky_back\">\n",
      "<tr><td onclick=\"showBox('{ nom. sg. f. }[&lt;a href=&quot;http://sanskrit.inria.fr/DICO/11.html#ina&quot;&gt;&lt;i&gt;ina&lt;/i&gt;&lt;/a&gt;]&lt;a href=&quot;javascript:hideBox()&quot;&gt; ✘&lt;/a&gt;', '#00C0FF', this, event)\">inā</td></tr></table><a class=\"green\" href=\"/cgi-bin/SKT/sktgraph?t=WX;lex=SH;cache=f;st=t;us=f;cp=t;text=kRewragAminA+varwmanA+gacCanwaM+yAwrikaM+apaSyaw;topic=;abs=f;corpmode=;corpdir=;sentno=;allSol=150;cpts=9,{Nouv},{inaa},{t}\">✓</a><a class=\"red\" href=\"/cgi-bin/SKT/sktgraph?t=WX;lex=SH;cache=f;st=t;us=f;cp=t;text=kRewragAminA+varwmanA+gacCanwaM+yAwrikaM+apaSyaw;topic=;abs=f;corpmode=;corpdir=;sentno=;allSol=150;cpts=9,{Nouv},{inaa},{f}\">✘</a></td><td></td><td></td><td></td><td></td><td></td><td></td><td></td><td></td><td></td><td></td><td></td><td></td><td></td><td></td><td></td><td></td><td></td><td></td><td></td><td></td><td></td><td align=\"left\" colspan=\"1\"><table class=\"yellow_back\">\n",
      "<tr><td onclick=\"showBox('{ iic. }[&lt;a href=&quot;http://sanskrit.inria.fr/DICO/1.html#a&quot;&gt;&lt;i&gt;a&lt;/i&gt;&lt;/a&gt;]&lt;a href=&quot;javascript:hideBox()&quot;&gt; ✘&lt;/a&gt;', '#FFFF00', this, event)\">a</td></tr></table><a class=\"green\" href=\"/cgi-bin/SKT/sktgraph?t=WX;lex=SH;cache=f;st=t;us=f;cp=t;text=kRewragAminA+varwmanA+gacCanwaM+yAwrikaM+apaSyaw;topic=;abs=f;corpmode=;corpdir=;sentno=;allSol=150;cpts=33,{A},{a},{t}\">✓</a><a class=\"red\" href=\"/cgi-bin/SKT/sktgraph?t=WX;lex=SH;cache=f;st=t;us=f;cp=t;text=kRewragAminA+varwmanA+gacCanwaM+yAwrikaM+apaSyaw;topic=;abs=f;corpmode=;corpdir=;sentno=;allSol=150;cpts=33,{A},{a},{f}\">✘</a></td><td></td><td></td><td></td><td></td><td></td><td></td><td></td><td align=\"left\" colspan=\"1\"><table class=\"yellow_back\">\n",
      "<tr><td onclick=\"showBox('{ iic. }[&lt;a href=&quot;http://sanskrit.inria.fr/DICO/1.html#a&quot;&gt;&lt;i&gt;a&lt;/i&gt;&lt;/a&gt;]&lt;a href=&quot;javascript:hideBox()&quot;&gt; ✘&lt;/a&gt;', '#FFFF00', this, event)\">a</td></tr></table><a class=\"green\" href=\"/cgi-bin/SKT/sktgraph?t=WX;lex=SH;cache=f;st=t;us=f;cp=t;text=kRewragAminA+varwmanA+gacCanwaM+yAwrikaM+apaSyaw;topic=;abs=f;corpmode=;corpdir=;sentno=;allSol=150;cpts=41,{A},{a},{t}\">✓</a><a class=\"red\" href=\"/cgi-bin/SKT/sktgraph?t=WX;lex=SH;cache=f;st=t;us=f;cp=t;text=kRewragAminA+varwmanA+gacCanwaM+yAwrikaM+apaSyaw;topic=;abs=f;corpmode=;corpdir=;sentno=;allSol=150;cpts=41,{A},{a},{f}\">✘</a></td><td align=\"left\" colspan=\"6\"><table class=\"deep_sky_back\">\n",
      "<tr><td onclick=\"showBox('{ acc. sg. n. | nom. sg. n. }[&lt;a href=&quot;http://sanskrit.inria.fr/DICO/39.html#pazyat&quot;&gt;&lt;i&gt;paśyat&lt;/i&gt;&lt;/a&gt; { ppr. [4] ac. }[&lt;a href=&quot;http://sanskrit.inria.fr/DICO/39.html#paz&quot;&gt;&lt;i&gt;paś&lt;/i&gt;&lt;/a&gt;]]&lt;a href=&quot;javascript:hideBox()&quot;&gt; ✘&lt;/a&gt;', '#00C0FF', this, event)\">paśyat</td></tr></table><a class=\"green\" href=\"/cgi-bin/SKT/sktgraph?t=WX;lex=SH;cache=f;st=t;us=f;cp=t;text=kRewragAminA+varwmanA+gacCanwaM+yAwrikaM+apaSyaw;topic=;abs=f;corpmode=;corpdir=;sentno=;allSol=150;cpts=42,{Kric},{pazyat},{t}\">✓</a><a class=\"red\" href=\"/cgi-bin/SKT/sktgraph?t=WX;lex=SH;cache=f;st=t;us=f;cp=t;text=kRewragAminA+varwmanA+gacCanwaM+yAwrikaM+apaSyaw;topic=;abs=f;corpmode=;corpdir=;sentno=;allSol=150;cpts=42,{Kric},{pazyat},{f}\">✘</a></td><td></td></tr>\n",
      "<tr><td></td><td></td><td></td><td></td><td></td><td></td><td></td><td></td><td></td><td></td><td></td><td></td><td></td><td></td><td></td><td></td><td></td><td></td><td></td><td></td><td></td><td></td><td></td><td></td><td></td><td></td><td></td><td></td><td></td><td></td><td></td><td></td><td></td><td></td><td></td><td></td><td></td><td></td><td></td><td></td><td></td><td></td><td align=\"left\" colspan=\"6\"><table class=\"lawngreen_back\">\n",
      "<tr><td onclick=\"showBox('{ voc. sg. n. }[&lt;a href=&quot;http://sanskrit.inria.fr/DICO/39.html#pazyat&quot;&gt;&lt;i&gt;paśyat&lt;/i&gt;&lt;/a&gt; { ppr. [4] ac. }[&lt;a href=&quot;http://sanskrit.inria.fr/DICO/39.html#paz&quot;&gt;&lt;i&gt;paś&lt;/i&gt;&lt;/a&gt;]]&lt;a href=&quot;javascript:hideBox()&quot;&gt; ✘&lt;/a&gt;', '#7CFC00', this, event)\">paśyat</td></tr></table><a class=\"green\" href=\"/cgi-bin/SKT/sktgraph?t=WX;lex=SH;cache=f;st=t;us=f;cp=t;text=kRewragAminA+varwmanA+gacCanwaM+yAwrikaM+apaSyaw;topic=;abs=f;corpmode=;corpdir=;sentno=;allSol=150;cpts=42,{Vokc},{pazyat},{t}\">✓</a><a class=\"red\" href=\"/cgi-bin/SKT/sktgraph?t=WX;lex=SH;cache=f;st=t;us=f;cp=t;text=kRewragAminA+varwmanA+gacCanwaM+yAwrikaM+apaSyaw;topic=;abs=f;corpmode=;corpdir=;sentno=;allSol=150;cpts=42,{Vokc},{pazyat},{f}\">✘</a></td><td></td></tr>\n",
      "<tr><td></td><td></td><td></td><td></td><td></td><td></td><td></td><td></td><td></td><td></td><td></td><td></td><td></td><td></td><td></td><td></td><td></td><td></td><td></td><td></td><td></td><td></td><td></td><td></td><td></td><td></td><td></td><td></td><td></td><td></td><td></td><td></td><td></td><td></td><td></td><td></td><td></td><td></td><td></td><td></td><td></td><td></td><td></td><td></td><td align=\"left\" colspan=\"4\"><table class=\"lawngreen_back\">\n",
      "<tr><td onclick=\"showBox('{ voc. sg. n. }[śyat { ppr. [4] ac. }[&lt;a href=&quot;http://sanskrit.inria.fr/DICO/63.html#zaa&quot;&gt;&lt;i&gt;śā&lt;/i&gt;&lt;/a&gt;]]&lt;a href=&quot;javascript:hideBox()&quot;&gt; ✘&lt;/a&gt;', '#7CFC00', this, event)\">śyat</td></tr></table><a class=\"green\" href=\"/cgi-bin/SKT/sktgraph?t=WX;lex=SH;cache=f;st=t;us=f;cp=t;text=kRewragAminA+varwmanA+gacCanwaM+yAwrikaM+apaSyaw;topic=;abs=f;corpmode=;corpdir=;sentno=;allSol=150;cpts=44,{Vokc},{zyat},{t}\">✓</a><a class=\"red\" href=\"/cgi-bin/SKT/sktgraph?t=WX;lex=SH;cache=f;st=t;us=f;cp=t;text=kRewragAminA+varwmanA+gacCanwaM+yAwrikaM+apaSyaw;topic=;abs=f;corpmode=;corpdir=;sentno=;allSol=150;cpts=44,{Vokc},{zyat},{f}\">✘</a></td><td></td></tr>\n",
      "</table>\n",
      "</div><br/>\n",
      "<br/>\n",
      "<br/>\n",
      "</td></tr></table>\n"
     ]
    }
   ],
   "source": [
    "table = soup.table\n",
    "print(table)"
   ]
  },
  {
   "cell_type": "code",
   "execution_count": 6,
   "metadata": {},
   "outputs": [
    {
     "name": "stdout",
     "output_type": "stream",
     "text": [
      "<table class=\"center\">\n",
      "<tr><td>k</td><td>ṣ</td><td>e</td><td>t</td><td>r</td><td>a</td><td>g</td><td>ā</td><td>m</td><td>i</td><td>n</td><td>ā</td><td>_</td><td>v</td><td>a</td><td>r</td><td>t</td><td>m</td><td>a</td><td>n</td><td>ā</td><td>_</td><td>g</td><td>a</td><td>c</td><td>ch</td><td>a</td><td>n</td><td>t</td><td>a</td><td>m</td><td> </td><td>y</td><td>ā</td><td>t</td><td>r</td><td>i</td><td>k</td><td>a</td><td>m</td><td> </td><td>a</td><td>p</td><td>a</td><td>ś</td><td>y</td><td>a</td><td>t</td><td> </td></tr>\n",
      "<tr><td align=\"left\" colspan=\"6\"><table class=\"yellow_back\">\n",
      "<tr><td onclick=\"showBox('{ iic. }[&lt;a href=&quot;http://sanskrit.inria.fr/DICO/23.html#k.setra&quot;&gt;&lt;i&gt;kṣetra&lt;/i&gt;&lt;/a&gt;]&lt;a href=&quot;javascript:hideBox()&quot;&gt; ✘&lt;/a&gt;', '#FFFF00', this, event)\">kṣetra</td></tr></table><span class=\"blue\">✓</span></td><td align=\"left\" colspan=\"6\"><table class=\"deep_sky_back\">\n",
      "<tr><td onclick=\"showBox('{ i. sg. m. | i. sg. n. }[&lt;a href=&quot;http://sanskrit.inria.fr/DICO/24.html#gaamin&quot;&gt;&lt;i&gt;gāmin&lt;/i&gt;&lt;/a&gt;]&lt;a href=&quot;javascript:hideBox()&quot;&gt; ✘&lt;/a&gt;', '#00C0FF', this, event)\">gāminā</td></tr></table><a class=\"green\" href=\"/cgi-bin/SKT/sktgraph?t=WX;lex=SH;cache=f;st=t;us=f;cp=t;text=kRewragAminA+varwmanA+gacCanwaM+yAwrikaM+apaSyaw;topic=;abs=f;corpmode=;corpdir=;sentno=;allSol=150;cpts=6,{Nouc},{gaaminaa},{t}\">✓</a><a class=\"red\" href=\"/cgi-bin/SKT/sktgraph?t=WX;lex=SH;cache=f;st=t;us=f;cp=t;text=kRewragAminA+varwmanA+gacCanwaM+yAwrikaM+apaSyaw;topic=;abs=f;corpmode=;corpdir=;sentno=;allSol=150;cpts=6,{Nouc},{gaaminaa},{f}\">✘</a></td><td></td><td align=\"left\" colspan=\"8\"><table class=\"deep_sky_back\">\n",
      "<tr><td onclick=\"showBox('{ i. sg. n. }[&lt;a href=&quot;http://sanskrit.inria.fr/DICO/57.html#vartman&quot;&gt;&lt;i&gt;vartman&lt;/i&gt;&lt;/a&gt;]&lt;a href=&quot;javascript:hideBox()&quot;&gt; ✘&lt;/a&gt;', '#00C0FF', this, event)\">vartmanā</td></tr></table><span class=\"blue\">✓</span></td><td></td><td align=\"left\" colspan=\"9\"><table class=\"deep_sky_back\">\n",
      "<tr><td onclick=\"showBox('{ acc. sg. m. }[&lt;a href=&quot;http://sanskrit.inria.fr/DICO/24.html#gacchat&quot;&gt;&lt;i&gt;gacchat&lt;/i&gt;&lt;/a&gt; { ppr. [1] ac. }[&lt;a href=&quot;http://sanskrit.inria.fr/DICO/24.html#gam&quot;&gt;&lt;i&gt;gam&lt;/i&gt;&lt;/a&gt;]]&lt;a href=&quot;javascript:hideBox()&quot;&gt; ✘&lt;/a&gt;', '#00C0FF', this, event)\">gacchantam</td></tr></table><a class=\"green\" href=\"/cgi-bin/SKT/sktgraph?t=WX;lex=SH;cache=f;st=t;us=f;cp=t;text=kRewragAminA+varwmanA+gacCanwaM+yAwrikaM+apaSyaw;topic=;abs=f;corpmode=;corpdir=;sentno=;allSol=150;cpts=22,{Kric},{gacchantam},{t}\">✓</a><a class=\"red\" href=\"/cgi-bin/SKT/sktgraph?t=WX;lex=SH;cache=f;st=t;us=f;cp=t;text=kRewragAminA+varwmanA+gacCanwaM+yAwrikaM+apaSyaw;topic=;abs=f;corpmode=;corpdir=;sentno=;allSol=150;cpts=22,{Kric},{gacchantam},{f}\">✘</a></td><td></td><td align=\"left\" colspan=\"8\"><table class=\"deep_sky_back\">\n",
      "<tr><td onclick=\"showBox('{ acc. sg. m. | acc. sg. n. | nom. sg. n. }[&lt;a href=&quot;http://sanskrit.inria.fr/DICO/53.html#yaatrika&quot;&gt;&lt;i&gt;yātrika&lt;/i&gt;&lt;/a&gt;]&lt;a href=&quot;javascript:hideBox()&quot;&gt; ✘&lt;/a&gt;', '#00C0FF', this, event)\">yātrikam</td></tr></table><a class=\"green\" href=\"/cgi-bin/SKT/sktgraph?t=WX;lex=SH;cache=f;st=t;us=f;cp=t;text=kRewragAminA+varwmanA+gacCanwaM+yAwrikaM+apaSyaw;topic=;abs=f;corpmode=;corpdir=;sentno=;allSol=150;cpts=32,{Nouc},{yaatrikam},{t}\">✓</a><a class=\"red\" href=\"/cgi-bin/SKT/sktgraph?t=WX;lex=SH;cache=f;st=t;us=f;cp=t;text=kRewragAminA+varwmanA+gacCanwaM+yAwrikaM+apaSyaw;topic=;abs=f;corpmode=;corpdir=;sentno=;allSol=150;cpts=32,{Nouc},{yaatrikam},{f}\">✘</a></td><td></td><td align=\"left\" colspan=\"7\"><table class=\"carmin_back\">\n",
      "<tr><td onclick=\"showBox('{ impft. [4] ac. sg. 3 }[&lt;a href=&quot;http://sanskrit.inria.fr/DICO/39.html#paz&quot;&gt;&lt;i&gt;paś&lt;/i&gt;&lt;/a&gt;]&lt;a href=&quot;javascript:hideBox()&quot;&gt; ✘&lt;/a&gt;', '#FF1975', this, event)\">apaśyat</td></tr></table><a class=\"green\" href=\"/cgi-bin/SKT/sktgraph?t=WX;lex=SH;cache=f;st=t;us=f;cp=t;text=kRewragAminA+varwmanA+gacCanwaM+yAwrikaM+apaSyaw;topic=;abs=f;corpmode=;corpdir=;sentno=;allSol=150;cpts=41,{Root},{apazyat},{t}\">✓</a><a class=\"red\" href=\"/cgi-bin/SKT/sktgraph?t=WX;lex=SH;cache=f;st=t;us=f;cp=t;text=kRewragAminA+varwmanA+gacCanwaM+yAwrikaM+apaSyaw;topic=;abs=f;corpmode=;corpdir=;sentno=;allSol=150;cpts=41,{Root},{apazyat},{f}\">✘</a></td><td></td></tr>\n",
      "<tr><td></td><td></td><td></td><td></td><td></td><td></td><td align=\"left\" colspan=\"3\"><table class=\"deep_sky_back\">\n",
      "<tr><td onclick=\"showBox('{ acc. sg. m. | acc. sg. f. }[&lt;a href=&quot;http://sanskrit.inria.fr/DICO/25.html#go&quot;&gt;&lt;i&gt;go&lt;/i&gt;&lt;/a&gt;]&lt;a href=&quot;javascript:hideBox()&quot;&gt; ✘&lt;/a&gt;', '#00C0FF', this, event)\">gām</td></tr></table><a class=\"green\" href=\"/cgi-bin/SKT/sktgraph?t=WX;lex=SH;cache=f;st=t;us=f;cp=t;text=kRewragAminA+varwmanA+gacCanwaM+yAwrikaM+apaSyaw;topic=;abs=f;corpmode=;corpdir=;sentno=;allSol=150;cpts=6,{Nouc},{gaam},{t}\">✓</a><a class=\"red\" href=\"/cgi-bin/SKT/sktgraph?t=WX;lex=SH;cache=f;st=t;us=f;cp=t;text=kRewragAminA+varwmanA+gacCanwaM+yAwrikaM+apaSyaw;topic=;abs=f;corpmode=;corpdir=;sentno=;allSol=150;cpts=6,{Nouc},{gaam},{f}\">✘</a></td><td align=\"left\" colspan=\"4\"><table class=\"deep_sky_back\">\n",
      "<tr><td onclick=\"showBox('{ nom. pl. m. | acc. pl. f. | nom. pl. f. }[&lt;a href=&quot;http://sanskrit.inria.fr/DICO/11.html#ina&quot;&gt;&lt;i&gt;ina&lt;/i&gt;&lt;/a&gt;]&lt;a href=&quot;javascript:hideBox()&quot;&gt; ✘&lt;/a&gt;', '#00C0FF', this, event)\">ināḥ</td></tr></table><a class=\"green\" href=\"/cgi-bin/SKT/sktgraph?t=WX;lex=SH;cache=f;st=t;us=f;cp=t;text=kRewragAminA+varwmanA+gacCanwaM+yAwrikaM+apaSyaw;topic=;abs=f;corpmode=;corpdir=;sentno=;allSol=150;cpts=9,{Nouv},{inaas},{t}\">✓</a><a class=\"red\" href=\"/cgi-bin/SKT/sktgraph?t=WX;lex=SH;cache=f;st=t;us=f;cp=t;text=kRewragAminA+varwmanA+gacCanwaM+yAwrikaM+apaSyaw;topic=;abs=f;corpmode=;corpdir=;sentno=;allSol=150;cpts=9,{Nouv},{inaas},{f}\">✘</a></td><td></td><td></td><td></td><td></td><td></td><td></td><td></td><td></td><td></td><td align=\"left\" colspan=\"6\"><table class=\"deep_sky_back\">\n",
      "<tr><td onclick=\"showBox('{ acc. sg. m. }[&lt;a href=&quot;http://sanskrit.inria.fr/DICO/24.html#gaccha&quot;&gt;&lt;i&gt;gaccha&lt;/i&gt;&lt;/a&gt;]&lt;a href=&quot;javascript:hideBox()&quot;&gt; ✘&lt;/a&gt;', '#00C0FF', this, event)\">gaccham</td></tr></table><a class=\"green\" href=\"/cgi-bin/SKT/sktgraph?t=WX;lex=SH;cache=f;st=t;us=f;cp=t;text=kRewragAminA+varwmanA+gacCanwaM+yAwrikaM+apaSyaw;topic=;abs=f;corpmode=;corpdir=;sentno=;allSol=150;cpts=22,{Nouc},{gaccham},{t}\">✓</a><a class=\"red\" href=\"/cgi-bin/SKT/sktgraph?t=WX;lex=SH;cache=f;st=t;us=f;cp=t;text=kRewragAminA+varwmanA+gacCanwaM+yAwrikaM+apaSyaw;topic=;abs=f;corpmode=;corpdir=;sentno=;allSol=150;cpts=22,{Nouc},{gaccham},{f}\">✘</a></td><td align=\"left\" colspan=\"3\"><table class=\"light_blue_back\">\n",
      "<tr><td onclick=\"showBox('{ acc. sg. m. }[&lt;a href=&quot;http://sanskrit.inria.fr/DICO/28.html#tad&quot;&gt;&lt;i&gt;tad&lt;/i&gt;&lt;/a&gt;]&lt;a href=&quot;javascript:hideBox()&quot;&gt; ✘&lt;/a&gt;', '#ADD8E6', this, event)\">tam</td></tr></table><a class=\"green\" href=\"/cgi-bin/SKT/sktgraph?t=WX;lex=SH;cache=f;st=t;us=f;cp=t;text=kRewragAminA+varwmanA+gacCanwaM+yAwrikaM+apaSyaw;topic=;abs=f;corpmode=;corpdir=;sentno=;allSol=150;cpts=28,{Pron},{tam},{t}\">✓</a><a class=\"red\" href=\"/cgi-bin/SKT/sktgraph?t=WX;lex=SH;cache=f;st=t;us=f;cp=t;text=kRewragAminA+varwmanA+gacCanwaM+yAwrikaM+apaSyaw;topic=;abs=f;corpmode=;corpdir=;sentno=;allSol=150;cpts=28,{Pron},{tam},{f}\">✘</a></td><td></td><td align=\"left\" colspan=\"2\"><table class=\"light_blue_back\">\n",
      "<tr><td onclick=\"showBox('{ nom. sg. f. }[&lt;a href=&quot;http://sanskrit.inria.fr/DICO/53.html#yad&quot;&gt;&lt;i&gt;yad&lt;/i&gt;&lt;/a&gt;]&lt;a href=&quot;javascript:hideBox()&quot;&gt; ✘&lt;/a&gt;', '#ADD8E6', this, event)\">yā</td></tr></table><a class=\"green\" href=\"/cgi-bin/SKT/sktgraph?t=WX;lex=SH;cache=f;st=t;us=f;cp=t;text=kRewragAminA+varwmanA+gacCanwaM+yAwrikaM+apaSyaw;topic=;abs=f;corpmode=;corpdir=;sentno=;allSol=150;cpts=32,{Pron},{yaa},{t}\">✓</a><a class=\"red\" href=\"/cgi-bin/SKT/sktgraph?t=WX;lex=SH;cache=f;st=t;us=f;cp=t;text=kRewragAminA+varwmanA+gacCanwaM+yAwrikaM+apaSyaw;topic=;abs=f;corpmode=;corpdir=;sentno=;allSol=150;cpts=32,{Pron},{yaa},{f}\">✘</a></td><td align=\"left\" colspan=\"6\"><table class=\"deep_sky_back\">\n",
      "<tr><td onclick=\"showBox('{ acc. sg. m. | acc. sg. n. | nom. sg. n. }[&lt;a href=&quot;http://sanskrit.inria.fr/DICO/30.html#trika&quot;&gt;&lt;i&gt;trika&lt;/i&gt;&lt;/a&gt;]&lt;a href=&quot;javascript:hideBox()&quot;&gt; ✘&lt;/a&gt;', '#00C0FF', this, event)\">trikam</td></tr></table><a class=\"green\" href=\"/cgi-bin/SKT/sktgraph?t=WX;lex=SH;cache=f;st=t;us=f;cp=t;text=kRewragAminA+varwmanA+gacCanwaM+yAwrikaM+apaSyaw;topic=;abs=f;corpmode=;corpdir=;sentno=;allSol=150;cpts=34,{Nouc},{trikam},{t}\">✓</a><a class=\"red\" href=\"/cgi-bin/SKT/sktgraph?t=WX;lex=SH;cache=f;st=t;us=f;cp=t;text=kRewragAminA+varwmanA+gacCanwaM+yAwrikaM+apaSyaw;topic=;abs=f;corpmode=;corpdir=;sentno=;allSol=150;cpts=34,{Nouc},{trikam},{f}\">✘</a></td><td></td><td align=\"left\" colspan=\"3\"><table class=\"mauve_back\">\n",
      "<tr><td onclick=\"showBox('{ prep. }[&lt;a href=&quot;http://sanskrit.inria.fr/DICO/4.html#apa&quot;&gt;&lt;i&gt;apa&lt;/i&gt;&lt;/a&gt;]&lt;a href=&quot;javascript:hideBox()&quot;&gt; ✘&lt;/a&gt;', '#FF99FF', this, event)\">apa</td></tr></table><a class=\"green\" href=\"/cgi-bin/SKT/sktgraph?t=WX;lex=SH;cache=f;st=t;us=f;cp=t;text=kRewragAminA+varwmanA+gacCanwaM+yAwrikaM+apaSyaw;topic=;abs=f;corpmode=;corpdir=;sentno=;allSol=150;cpts=41,{Inde},{apa},{t}\">✓</a><a class=\"red\" href=\"/cgi-bin/SKT/sktgraph?t=WX;lex=SH;cache=f;st=t;us=f;cp=t;text=kRewragAminA+varwmanA+gacCanwaM+yAwrikaM+apaSyaw;topic=;abs=f;corpmode=;corpdir=;sentno=;allSol=150;cpts=41,{Inde},{apa},{f}\">✘</a></td><td align=\"left\" colspan=\"4\"><table class=\"deep_sky_back\">\n",
      "<tr><td onclick=\"showBox('{ acc. sg. n. | nom. sg. n. }[śyat { ppr. [4] ac. }[&lt;a href=&quot;http://sanskrit.inria.fr/DICO/63.html#zaa&quot;&gt;&lt;i&gt;śā&lt;/i&gt;&lt;/a&gt;]]&lt;a href=&quot;javascript:hideBox()&quot;&gt; ✘&lt;/a&gt;', '#00C0FF', this, event)\">śyat</td></tr></table><a class=\"green\" href=\"/cgi-bin/SKT/sktgraph?t=WX;lex=SH;cache=f;st=t;us=f;cp=t;text=kRewragAminA+varwmanA+gacCanwaM+yAwrikaM+apaSyaw;topic=;abs=f;corpmode=;corpdir=;sentno=;allSol=150;cpts=44,{Kric},{zyat},{t}\">✓</a><a class=\"red\" href=\"/cgi-bin/SKT/sktgraph?t=WX;lex=SH;cache=f;st=t;us=f;cp=t;text=kRewragAminA+varwmanA+gacCanwaM+yAwrikaM+apaSyaw;topic=;abs=f;corpmode=;corpdir=;sentno=;allSol=150;cpts=44,{Kric},{zyat},{f}\">✘</a></td><td></td></tr>\n",
      "<tr><td></td><td></td><td></td><td></td><td></td><td></td><td align=\"left\" colspan=\"3\"><table class=\"cyan_back\">\n",
      "<tr><td onclick=\"showBox('{ acc. sg. f. }[&lt;a href=&quot;http://sanskrit.inria.fr/DICO/24.html#ga#1&quot;&gt;&lt;i&gt;ga_1&lt;/i&gt;&lt;/a&gt;]&lt;br&gt;{ acc. sg. f. }[&lt;a href=&quot;http://sanskrit.inria.fr/DICO/24.html#ga#2&quot;&gt;&lt;i&gt;ga_2&lt;/i&gt;&lt;/a&gt;]&lt;a href=&quot;javascript:hideBox()&quot;&gt; ✘&lt;/a&gt;', '#00FFFF', this, event)\">gām</td></tr></table><a class=\"green\" href=\"/cgi-bin/SKT/sktgraph?t=WX;lex=SH;cache=f;st=t;us=f;cp=t;text=kRewragAminA+varwmanA+gacCanwaM+yAwrikaM+apaSyaw;topic=;abs=f;corpmode=;corpdir=;sentno=;allSol=150;cpts=6,{Ifc},{gaam},{t}\">✓</a><a class=\"red\" href=\"/cgi-bin/SKT/sktgraph?t=WX;lex=SH;cache=f;st=t;us=f;cp=t;text=kRewragAminA+varwmanA+gacCanwaM+yAwrikaM+apaSyaw;topic=;abs=f;corpmode=;corpdir=;sentno=;allSol=150;cpts=6,{Ifc},{gaam},{f}\">✘</a></td><td align=\"left\" colspan=\"3\"><table class=\"deep_sky_back\">\n",
      "<tr><td onclick=\"showBox('{ nom. sg. f. }[&lt;a href=&quot;http://sanskrit.inria.fr/DICO/11.html#ina&quot;&gt;&lt;i&gt;ina&lt;/i&gt;&lt;/a&gt;]&lt;a href=&quot;javascript:hideBox()&quot;&gt; ✘&lt;/a&gt;', '#00C0FF', this, event)\">inā</td></tr></table><a class=\"green\" href=\"/cgi-bin/SKT/sktgraph?t=WX;lex=SH;cache=f;st=t;us=f;cp=t;text=kRewragAminA+varwmanA+gacCanwaM+yAwrikaM+apaSyaw;topic=;abs=f;corpmode=;corpdir=;sentno=;allSol=150;cpts=9,{Nouv},{inaa},{t}\">✓</a><a class=\"red\" href=\"/cgi-bin/SKT/sktgraph?t=WX;lex=SH;cache=f;st=t;us=f;cp=t;text=kRewragAminA+varwmanA+gacCanwaM+yAwrikaM+apaSyaw;topic=;abs=f;corpmode=;corpdir=;sentno=;allSol=150;cpts=9,{Nouv},{inaa},{f}\">✘</a></td><td></td><td></td><td></td><td></td><td></td><td></td><td></td><td></td><td></td><td></td><td></td><td></td><td></td><td></td><td></td><td></td><td></td><td></td><td></td><td></td><td></td><td align=\"left\" colspan=\"1\"><table class=\"yellow_back\">\n",
      "<tr><td onclick=\"showBox('{ iic. }[&lt;a href=&quot;http://sanskrit.inria.fr/DICO/1.html#a&quot;&gt;&lt;i&gt;a&lt;/i&gt;&lt;/a&gt;]&lt;a href=&quot;javascript:hideBox()&quot;&gt; ✘&lt;/a&gt;', '#FFFF00', this, event)\">a</td></tr></table><a class=\"green\" href=\"/cgi-bin/SKT/sktgraph?t=WX;lex=SH;cache=f;st=t;us=f;cp=t;text=kRewragAminA+varwmanA+gacCanwaM+yAwrikaM+apaSyaw;topic=;abs=f;corpmode=;corpdir=;sentno=;allSol=150;cpts=33,{A},{a},{t}\">✓</a><a class=\"red\" href=\"/cgi-bin/SKT/sktgraph?t=WX;lex=SH;cache=f;st=t;us=f;cp=t;text=kRewragAminA+varwmanA+gacCanwaM+yAwrikaM+apaSyaw;topic=;abs=f;corpmode=;corpdir=;sentno=;allSol=150;cpts=33,{A},{a},{f}\">✘</a></td><td></td><td></td><td></td><td></td><td></td><td></td><td></td><td align=\"left\" colspan=\"1\"><table class=\"yellow_back\">\n",
      "<tr><td onclick=\"showBox('{ iic. }[&lt;a href=&quot;http://sanskrit.inria.fr/DICO/1.html#a&quot;&gt;&lt;i&gt;a&lt;/i&gt;&lt;/a&gt;]&lt;a href=&quot;javascript:hideBox()&quot;&gt; ✘&lt;/a&gt;', '#FFFF00', this, event)\">a</td></tr></table><a class=\"green\" href=\"/cgi-bin/SKT/sktgraph?t=WX;lex=SH;cache=f;st=t;us=f;cp=t;text=kRewragAminA+varwmanA+gacCanwaM+yAwrikaM+apaSyaw;topic=;abs=f;corpmode=;corpdir=;sentno=;allSol=150;cpts=41,{A},{a},{t}\">✓</a><a class=\"red\" href=\"/cgi-bin/SKT/sktgraph?t=WX;lex=SH;cache=f;st=t;us=f;cp=t;text=kRewragAminA+varwmanA+gacCanwaM+yAwrikaM+apaSyaw;topic=;abs=f;corpmode=;corpdir=;sentno=;allSol=150;cpts=41,{A},{a},{f}\">✘</a></td><td align=\"left\" colspan=\"6\"><table class=\"deep_sky_back\">\n",
      "<tr><td onclick=\"showBox('{ acc. sg. n. | nom. sg. n. }[&lt;a href=&quot;http://sanskrit.inria.fr/DICO/39.html#pazyat&quot;&gt;&lt;i&gt;paśyat&lt;/i&gt;&lt;/a&gt; { ppr. [4] ac. }[&lt;a href=&quot;http://sanskrit.inria.fr/DICO/39.html#paz&quot;&gt;&lt;i&gt;paś&lt;/i&gt;&lt;/a&gt;]]&lt;a href=&quot;javascript:hideBox()&quot;&gt; ✘&lt;/a&gt;', '#00C0FF', this, event)\">paśyat</td></tr></table><a class=\"green\" href=\"/cgi-bin/SKT/sktgraph?t=WX;lex=SH;cache=f;st=t;us=f;cp=t;text=kRewragAminA+varwmanA+gacCanwaM+yAwrikaM+apaSyaw;topic=;abs=f;corpmode=;corpdir=;sentno=;allSol=150;cpts=42,{Kric},{pazyat},{t}\">✓</a><a class=\"red\" href=\"/cgi-bin/SKT/sktgraph?t=WX;lex=SH;cache=f;st=t;us=f;cp=t;text=kRewragAminA+varwmanA+gacCanwaM+yAwrikaM+apaSyaw;topic=;abs=f;corpmode=;corpdir=;sentno=;allSol=150;cpts=42,{Kric},{pazyat},{f}\">✘</a></td><td></td></tr>\n",
      "<tr><td></td><td></td><td></td><td></td><td></td><td></td><td></td><td></td><td></td><td></td><td></td><td></td><td></td><td></td><td></td><td></td><td></td><td></td><td></td><td></td><td></td><td></td><td></td><td></td><td></td><td></td><td></td><td></td><td></td><td></td><td></td><td></td><td></td><td></td><td></td><td></td><td></td><td></td><td></td><td></td><td></td><td></td><td align=\"left\" colspan=\"6\"><table class=\"lawngreen_back\">\n",
      "<tr><td onclick=\"showBox('{ voc. sg. n. }[&lt;a href=&quot;http://sanskrit.inria.fr/DICO/39.html#pazyat&quot;&gt;&lt;i&gt;paśyat&lt;/i&gt;&lt;/a&gt; { ppr. [4] ac. }[&lt;a href=&quot;http://sanskrit.inria.fr/DICO/39.html#paz&quot;&gt;&lt;i&gt;paś&lt;/i&gt;&lt;/a&gt;]]&lt;a href=&quot;javascript:hideBox()&quot;&gt; ✘&lt;/a&gt;', '#7CFC00', this, event)\">paśyat</td></tr></table><a class=\"green\" href=\"/cgi-bin/SKT/sktgraph?t=WX;lex=SH;cache=f;st=t;us=f;cp=t;text=kRewragAminA+varwmanA+gacCanwaM+yAwrikaM+apaSyaw;topic=;abs=f;corpmode=;corpdir=;sentno=;allSol=150;cpts=42,{Vokc},{pazyat},{t}\">✓</a><a class=\"red\" href=\"/cgi-bin/SKT/sktgraph?t=WX;lex=SH;cache=f;st=t;us=f;cp=t;text=kRewragAminA+varwmanA+gacCanwaM+yAwrikaM+apaSyaw;topic=;abs=f;corpmode=;corpdir=;sentno=;allSol=150;cpts=42,{Vokc},{pazyat},{f}\">✘</a></td><td></td></tr>\n",
      "<tr><td></td><td></td><td></td><td></td><td></td><td></td><td></td><td></td><td></td><td></td><td></td><td></td><td></td><td></td><td></td><td></td><td></td><td></td><td></td><td></td><td></td><td></td><td></td><td></td><td></td><td></td><td></td><td></td><td></td><td></td><td></td><td></td><td></td><td></td><td></td><td></td><td></td><td></td><td></td><td></td><td></td><td></td><td></td><td></td><td align=\"left\" colspan=\"4\"><table class=\"lawngreen_back\">\n",
      "<tr><td onclick=\"showBox('{ voc. sg. n. }[śyat { ppr. [4] ac. }[&lt;a href=&quot;http://sanskrit.inria.fr/DICO/63.html#zaa&quot;&gt;&lt;i&gt;śā&lt;/i&gt;&lt;/a&gt;]]&lt;a href=&quot;javascript:hideBox()&quot;&gt; ✘&lt;/a&gt;', '#7CFC00', this, event)\">śyat</td></tr></table><a class=\"green\" href=\"/cgi-bin/SKT/sktgraph?t=WX;lex=SH;cache=f;st=t;us=f;cp=t;text=kRewragAminA+varwmanA+gacCanwaM+yAwrikaM+apaSyaw;topic=;abs=f;corpmode=;corpdir=;sentno=;allSol=150;cpts=44,{Vokc},{zyat},{t}\">✓</a><a class=\"red\" href=\"/cgi-bin/SKT/sktgraph?t=WX;lex=SH;cache=f;st=t;us=f;cp=t;text=kRewragAminA+varwmanA+gacCanwaM+yAwrikaM+apaSyaw;topic=;abs=f;corpmode=;corpdir=;sentno=;allSol=150;cpts=44,{Vokc},{zyat},{f}\">✘</a></td><td></td></tr>\n",
      "</table>\n"
     ]
    }
   ],
   "source": [
    "tablebody = table.find('table',{'class' : 'center'})\n",
    "print(tablebody)"
   ]
  },
  {
   "cell_type": "code",
   "execution_count": 7,
   "metadata": {},
   "outputs": [
    {
     "data": {
      "text/html": [
       "<div>\n",
       "<style>\n",
       "    .dataframe thead tr:only-child th {\n",
       "        text-align: right;\n",
       "    }\n",
       "\n",
       "    .dataframe thead th {\n",
       "        text-align: left;\n",
       "    }\n",
       "\n",
       "    .dataframe tbody tr th {\n",
       "        vertical-align: top;\n",
       "    }\n",
       "</style>\n",
       "<table border=\"1\" class=\"dataframe\">\n",
       "  <thead>\n",
       "    <tr style=\"text-align: right;\">\n",
       "      <th></th>\n",
       "      <th>id</th>\n",
       "      <th>level</th>\n",
       "      <th>color_class</th>\n",
       "      <th>position</th>\n",
       "      <th>chunk_no</th>\n",
       "      <th>word</th>\n",
       "      <th>lemma</th>\n",
       "      <th>morph</th>\n",
       "      <th>colspan</th>\n",
       "      <th>wordlenth</th>\n",
       "      <th>pre_verb</th>\n",
       "      <th>aux_inf</th>\n",
       "    </tr>\n",
       "  </thead>\n",
       "  <tbody>\n",
       "  </tbody>\n",
       "</table>\n",
       "</div>"
      ],
      "text/plain": [
       "Empty DataFrame\n",
       "Columns: [id, level, color_class, position, chunk_no, word, lemma, morph, colspan, wordlenth, pre_verb, aux_inf]\n",
       "Index: []"
      ]
     },
     "execution_count": 7,
     "metadata": {},
     "output_type": "execute_result"
    }
   ],
   "source": [
    "t = pd.DataFrame(columns = ['id','level','color_class','position','chunk_no','word','lemma','morph','colspan','wordlenth','pre_verb','aux_inf'])\n",
    "t\n"
   ]
  },
  {
   "cell_type": "code",
   "execution_count": 8,
   "metadata": {},
   "outputs": [
    {
     "name": "stdout",
     "output_type": "stream",
     "text": [
      "tr\n",
      "tr\n",
      "tr\n",
      "tr\n",
      "tr\n",
      "tr\n"
     ]
    }
   ],
   "source": [
    "# print(tablebody.children\n",
    "#      )\n",
    "# print(\"\\n\\n\\n\")\n",
    "for child in tablebody.children:\n",
    "    if(child.name == 'tr') :\n",
    "        print(child.name)"
   ]
  },
  {
   "cell_type": "code",
   "execution_count": 9,
   "metadata": {},
   "outputs": [
    {
     "data": {
      "text/plain": [
       "('id',\n",
       " 'level',\n",
       " 'color_class',\n",
       " 'position',\n",
       " 'chunk_no',\n",
       " 'word',\n",
       " 'lemma',\n",
       " 'morph',\n",
       " 'colspan',\n",
       " 'wordlenth',\n",
       " 'pre_verb',\n",
       " 'aux_inf')"
      ]
     },
     "execution_count": 9,
     "metadata": {},
     "output_type": "execute_result"
    }
   ],
   "source": [
    "'id','level','color_class','position','chunk_no','word','lemma','morph','colspan','wordlenth','pre_verb','aux_inf'"
   ]
  },
  {
   "cell_type": "code",
   "execution_count": 10,
   "metadata": {},
   "outputs": [
    {
     "name": "stdout",
     "output_type": "stream",
     "text": [
      "yellow_back\n",
      "6\n",
      "kṣetra\n",
      "showBox('{ iic. }[<a href=\"http://sanskrit.inria.fr/DICO/23.html#k.setra\"><i>kṣetra</i></a>]<a href=\"javascript:hideBox()\"> ✘</a>', '#FFFF00', this, event)\n",
      "<_sre.SRE_Match object; span=(9, 17), match='{ iic. }'>\n",
      "kṣetra\n"
     ]
    }
   ],
   "source": [
    "i = -1\n",
    "id_= 0\n",
    "for child in tablebody.children:\n",
    "    if(child.name == 'tr') :\n",
    "        if i==-1 : \n",
    "            i = i+1\n",
    "            continue\n",
    "        for wordtable in child.children:\n",
    "            if(wordtable.contents):\n",
    "                color_ = wordtable.table.get('class')[0]\n",
    "                colspan_= wordtable.get('colspan')\n",
    "                word_ = wordtable.table.tr.td.string\n",
    "                onclickdata_ = wordtable.table.tr.td.get('onclick')\n",
    "                morphobj_ = re.search(r'{(.*)}',onclickdata_)\n",
    "                lemma_ = re.search(r'<i>(.*)</i>',onclickdata_).group(1)\n",
    "                \n",
    "                \n",
    "                \n",
    "                break\n",
    "        break\n",
    "        \n",
    "        i = i+1\n",
    "print(color_)\n",
    "print(colspan_)\n",
    "print(word_)\n",
    "print(onclickdata_)\n",
    "print(morphobj_)\n",
    "print(lemma_)"
   ]
  },
  {
   "cell_type": "code",
   "execution_count": null,
   "metadata": {
    "collapsed": true
   },
   "outputs": [],
   "source": []
  },
  {
   "cell_type": "code",
   "execution_count": null,
   "metadata": {},
   "outputs": [],
   "source": []
  },
  {
   "cell_type": "code",
   "execution_count": null,
   "metadata": {
    "collapsed": true
   },
   "outputs": [],
   "source": []
  }
 ],
 "metadata": {
  "kernelspec": {
   "display_name": "Python 3",
   "language": "python",
   "name": "python3"
  },
  "language_info": {
   "codemirror_mode": {
    "name": "ipython",
    "version": 3
   },
   "file_extension": ".py",
   "mimetype": "text/x-python",
   "name": "python",
   "nbconvert_exporter": "python",
   "pygments_lexer": "ipython3",
   "version": "3.6.3"
  }
 },
 "nbformat": 4,
 "nbformat_minor": 2
}
